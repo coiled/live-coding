{
 "cells": [
  {
   "cell_type": "code",
   "execution_count": 93,
   "metadata": {
    "ExecuteTime": {
     "end_time": "2020-07-30T20:27:52.129117Z",
     "start_time": "2020-07-30T20:27:52.123519Z"
    }
   },
   "outputs": [],
   "source": [
    "# default_exp core"
   ]
  },
  {
   "cell_type": "markdown",
   "metadata": {},
   "source": [
    "# Intent classifier (airedale)\n"
   ]
  },
  {
   "cell_type": "markdown",
   "metadata": {},
   "source": [
    "## Motivation\n"
   ]
  },
  {
   "cell_type": "markdown",
   "metadata": {},
   "source": [
    "![app](assets/app_french_2.png)\n",
    "\n",
    "\n",
    "\n",
    "\n",
    "\n",
    "\n",
    "\n",
    "![serach pipeline](assets/Weak_Supervision_Lighting_Talk_-_Google_Slides.png)"
   ]
  },
  {
   "cell_type": "markdown",
   "metadata": {},
   "source": [
    "## Task\n",
    "\n"
   ]
  },
  {
   "cell_type": "markdown",
   "metadata": {},
   "source": [
    "Text Classification\n",
    "\n",
    "\n",
    "\n",
    "![](assets/Intent_Pipeline.png)"
   ]
  },
  {
   "cell_type": "markdown",
   "metadata": {},
   "source": [
    "## Setup"
   ]
  },
  {
   "cell_type": "code",
   "execution_count": 94,
   "metadata": {
    "ExecuteTime": {
     "end_time": "2020-07-30T20:27:52.135135Z",
     "start_time": "2020-07-30T20:27:52.131553Z"
    }
   },
   "outputs": [],
   "source": [
    "# !pip install yapf jupyter_contrib_nbextensions -q\n",
    "# !jupyter contrib nbextension install --user \n",
    "# !jupyter nbextension enable codefolding/main \n",
    "# !jupyter nbextension enable scratchpad/main\n",
    "# !jupyter nbextension enable code_prettify/code_prettify\n",
    "# !jupyter nbextension enable toc2/main\n",
    "# !jupyter nbextension enable execute_time/ExecuteTime\n",
    "# !jupyter nbextension enable collapsible_headings/main"
   ]
  },
  {
   "cell_type": "code",
   "execution_count": 95,
   "metadata": {
    "ExecuteTime": {
     "end_time": "2020-07-30T20:28:04.220904Z",
     "start_time": "2020-07-30T20:27:52.137545Z"
    }
   },
   "outputs": [
    {
     "name": "stdout",
     "output_type": "stream",
     "text": [
      "\u001b[31mERROR: After October 2020 you may experience errors when installing or updating packages. This is because pip will change the way that it resolves dependency conflicts.\r\n",
      "\r\n",
      "We recommend you use --use-feature=2020-resolver to test your packages with the new resolver before it becomes the default.\r\n",
      "\r\n",
      "tensorflow-transform 0.15.0 requires tensorflow<2.2,>=1.15, which is not installed.\r\n",
      "tfx-bsl 0.15.0 requires pyarrow<0.15.0,>=0.14.0, but you'll have pyarrow 1.0.0 which is incompatible.\r\n",
      "apache-beam 2.23.0 requires dill<0.3.2,>=0.3.1.1, but you'll have dill 0.3.2 which is incompatible.\r\n",
      "apache-beam 2.23.0 requires pyarrow<0.18.0,>=0.15.1; python_version >= \"3.0\" or platform_system != \"Windows\", but you'll have pyarrow 1.0.0 which is incompatible.\u001b[0m\r\n"
     ]
    }
   ],
   "source": [
    "!pip install --upgrade pip -q\n",
    "!pip install --upgrade -q \\\n",
    "    fsspec>=0.3.3 \\\n",
    "    s3fs>=0.3.0 \\\n",
    "    pyarrow \\\n",
    "    dask==2.14.0 \\\n",
    "    distributed==2.14.0 \\\n",
    "    pandas==0.25.0 \\\n",
    "    tqdm \\\n",
    "    snorkel \\\n",
    "    scikit-learn \\\n",
    "    pathos \\\n",
    "    nbdev\n"
   ]
  },
  {
   "cell_type": "code",
   "execution_count": 96,
   "metadata": {
    "ExecuteTime": {
     "end_time": "2020-07-30T20:28:04.226541Z",
     "start_time": "2020-07-30T20:28:04.223353Z"
    }
   },
   "outputs": [],
   "source": [
    "# %load_ext autoreload\n",
    "# %autoreload 2"
   ]
  },
  {
   "cell_type": "code",
   "execution_count": 97,
   "metadata": {
    "ExecuteTime": {
     "end_time": "2020-07-30T20:28:04.233411Z",
     "start_time": "2020-07-30T20:28:04.229596Z"
    }
   },
   "outputs": [],
   "source": [
    "#hide\n",
    "from nbdev.showdoc import *"
   ]
  },
  {
   "cell_type": "code",
   "execution_count": 98,
   "metadata": {
    "ExecuteTime": {
     "end_time": "2020-07-30T20:28:04.242474Z",
     "start_time": "2020-07-30T20:28:04.237355Z"
    }
   },
   "outputs": [],
   "source": [
    "# export\n",
    "import csv\n",
    "import os\n",
    "import sys\n",
    "import math\n",
    "from collections import Counter\n",
    "\n",
    "import numpy as np\n",
    "np.set_printoptions(suppress=True)\n",
    "\n",
    "import pandas as pd\n",
    "\n",
    "import dask.dataframe as dd\n",
    "from dask.distributed import Client, LocalCluster #KEY!!\n",
    "\n",
    "from intent_clf_airedale.gibberish_detector import *\n",
    "from intent_clf_airedale.utils import *\n",
    "from intent_clf_airedale.constants import *"
   ]
  },
  {
   "cell_type": "code",
   "execution_count": 99,
   "metadata": {
    "ExecuteTime": {
     "end_time": "2020-07-30T20:28:04.270535Z",
     "start_time": "2020-07-30T20:28:04.245756Z"
    }
   },
   "outputs": [],
   "source": [
    "from tqdm.notebook import tqdm\n",
    "import matplotlib.pyplot as plt\n",
    "%matplotlib inline\n",
    "%config InlineBackend.figure_format = 'retina'\n",
    "pd.options.display.float_format = '{:.2f}'.format\n",
    "pd.set_option('display.max_colwidth', -1)"
   ]
  },
  {
   "cell_type": "markdown",
   "metadata": {},
   "source": [
    "### Dask Cluster\n",
    "\n",
    "For this demo we will use only 1 node"
   ]
  },
  {
   "cell_type": "code",
   "execution_count": 100,
   "metadata": {
    "ExecuteTime": {
     "end_time": "2020-07-30T20:28:06.982587Z",
     "start_time": "2020-07-30T20:28:04.272807Z"
    }
   },
   "outputs": [
    {
     "name": "stderr",
     "output_type": "stream",
     "text": [
      "/home/ubuntu/anaconda3/envs/tensorflow_p36/lib/python3.6/site-packages/distributed/dashboard/core.py:79: UserWarning: \n",
      "Port 8787 is already in use. \n",
      "Perhaps you already have a cluster running?\n",
      "Hosting the diagnostics dashboard on a random port instead.\n",
      "  warnings.warn(\"\\n\" + msg)\n"
     ]
    },
    {
     "data": {
      "application/vnd.jupyter.widget-view+json": {
       "model_id": "c847869c477c4f41939183994fb59737",
       "version_major": 2,
       "version_minor": 0
      },
      "text/plain": [
       "VBox(children=(HTML(value='<h2>LocalCluster</h2>'), HBox(children=(HTML(value='\\n<div>\\n  <style scoped>\\n    …"
      ]
     },
     "metadata": {},
     "output_type": "display_data"
    }
   ],
   "source": [
    "cluster = LocalCluster(ip=\"0.0.0.0\")\n",
    "client = Client(cluster)\n",
    "cluster \n",
    "#c4.8xl has 18 cores and 32vcores\n",
    "#m4.10xl has 20 cores"
   ]
  },
  {
   "cell_type": "markdown",
   "metadata": {},
   "source": [
    "## ETL\n",
    "\n"
   ]
  },
  {
   "cell_type": "markdown",
   "metadata": {},
   "source": [
    "Extract all of the data sources we will need for labeling functions:\n",
    "\n",
    "* knowledge bases\n",
    "* pre-trained models\n",
    "* keyword lists\n",
    "\n",
    "\n",
    "and the unlabeled raw search queries\n",
    "\n",
    "All ETL is against data lake and powered by Dask"
   ]
  },
  {
   "cell_type": "code",
   "execution_count": 101,
   "metadata": {
    "ExecuteTime": {
     "end_time": "2020-07-30T20:28:06.990658Z",
     "start_time": "2020-07-30T20:28:06.985744Z"
    }
   },
   "outputs": [],
   "source": [
    "from intent_clf_airedale.ETL import *"
   ]
  },
  {
   "cell_type": "code",
   "execution_count": 102,
   "metadata": {
    "ExecuteTime": {
     "end_time": "2020-07-30T20:28:07.005443Z",
     "start_time": "2020-07-30T20:28:06.993452Z"
    }
   },
   "outputs": [
    {
     "data": {
      "text/plain": [
       "{0: 'CUISINE',\n",
       " 1: 'DISH',\n",
       " 2: 'RESTAURANT',\n",
       " 3: 'ADDRESS',\n",
       " 4: 'DIET',\n",
       " 5: 'ALCOHOL',\n",
       " 6: 'TOBACCO',\n",
       " 7: 'MEAL_TIME',\n",
       " 8: 'OTHER',\n",
       " -1: 'ABSTAIN'}"
      ]
     },
     "execution_count": 102,
     "metadata": {},
     "output_type": "execute_result"
    }
   ],
   "source": [
    "# export\n",
    "LABEL_SET = [\"CUISINE\", \"DISH\", \"RESTAURANT\", \"ADDRESS\", \"DIET\", \"ALCOHOL\", \"TOBACCO\", \"MEAL_TIME\", \"OTHER\"]\n",
    "LABEL_MAPPING = {label:i for i, label in enumerate(LABEL_SET)}\n",
    "ABSTAIN=-1\n",
    "LABEL_MAPPING\n",
    "\n",
    "INV_LABEL_MAPPING={v: k for k,v in LABEL_MAPPING.items()}\n",
    "INV_LABEL_MAPPING.update({-1: \"ABSTAIN\"})\n",
    "INV_LABEL_MAPPING"
   ]
  },
  {
   "cell_type": "code",
   "execution_count": 103,
   "metadata": {
    "ExecuteTime": {
     "end_time": "2020-07-30T20:29:06.868515Z",
     "start_time": "2020-07-30T20:28:07.007832Z"
    }
   },
   "outputs": [
    {
     "data": {
      "text/plain": [
       "(166, 203)"
      ]
     },
     "execution_count": 103,
     "metadata": {},
     "output_type": "execute_result"
    }
   ],
   "source": [
    "merchant_set = extract_restaurants()\n",
    "cuisine_set = extract_cuisines()\n",
    "dish_set = extract_dishes()\n",
    "team_kb = extract_team_labels(KB_PATH, LABEL_SET)\n",
    "merchant_heuristics_set = extract_merchant_heuristics(MERCHANT_HEURISTICS_PATH)\n",
    "intent_1000k_kb = extract_spelling_and_intent_1000(SPELLING_AND_INTENT_1000_MODIFIED)\n",
    "dev_ddf = dd.from_pandas(extract_dev_set(KB_PATH, LABEL_MAPPING), npartitions=1)\n",
    "df_test = extract_test_set(TEST_SET_PATH, LABEL_SET)\n",
    "\n",
    "cuisine_set_resolved, dish_set_resolved, merchant_set_resolved = resolve_conflicts(\n",
    "    cuisine_set, dish_set, merchant_set)\n",
    "len(cuisine_set), len(cuisine_set_resolved)"
   ]
  },
  {
   "cell_type": "code",
   "execution_count": 182,
   "metadata": {
    "ExecuteTime": {
     "end_time": "2020-07-30T21:28:10.256477Z",
     "start_time": "2020-07-30T21:28:08.990731Z"
    }
   },
   "outputs": [
    {
     "name": "stdout",
     "output_type": "stream",
     "text": [
      "175\n"
     ]
    },
    {
     "data": {
      "text/plain": [
       "105"
      ]
     },
     "execution_count": 182,
     "metadata": {},
     "output_type": "execute_result"
    }
   ],
   "source": [
    "cnt_ddf = extract_search_query_text(START, END)\n",
    "cnt_ddf = cnt_ddf.persist()\n",
    "cnt_ddf.npartitions"
   ]
  },
  {
   "cell_type": "code",
   "execution_count": 105,
   "metadata": {
    "ExecuteTime": {
     "end_time": "2020-07-30T20:29:32.721792Z",
     "start_time": "2020-07-30T20:29:08.231535Z"
    }
   },
   "outputs": [],
   "source": [
    "pdf_train = cnt_ddf.compute()"
   ]
  },
  {
   "cell_type": "markdown",
   "metadata": {},
   "source": [
    "## Weak Supervision\n",
    "\n"
   ]
  },
  {
   "cell_type": "markdown",
   "metadata": {},
   "source": [
    "1. First we will define our labeling functions\n",
    "1. Then we will map our labeling functions across the queries w/ Dask\n",
    "\n",
    "\n",
    "![](assets/snorkel.png)"
   ]
  },
  {
   "cell_type": "markdown",
   "metadata": {},
   "source": [
    "### Label Functions"
   ]
  },
  {
   "cell_type": "code",
   "execution_count": 106,
   "metadata": {
    "ExecuteTime": {
     "end_time": "2020-07-30T20:29:32.729661Z",
     "start_time": "2020-07-30T20:29:32.725731Z"
    }
   },
   "outputs": [],
   "source": [
    "from snorkel.labeling import labeling_function, PandasLFApplier\n",
    "from snorkel.augmentation import transformation_function\n",
    "from snorkel.labeling.apply.dask import DaskLFApplier, PandasParallelLFApplier\n",
    "from snorkel.labeling import LFAnalysis\n",
    "from snorkel.labeling import LabelingFunction"
   ]
  },
  {
   "cell_type": "code",
   "execution_count": 107,
   "metadata": {
    "ExecuteTime": {
     "end_time": "2020-07-30T20:29:32.815935Z",
     "start_time": "2020-07-30T20:29:32.733215Z"
    }
   },
   "outputs": [],
   "source": [
    "# export\n",
    "\n",
    "import re\n",
    "\n",
    "\n",
    "def address(x, futures):\n",
    "\n",
    "    normd_query = x[\"query\"].lower()\n",
    "\n",
    "    if len(normd_query) > 32:\n",
    "        return ABSTAIN\n",
    "\n",
    "    exp = '\\d{1,4} [\\w\\s]{1,20}(?:street|st|avenue|ave|road|rd|highway|hwy|square|sq|trail|trl|drive|dr|court|ct|parkway|pkwy|circle|cir|boulevard|blvd)\\W?(?=\\s|$)'\n",
    "    regex = re.compile(exp, re.IGNORECASE)\n",
    "\n",
    "    if regex.search(normd_query):\n",
    "        return LABEL_MAPPING['ADDRESS']\n",
    "    else:\n",
    "        return ABSTAIN\n",
    "\n",
    "\n",
    "#@labeling_function(resources=dict(dishes=dish_set))\n",
    "def dish_keyword_match(query, futures, dishes):\n",
    "    normd_query = query[\"query\"].lower()\n",
    "    tokens = normd_query.split()\n",
    "\n",
    "    if len(normd_query) > 34: \n",
    "        return ABSTAIN\n",
    "\n",
    "    for keyword in dishes:\n",
    "        if keyword in normd_query:\n",
    "            return LABEL_MAPPING['DISH']\n",
    "        elif keyword[-1] == \"s\":\n",
    "            keyword_singular = keyword[:-1]\n",
    "            ratio = len(keyword_singular) / len(normd_query)\n",
    "            threshold = .8\n",
    "            if keyword[:-1] in normd_query and ratio > threshold:  #remove s (plural)\n",
    "                return LABEL_MAPPING['DISH']\n",
    "    else:\n",
    "        return ABSTAIN\n",
    "\n",
    "\n",
    "def cuisine_exact_match(query, futures, cuisine_set):\n",
    "    normd_query = query[\"query\"].lower()\n",
    "\n",
    "    if len(normd_query) > 20:\n",
    "        return ABSTAIN\n",
    "\n",
    "    if normd_query in cuisine_set:\n",
    "        return LABEL_MAPPING['CUISINE']\n",
    "    else:\n",
    "        return ABSTAIN\n",
    "\n",
    "\n",
    "def cuisine_fuzzy_match(query, futures, cuisine_set):\n",
    "    normd_query = query[\"query\"].lower()\n",
    "    tokens = normd_query.split()\n",
    "\n",
    "    if len(\n",
    "            tokens\n",
    "    ) >= 2:  \n",
    "        return ABSTAIN\n",
    "    if len(normd_query) > 20:\n",
    "        return ABSTAIN\n",
    "\n",

    "\n",
    "    for cuisine in list(cuisine_set):\n",
    "        if cuisine in normd_query:\n",
    "            return LABEL_MAPPING['CUISINE']\n",
    "        elif cuisine[-1] == \"s\":  #strip plural\n",
    "            if cuisine[:-1] in normd_query:\n",
    "                return LABEL_MAPPING['CUISINE']\n",
    "    return ABSTAIN\n",
    "\n",
    "\n",
    "# def search_cuisines_match(x, futures, search_cuisines):\n",
    "#     normd_query = x[\"query\"].lower()\n",
    "\n",
    "#     if normd_query in search_cuisines:\n",
    "#         return LABEL_MAPPING['CUISINE']\n",
    "#     else:\n",
    "#         return ABSTAIN\n",
    "\n",
    "\n",
    "def restaurant_exact_match_(query, futures):\n",
    "\n",
    "    normd_query = query[\"query\"].lower()\n",
    "\n",
    "    merchant_set = futures\n",
    "\n",
    "    if not merchant_set:  #for tests\n",
    "        return None\n",
    "\n",
    "    #this is a tough (high-precision) exact string match...\n",
    "    if normd_query in merchant_set:\n",
    "        return LABEL_MAPPING['RESTAURANT']\n",
    "    else:\n",
    "        return ABSTAIN\n",
    "\n",
    "\n",
    "def _dataset_matcher(x, futures, kb):\n",
    "\n",
    "    normd_query = x[\"query\"].lower()\n",
    "\n",
    "    if normd_query in kb:\n",
    "        return LABEL_MAPPING[kb[normd_query]]\n",
    "    else:\n",
    "        return ABSTAIN\n",
    "\n",
    "\n",
    "def alcohol_lf(x, futures, alcohol_set):\n",
    "\n",
    "    normd_query = x[\"query\"].lower()\n",
    "\n",
    "    if normd_query in alcohol_set:\n",
    "        return LABEL_MAPPING[\"ALCOHOL\"]\n",
    "    else:\n",
    "        return ABSTAIN\n",
    "\n",
    "\n",
    "def tobacco_lf(x, futures, tobacco_set):\n",
    "\n",
    "    normd_query = x[\"query\"].lower()\n",
    "\n",
    "    if normd_query in tobacco_set:\n",
    "        return LABEL_MAPPING[\"TOBACCO\"]\n",
    "    else:\n",
    "        return ABSTAIN\n",
    "\n",
    "\n",
    "def diet_lf(x, futures, diet_set):\n",
    "\n",
    "    normd_query = x[\"query\"].lower()\n",
    "\n",
    "    if normd_query in diet_set:\n",
    "        return LABEL_MAPPING[\"DIET\"]\n",
    "    else:\n",
    "        return ABSTAIN\n",
    "\n",
    "\n",
    "def mealtime_lf(x, futures, mealtime_set):\n",
    "\n",
    "    normd_query = x[\"query\"].lower()\n",
    "\n",
    "    if normd_query in mealtime_set:\n",
    "        return LABEL_MAPPING[\"MEAL_TIME\"]\n",
    "    else:\n",
    "        return ABSTAIN\n",
    "\n",
    "\n",
    "def merchant_heuristics_lf(x, futures, rest_token_list):\n",
    "    \"\"\"\n",
    "    \"\"\"\n",
    "\n",
    "    normd_query = x[\"query\"].lower()\n",
    "    tokens = normd_query.split()\n",
    "\n",
    "    #\n",
    "    if len(tokens) >= 10:\n",
    "        return ABSTAIN\n",
    "\n",
    "    #\n",
    "    for keyword in rest_token_list:\n",
    "        if keyword in tokens:\n",
    "            return LABEL_MAPPING['RESTAURANT']\n",
    "    else:\n",
    "        return ABSTAIN\n",
    "\n",
    "\n",
    "import pickle\n",
    "model_data = pickle.load(open('gib_model.pki', 'rb'))\n",
    "model_mat = model_data['mat']\n",
    "threshold = model_data['thresh']\n",
    "\n",
    "\n",
    "def gibberish_detector(x, futures):\n",
    "\n",
    "    normd_query = x[\"query\"].lower()\n",
    "\n",
    "    skip_list = [\n",
    "    ]\n",
    "    if normd_query in skip_list:\n",
    "        return ABSTAIN\n",
    "\n",
    "    score = avg_transition_prob(normd_query, model_mat)\n",
    "\n",
    "    if score < .005:\n",
    "        return LABEL_MAPPING[\"OTHER\"]\n",
    "    else:\n",
    "        return ABSTAIN\n",
    "\n",
    "\n",
    "\n",
    "def H(s):\n",
    "    \"\"\"string char cross entropy\"\"\"\n",
    "    probabilities = [n_x / len(s) for x, n_x in Counter(s).items()]\n",
    "    e_x = [-p_x * math.log(p_x, 2) for p_x in probabilities]\n",
    "    return sum(e_x)\n",
    "\n",
    "\n",
    "def entropy_detector(x, futures):\n",
    "\n",
    "    normd_query = x[\"query\"].lower()\n",
    "\n",
    "    h = H(normd_query)\n",
    "    THRES = 0.9\n",
    "\n",
    "    if h < THRES:\n",
    "        return LABEL_MAPPING[\"OTHER\"]\n",
    "    else:\n",
    "        return ABSTAIN\n",
    "\n",
    "def team_1k_kb_matcher(x, futures, kb):\n",
    "\n",
    "    normd_query = x[\"query\"].lower()\n",
    "\n",
    "    if normd_query in kb:\n",
    "        return LABEL_MAPPING[kb[normd_query]]\n",
    "    else:\n",
    "        return ABSTAIN"
   ]
  },
  {
   "cell_type": "code",
   "execution_count": 108,
   "metadata": {
    "ExecuteTime": {
     "end_time": "2020-07-30T20:29:32.822389Z",
     "start_time": "2020-07-30T20:29:32.818520Z"
    }
   },
   "outputs": [],
   "source": [
    "from intent_clf_airedale.dask_monkey_patches import *"
   ]
  },
  {
   "cell_type": "code",
   "execution_count": 109,
   "metadata": {
    "ExecuteTime": {
     "end_time": "2020-07-30T20:29:32.833414Z",
     "start_time": "2020-07-30T20:29:32.825455Z"
    }
   },
   "outputs": [],
   "source": [
    "#hide\n",
    "\n",
    "merch_lf = __LabelingFunction(\"merchant_distance_kb\", restaurant_exact_match_)\n",
    "address = __LabelingFunction(\"address_match\", address)\n",
    "dish_match = __LabelingFunction(\"dish_keyword_match\", dish_keyword_match, resources={\"dishes\":dish_set_resolved})\n",
    "cuisine_match = __LabelingFunction(\"cusine_match\", cuisine_exact_match, resources={\"cuisine_set\":cuisine_set_resolved})\n",
    "team_kb_lf = __LabelingFunction(\"team_kb_lf\", _dataset_matcher, resources={\"kb\": team_kb})\n",
    "alcohol_lf = __LabelingFunction(\"alcohol_lf\", alcohol_lf, resources={\"alcohol_set\": ALCOHOL_TOKENS})\n",
    "tobacco_lf = __LabelingFunction(\"tobacco_lf\", tobacco_lf, resources={\"tobacco_set\": TOBACCO_TOKENS})\n",
    "diet_lf = __LabelingFunction(\"diet_lf\", diet_lf, resources={\"diet_set\": DIET_TOKENS})\n",
    "mealtime_lf = __LabelingFunction(\"mealtime_lf\", mealtime_lf, resources={\"mealtime_set\": MEAL_TIME_TOKENS})\n",
    "merchant_heuristics_lf = __LabelingFunction(\"merchant_heuristics_lf\", merchant_heuristics_lf, resources={\"rest_token_list\": merchant_heuristics_set})\n",
    "gibberish_lf = __LabelingFunction(\"gibberish_det_lf\", gibberish_detector)\n",
    "entropy_lf = __LabelingFunction(\"entropy_det_lf\", entropy_detector)\n",
    "intent_1k_kb_lf = __LabelingFunction(\"team_1k_kb_lf\", team_1k_kb_matcher, resources={\"kb\": intent_1000k_kb})"
   ]
  },
  {
   "cell_type": "code",
   "execution_count": 110,
   "metadata": {
    "ExecuteTime": {
     "end_time": "2020-07-30T20:29:32.846145Z",
     "start_time": "2020-07-30T20:29:32.835997Z"
    }
   },
   "outputs": [],
   "source": [
    "lfs = [\n",
    "    address,\n",
    "    dish_match,\n",
    "    cuisine_match,\n",
    "    merch_lf,\n",
    "    team_kb_lf,\n",
    "    alcohol_lf,\n",
    "    tobacco_lf,\n",
    "    diet_lf,\n",
    "    mealtime_lf,\n",
    "    merchant_heuristics_lf,\n",
    "    gibberish_lf,\n",
    "    entropy_lf,\n",
    "    intent_1k_kb_lf\n",
    "]"
   ]
  },
  {
   "cell_type": "code",
   "execution_count": 111,
   "metadata": {
    "ExecuteTime": {
     "end_time": "2020-07-30T20:29:32.854583Z",
     "start_time": "2020-07-30T20:29:32.849447Z"
    }
   },
   "outputs": [],
   "source": [
    "def test_labelers(query):\n",
    "    for lf in lfs:\n",
    "        x = {\"query\": query}\n",
    "        match_flag = lf(x)\n",
    "        print(\"{:>30s} {} {}\".format(\n",
    "            lf.name, match_flag,\n",
    "            (\"✅ {}\".format(LABEL_SET[match_flag]) if match_flag != -1 and match_flag != None else \"\")))"
   ]
  },
  {
   "cell_type": "code",
   "execution_count": 183,
   "metadata": {
    "ExecuteTime": {
     "end_time": "2020-07-30T21:36:10.940999Z",
     "start_time": "2020-07-30T21:36:10.933128Z"
    }
   },
   "outputs": [
    {
     "name": "stdout",
     "output_type": "stream",
     "text": [
      "                 address_match -1 \n",
      "            dish_keyword_match -1 \n",
      "                  cusine_match 0 ✅ CUISINE\n",
      "          merchant_distance_kb None \n",
      "                    team_kb_lf 1 ✅ DISH\n",
      "                    alcohol_lf -1 \n",
      "                    tobacco_lf -1 \n",
      "                       diet_lf -1 \n",
      "                   mealtime_lf -1 \n",
      "        merchant_heuristics_lf -1 \n",
      "              gibberish_det_lf -1 \n",
      "                entropy_det_lf -1 \n",
      "                 team_1k_kb_lf 1 ✅ DISH\n"
     ]
    }
   ],
   "source": [
    "test_labelers(\"sushi\")"
   ]
  },
  {
   "cell_type": "code",
   "execution_count": 113,
   "metadata": {
    "ExecuteTime": {
     "end_time": "2020-07-30T20:29:33.255183Z",
     "start_time": "2020-07-30T20:29:32.868365Z"
    }
   },
   "outputs": [
    {
     "data": {
      "text/plain": [
       "query    282486\n",
       "count    282486\n",
       "len      282486\n",
       "dtype: int64"
      ]
     },
     "execution_count": 113,
     "metadata": {},
     "output_type": "execute_result"
    }
   ],
   "source": [
    "cnt_ddf.count().compute() "
   ]
  },
  {
   "cell_type": "markdown",
   "metadata": {},
   "source": [
    "### Map Snorkel "
   ]
  },
  {
   "cell_type": "code",
   "execution_count": 114,
   "metadata": {
    "ExecuteTime": {
     "end_time": "2020-07-30T20:29:33.260889Z",
     "start_time": "2020-07-30T20:29:33.257241Z"
    }
   },
   "outputs": [],
   "source": [
    "from snorkel.labeling.apply.dask import rows_to_triplets\n",
    "from snorkel.labeling import LFAnalysis"
   ]
  },
  {
   "cell_type": "code",
   "execution_count": 115,
   "metadata": {
    "ExecuteTime": {
     "end_time": "2020-07-30T20:29:33.268599Z",
     "start_time": "2020-07-30T20:29:33.263837Z"
    }
   },
   "outputs": [],
   "source": [
    "#apply monkey patches\n",
    "from intent_clf_airedale.dask_monkey_patches import *\n",
    "\n",
    "#monkey patch\n",
    "LabelingFunction = __LabelingFunction\n",
    "DaskLFApplier.apply = __apply\n",
    "apply_lfs_to_data_point = __apply_lfs_to_data_point"
   ]
  },
  {
   "cell_type": "code",
   "execution_count": 116,
   "metadata": {
    "ExecuteTime": {
     "end_time": "2020-07-30T20:29:38.352720Z",
     "start_time": "2020-07-30T20:29:33.270693Z"
    }
   },
   "outputs": [
    {
     "data": {
      "text/html": [
       "<b>Future: set</b> <font color=\"gray\">status: </font><font color=\"black\">finished</font>, <font color=\"gray\">type: </font>builtins.set, <font color=\"gray\">key: </font>set-8931decffa979329bf2d585c9c7d33bd"
      ],
      "text/plain": [
       "<Future: finished, type: builtins.set, key: set-8931decffa979329bf2d585c9c7d33bd>"
      ]
     },
     "execution_count": 116,
     "metadata": {},
     "output_type": "execute_result"
    }
   ],
   "source": [
    "#broadcast large data\n",
    "[merchant_set_future] = client.scatter([merchant_set_resolved], broadcast=True)\n",
    "merchant_set_future"
   ]
  },
  {
   "cell_type": "code",
   "execution_count": 184,
   "metadata": {
    "ExecuteTime": {
     "end_time": "2020-07-30T21:40:52.515623Z",
     "start_time": "2020-07-30T21:38:31.672721Z"
    }
   },
   "outputs": [
    {
     "name": "stdout",
     "output_type": "stream",
     "text": [
      "CPU times: user 27.2 s, sys: 2.24 s, total: 29.4 s\n",
      "Wall time: 2min 20s\n"
     ]
    }
   ],
   "source": [
    "%%time\n",
    "applier = DaskLFApplier(lfs)\n",
    "L_dev = applier.apply(dev_ddf, client, futures=merchant_set_future)\n",
    "L_train = applier.apply(cnt_ddf, client, futures=merchant_set_future)\n"
   ]
  },
  {
   "cell_type": "code",
   "execution_count": 185,
   "metadata": {
    "ExecuteTime": {
     "end_time": "2020-07-30T21:41:14.415777Z",
     "start_time": "2020-07-30T21:41:14.410052Z"
    }
   },
   "outputs": [
    {
     "data": {
      "text/plain": [
       "array([[-1,  1, -1, ..., -1, -1, -1],\n",
       "       [-1,  1, -1, ..., -1, -1, -1],\n",
       "       [-1, -1, -1, ..., -1, -1, -1],\n",
       "       ...,\n",
       "       [-1,  1, -1, ..., -1, -1, -1],\n",
       "       [-1, -1, -1, ..., -1, -1, -1],\n",
       "       [-1, -1, -1, ..., -1, -1, -1]])"
      ]
     },
     "execution_count": 185,
     "metadata": {},
     "output_type": "execute_result"
    }
   ],
   "source": [
    "L_train"
   ]
  },
  {
   "cell_type": "code",
   "execution_count": 118,
   "metadata": {
    "ExecuteTime": {
     "end_time": "2020-07-30T20:31:58.166168Z",
     "start_time": "2020-07-30T20:31:58.096113Z"
    }
   },
   "outputs": [
    {
     "name": "stderr",
     "output_type": "stream",
     "text": [
      "/home/ubuntu/anaconda3/envs/tensorflow_p36/lib/python3.6/site-packages/sklearn/utils/validation.py:71: FutureWarning: Pass labels=[-1  0  1  2  3  4  5  7  8] as keyword args. From version 0.25 passing these as positional arguments will result in an error\n",
      "  FutureWarning)\n"
     ]
    },
    {
     "data": {
      "text/html": [
       "<div>\n",
       "<style scoped>\n",
       "    .dataframe tbody tr th:only-of-type {\n",
       "        vertical-align: middle;\n",
       "    }\n",
       "\n",
       "    .dataframe tbody tr th {\n",
       "        vertical-align: top;\n",
       "    }\n",
       "\n",
       "    .dataframe thead th {\n",
       "        text-align: right;\n",
       "    }\n",
       "</style>\n",
       "<table border=\"1\" class=\"dataframe\">\n",
       "  <thead>\n",
       "    <tr style=\"text-align: right;\">\n",
       "      <th></th>\n",
       "      <th>j</th>\n",
       "      <th>Polarity</th>\n",
       "      <th>Coverage</th>\n",
       "      <th>Overlaps</th>\n",
       "      <th>Conflicts</th>\n",
       "      <th>Correct</th>\n",
       "      <th>Incorrect</th>\n",
       "      <th>Emp. Acc.</th>\n",
       "    </tr>\n",
       "  </thead>\n",
       "  <tbody>\n",
       "    <tr>\n",
       "      <th>address_match</th>\n",
       "      <td>0</td>\n",
       "      <td>[3]</td>\n",
       "      <td>0.00</td>\n",
       "      <td>0.00</td>\n",
       "      <td>0.00</td>\n",
       "      <td>5</td>\n",
       "      <td>0</td>\n",
       "      <td>1.00</td>\n",
       "    </tr>\n",
       "    <tr>\n",
       "      <th>dish_keyword_match</th>\n",
       "      <td>1</td>\n",
       "      <td>[1]</td>\n",
       "      <td>0.51</td>\n",
       "      <td>0.51</td>\n",
       "      <td>0.15</td>\n",
       "      <td>442</td>\n",
       "      <td>117</td>\n",
       "      <td>0.79</td>\n",
       "    </tr>\n",
       "    <tr>\n",
       "      <th>cusine_match</th>\n",
       "      <td>2</td>\n",
       "      <td>[0]</td>\n",
       "      <td>0.06</td>\n",
       "      <td>0.06</td>\n",
       "      <td>0.03</td>\n",
       "      <td>43</td>\n",
       "      <td>27</td>\n",
       "      <td>0.61</td>\n",
       "    </tr>\n",
       "    <tr>\n",
       "      <th>merchant_distance_kb</th>\n",
       "      <td>3</td>\n",
       "      <td>[2]</td>\n",
       "      <td>0.26</td>\n",
       "      <td>0.26</td>\n",
       "      <td>0.11</td>\n",
       "      <td>217</td>\n",
       "      <td>71</td>\n",
       "      <td>0.75</td>\n",
       "    </tr>\n",
       "    <tr>\n",
       "      <th>team_kb_lf</th>\n",
       "      <td>4</td>\n",
       "      <td>[0, 1, 2, 3, 4, 5, 7, 8]</td>\n",
       "      <td>1.00</td>\n",
       "      <td>0.81</td>\n",
       "      <td>0.22</td>\n",
       "      <td>1104</td>\n",
       "      <td>1</td>\n",
       "      <td>1.00</td>\n",
       "    </tr>\n",
       "    <tr>\n",
       "      <th>alcohol_lf</th>\n",
       "      <td>5</td>\n",
       "      <td>[5]</td>\n",
       "      <td>0.00</td>\n",
       "      <td>0.00</td>\n",
       "      <td>0.00</td>\n",
       "      <td>3</td>\n",
       "      <td>0</td>\n",
       "      <td>1.00</td>\n",
       "    </tr>\n",
       "    <tr>\n",
       "      <th>tobacco_lf</th>\n",
       "      <td>6</td>\n",
       "      <td>[]</td>\n",
       "      <td>0.00</td>\n",
       "      <td>0.00</td>\n",
       "      <td>0.00</td>\n",
       "      <td>0</td>\n",
       "      <td>0</td>\n",
       "      <td>0.00</td>\n",
       "    </tr>\n",
       "    <tr>\n",
       "      <th>diet_lf</th>\n",
       "      <td>7</td>\n",
       "      <td>[4]</td>\n",
       "      <td>0.01</td>\n",
       "      <td>0.01</td>\n",
       "      <td>0.00</td>\n",
       "      <td>5</td>\n",
       "      <td>3</td>\n",
       "      <td>0.62</td>\n",
       "    </tr>\n",
       "    <tr>\n",
       "      <th>mealtime_lf</th>\n",
       "      <td>8</td>\n",
       "      <td>[7]</td>\n",
       "      <td>0.00</td>\n",
       "      <td>0.00</td>\n",
       "      <td>0.00</td>\n",
       "      <td>2</td>\n",
       "      <td>2</td>\n",
       "      <td>0.50</td>\n",
       "    </tr>\n",
       "    <tr>\n",
       "      <th>merchant_heuristics_lf</th>\n",
       "      <td>9</td>\n",
       "      <td>[2]</td>\n",
       "      <td>0.11</td>\n",
       "      <td>0.11</td>\n",
       "      <td>0.04</td>\n",
       "      <td>116</td>\n",
       "      <td>11</td>\n",
       "      <td>0.91</td>\n",
       "    </tr>\n",
       "    <tr>\n",
       "      <th>gibberish_det_lf</th>\n",
       "      <td>10</td>\n",
       "      <td>[8]</td>\n",
       "      <td>0.00</td>\n",
       "      <td>0.00</td>\n",
       "      <td>0.00</td>\n",
       "      <td>0</td>\n",
       "      <td>1</td>\n",
       "      <td>0.00</td>\n",
       "    </tr>\n",
       "    <tr>\n",
       "      <th>entropy_det_lf</th>\n",
       "      <td>11</td>\n",
       "      <td>[8]</td>\n",
       "      <td>0.00</td>\n",
       "      <td>0.00</td>\n",
       "      <td>0.00</td>\n",
       "      <td>1</td>\n",
       "      <td>0</td>\n",
       "      <td>1.00</td>\n",
       "    </tr>\n",
       "    <tr>\n",
       "      <th>team_1k_kb_lf</th>\n",
       "      <td>12</td>\n",
       "      <td>[0, 1, 2, 4, 5, 7, 8]</td>\n",
       "      <td>0.22</td>\n",
       "      <td>0.22</td>\n",
       "      <td>0.05</td>\n",
       "      <td>225</td>\n",
       "      <td>22</td>\n",
       "      <td>0.91</td>\n",
       "    </tr>\n",
       "  </tbody>\n",
       "</table>\n",
       "</div>"
      ],
      "text/plain": [
       "                         j                  Polarity  Coverage  Overlaps  \\\n",
       "address_match           0   [3]                      0.00      0.00        \n",
       "dish_keyword_match      1   [1]                      0.51      0.51        \n",
       "cusine_match            2   [0]                      0.06      0.06        \n",
       "merchant_distance_kb    3   [2]                      0.26      0.26        \n",
       "team_kb_lf              4   [0, 1, 2, 3, 4, 5, 7, 8] 1.00      0.81        \n",
       "alcohol_lf              5   [5]                      0.00      0.00        \n",
       "tobacco_lf              6   []                       0.00      0.00        \n",
       "diet_lf                 7   [4]                      0.01      0.01        \n",
       "mealtime_lf             8   [7]                      0.00      0.00        \n",
       "merchant_heuristics_lf  9   [2]                      0.11      0.11        \n",
       "gibberish_det_lf        10  [8]                      0.00      0.00        \n",
       "entropy_det_lf          11  [8]                      0.00      0.00        \n",
       "team_1k_kb_lf           12  [0, 1, 2, 4, 5, 7, 8]    0.22      0.22        \n",
       "\n",
       "                        Conflicts  Correct  Incorrect  Emp. Acc.  \n",
       "address_match          0.00        5        0         1.00        \n",
       "dish_keyword_match     0.15        442      117       0.79        \n",
       "cusine_match           0.03        43       27        0.61        \n",
       "merchant_distance_kb   0.11        217      71        0.75        \n",
       "team_kb_lf             0.22        1104     1         1.00        \n",
       "alcohol_lf             0.00        3        0         1.00        \n",
       "tobacco_lf             0.00        0        0         0.00        \n",
       "diet_lf                0.00        5        3         0.62        \n",
       "mealtime_lf            0.00        2        2         0.50        \n",
       "merchant_heuristics_lf 0.04        116      11        0.91        \n",
       "gibberish_det_lf       0.00        0        1         0.00        \n",
       "entropy_det_lf         0.00        1        0         1.00        \n",
       "team_1k_kb_lf          0.05        225      22        0.91        "
      ]
     },
     "execution_count": 118,
     "metadata": {},
     "output_type": "execute_result"
    }
   ],
   "source": [
    "Y_dev=dev_ddf.compute().label.values\n",
    "LFAnalysis(L=L_dev, lfs=lfs).lf_summary(Y_dev)"
   ]
  },
  {
   "cell_type": "code",
   "execution_count": 119,
   "metadata": {
    "ExecuteTime": {
     "end_time": "2020-07-30T20:31:58.377675Z",
     "start_time": "2020-07-30T20:31:58.168397Z"
    }
   },
   "outputs": [
    {
     "data": {
      "text/html": [
       "<div>\n",
       "<style scoped>\n",
       "    .dataframe tbody tr th:only-of-type {\n",
       "        vertical-align: middle;\n",
       "    }\n",
       "\n",
       "    .dataframe tbody tr th {\n",
       "        vertical-align: top;\n",
       "    }\n",
       "\n",
       "    .dataframe thead th {\n",
       "        text-align: right;\n",
       "    }\n",
       "</style>\n",
       "<table border=\"1\" class=\"dataframe\">\n",
       "  <thead>\n",
       "    <tr style=\"text-align: right;\">\n",
       "      <th></th>\n",
       "      <th>j</th>\n",
       "      <th>Polarity</th>\n",
       "      <th>Coverage</th>\n",
       "      <th>Overlaps</th>\n",
       "      <th>Conflicts</th>\n",
       "    </tr>\n",
       "  </thead>\n",
       "  <tbody>\n",
       "    <tr>\n",
       "      <th>address_match</th>\n",
       "      <td>0</td>\n",
       "      <td>[3]</td>\n",
       "      <td>0.01</td>\n",
       "      <td>0.00</td>\n",
       "      <td>0.00</td>\n",
       "    </tr>\n",
       "    <tr>\n",
       "      <th>dish_keyword_match</th>\n",
       "      <td>1</td>\n",
       "      <td>[1]</td>\n",
       "      <td>0.24</td>\n",
       "      <td>0.06</td>\n",
       "      <td>0.05</td>\n",
       "    </tr>\n",
       "    <tr>\n",
       "      <th>cusine_match</th>\n",
       "      <td>2</td>\n",
       "      <td>[0]</td>\n",
       "      <td>0.00</td>\n",
       "      <td>0.00</td>\n",
       "      <td>0.00</td>\n",
       "    </tr>\n",
       "    <tr>\n",
       "      <th>merchant_distance_kb</th>\n",
       "      <td>3</td>\n",
       "      <td>[2]</td>\n",
       "      <td>0.18</td>\n",
       "      <td>0.08</td>\n",
       "      <td>0.04</td>\n",
       "    </tr>\n",
       "    <tr>\n",
       "      <th>team_kb_lf</th>\n",
       "      <td>4</td>\n",
       "      <td>[0, 1, 2, 3, 4, 5, 7, 8]</td>\n",
       "      <td>0.00</td>\n",
       "      <td>0.00</td>\n",
       "      <td>0.00</td>\n",
       "    </tr>\n",
       "    <tr>\n",
       "      <th>alcohol_lf</th>\n",
       "      <td>5</td>\n",
       "      <td>[5]</td>\n",
       "      <td>0.00</td>\n",
       "      <td>0.00</td>\n",
       "      <td>0.00</td>\n",
       "    </tr>\n",
       "    <tr>\n",
       "      <th>tobacco_lf</th>\n",
       "      <td>6</td>\n",
       "      <td>[6]</td>\n",
       "      <td>0.00</td>\n",
       "      <td>0.00</td>\n",
       "      <td>0.00</td>\n",
       "    </tr>\n",
       "    <tr>\n",
       "      <th>diet_lf</th>\n",
       "      <td>7</td>\n",
       "      <td>[4]</td>\n",
       "      <td>0.00</td>\n",
       "      <td>0.00</td>\n",
       "      <td>0.00</td>\n",
       "    </tr>\n",
       "    <tr>\n",
       "      <th>mealtime_lf</th>\n",
       "      <td>8</td>\n",
       "      <td>[7]</td>\n",
       "      <td>0.00</td>\n",
       "      <td>0.00</td>\n",
       "      <td>0.00</td>\n",
       "    </tr>\n",
       "    <tr>\n",
       "      <th>merchant_heuristics_lf</th>\n",
       "      <td>9</td>\n",
       "      <td>[2]</td>\n",
       "      <td>0.18</td>\n",
       "      <td>0.08</td>\n",
       "      <td>0.03</td>\n",
       "    </tr>\n",
       "    <tr>\n",
       "      <th>gibberish_det_lf</th>\n",
       "      <td>10</td>\n",
       "      <td>[8]</td>\n",
       "      <td>0.00</td>\n",
       "      <td>0.00</td>\n",
       "      <td>0.00</td>\n",
       "    </tr>\n",
       "    <tr>\n",
       "      <th>entropy_det_lf</th>\n",
       "      <td>11</td>\n",
       "      <td>[8]</td>\n",
       "      <td>0.00</td>\n",
       "      <td>0.00</td>\n",
       "      <td>0.00</td>\n",
       "    </tr>\n",
       "    <tr>\n",
       "      <th>team_1k_kb_lf</th>\n",
       "      <td>12</td>\n",
       "      <td>[0, 1, 2, 4, 5, 7, 8]</td>\n",
       "      <td>0.00</td>\n",
       "      <td>0.00</td>\n",
       "      <td>0.00</td>\n",
       "    </tr>\n",
       "  </tbody>\n",
       "</table>\n",
       "</div>"
      ],
      "text/plain": [
       "                         j                  Polarity  Coverage  Overlaps  \\\n",
       "address_match           0   [3]                      0.01      0.00        \n",
       "dish_keyword_match      1   [1]                      0.24      0.06        \n",
       "cusine_match            2   [0]                      0.00      0.00        \n",
       "merchant_distance_kb    3   [2]                      0.18      0.08        \n",
       "team_kb_lf              4   [0, 1, 2, 3, 4, 5, 7, 8] 0.00      0.00        \n",
       "alcohol_lf              5   [5]                      0.00      0.00        \n",
       "tobacco_lf              6   [6]                      0.00      0.00        \n",
       "diet_lf                 7   [4]                      0.00      0.00        \n",
       "mealtime_lf             8   [7]                      0.00      0.00        \n",
       "merchant_heuristics_lf  9   [2]                      0.18      0.08        \n",
       "gibberish_det_lf        10  [8]                      0.00      0.00        \n",
       "entropy_det_lf          11  [8]                      0.00      0.00        \n",
       "team_1k_kb_lf           12  [0, 1, 2, 4, 5, 7, 8]    0.00      0.00        \n",
       "\n",
       "                        Conflicts  \n",
       "address_match          0.00        \n",
       "dish_keyword_match     0.05        \n",
       "cusine_match           0.00        \n",
       "merchant_distance_kb   0.04        \n",
       "team_kb_lf             0.00        \n",
       "alcohol_lf             0.00        \n",
       "tobacco_lf             0.00        \n",
       "diet_lf                0.00        \n",
       "mealtime_lf            0.00        \n",
       "merchant_heuristics_lf 0.03        \n",
       "gibberish_det_lf       0.00        \n",
       "entropy_det_lf         0.00        \n",
       "team_1k_kb_lf          0.00        "
      ]
     },
     "execution_count": 119,
     "metadata": {},
     "output_type": "execute_result"
    }
   ],
   "source": [
    "LFAnalysis(L=L_train, lfs=lfs).lf_summary() "
   ]
  },
  {
   "cell_type": "code",
   "execution_count": 120,
   "metadata": {
    "ExecuteTime": {
     "end_time": "2020-07-30T20:31:58.433001Z",
     "start_time": "2020-07-30T20:31:58.380011Z"
    }
   },
   "outputs": [
    {
     "name": "stdout",
     "output_type": "stream",
     "text": [
      "Training set coverage:  49.8%\n",
      "Dev set coverage:  100.0%\n"
     ]
    }
   ],
   "source": [
    "print(f\"Training set coverage: {100 * LFAnalysis(L_train).label_coverage(): 0.1f}%\")\n",
    "print(f\"Dev set coverage: {100 * LFAnalysis(L_dev).label_coverage(): 0.1f}%\")"
   ]
  },
  {
   "cell_type": "markdown",
   "metadata": {},
   "source": [
    "### Label Model\n",
    "\n",
    "Label function might conflict or even correlate. How do you choose the final label for a doc when there are so many in competition?"
   ]
  },
  {
   "cell_type": "code",
   "execution_count": 121,
   "metadata": {
    "ExecuteTime": {
     "end_time": "2020-07-30T20:31:58.439268Z",
     "start_time": "2020-07-30T20:31:58.435130Z"
    }
   },
   "outputs": [],
   "source": [
    "from snorkel.labeling.model.label_model import LabelModel\n",
    "from snorkel.labeling import filter_unlabeled_dataframe\n",
    "from snorkel.utils import probs_to_preds\n",
    "from snorkel.analysis import metric_score"
   ]
  },
  {
   "cell_type": "code",
   "execution_count": 122,
   "metadata": {
    "ExecuteTime": {
     "end_time": "2020-07-30T20:31:59.461486Z",
     "start_time": "2020-07-30T20:31:58.441241Z"
    }
   },
   "outputs": [],
   "source": [
    "label_model = LabelModel(cardinality=len(LABEL_SET))\n",
    "label_model.fit(L_train)"
   ]
  },
  {
   "cell_type": "markdown",
   "metadata": {},
   "source": [
    "As a spot-check for the quality of our LabelModel, we’ll score it on the dev set."
   ]
  },
  {
   "cell_type": "code",
   "execution_count": 123,
   "metadata": {
    "ExecuteTime": {
     "end_time": "2020-07-30T20:32:00.514219Z",
     "start_time": "2020-07-30T20:31:59.464166Z"
    }
   },
   "outputs": [
    {
     "name": "stdout",
     "output_type": "stream",
     "text": [
      "LabelModel Accuracy: 0.985\n"
     ]
    }
   ],
   "source": [
    "probs_train = label_model.predict_proba(L=L_train) #soft labels for sparse x-ent\n",
    "preds_dev = label_model.predict(L_dev) #hard labels for xent\n",
    "\n",
    "acc = metric_score(Y_dev, preds_dev, probs=None, metric=\"accuracy\")\n",
    "print(f\"LabelModel Accuracy: {acc:.3f}\")"
   ]
  },
  {
   "cell_type": "markdown",
   "metadata": {},
   "source": [
    "We see that we get very high accuracy on the development set. This is due to the abundance of high quality labeling functions. **Since we don’t have these high quality labeling functions for the test set or new incoming data points, we can’t use the LabelModel reliably at inference time.** In order to run inference on new incoming data points, we need to train a discriminative model over the queries themselves. Let’s generate a set of labels for that training set."
   ]
  },
  {
   "cell_type": "code",
   "execution_count": 124,
   "metadata": {
    "ExecuteTime": {
     "end_time": "2020-07-30T20:32:00.581860Z",
     "start_time": "2020-07-30T20:32:00.516681Z"
    }
   },
   "outputs": [],
   "source": [
    "#Filter out examples not covered by any labeling function.\n",
    "pdf_train_filtered, probs_train_filtered = filter_unlabeled_dataframe(\n",
    "    X=pdf_train, y=probs_train, L=L_train)"
   ]
  },
  {
   "cell_type": "code",
   "execution_count": 125,
   "metadata": {
    "ExecuteTime": {
     "end_time": "2020-07-30T20:32:01.067484Z",
     "start_time": "2020-07-30T20:32:00.584228Z"
    }
   },
   "outputs": [],
   "source": [
    "#Convert an array of probabilistic labels into an array of predictions. ie hard labels for x-ent\n",
    "labels_train_filtered = probs_to_preds(probs_train_filtered, \"abstain\")"
   ]
  },
  {
   "cell_type": "code",
   "execution_count": 126,
   "metadata": {
    "ExecuteTime": {
     "end_time": "2020-07-30T20:32:01.185127Z",
     "start_time": "2020-07-30T20:32:01.070735Z"
    }
   },
   "outputs": [
    {
     "name": "stderr",
     "output_type": "stream",
     "text": [
      "/home/ubuntu/anaconda3/envs/tensorflow_p36/lib/python3.6/site-packages/ipykernel_launcher.py:2: SettingWithCopyWarning: \n",
      "A value is trying to be set on a copy of a slice from a DataFrame.\n",
      "Try using .loc[row_indexer,col_indexer] = value instead\n",
      "\n",
      "See the caveats in the documentation: http://pandas.pydata.org/pandas-docs/stable/user_guide/indexing.html#returning-a-view-versus-a-copy\n",
      "  \n",
      "/home/ubuntu/anaconda3/envs/tensorflow_p36/lib/python3.6/site-packages/ipykernel_launcher.py:3: SettingWithCopyWarning: \n",
      "A value is trying to be set on a copy of a slice from a DataFrame.\n",
      "Try using .loc[row_indexer,col_indexer] = value instead\n",
      "\n",
      "See the caveats in the documentation: http://pandas.pydata.org/pandas-docs/stable/user_guide/indexing.html#returning-a-view-versus-a-copy\n",
      "  This is separate from the ipykernel package so we can avoid doing imports until\n"
     ]
    }
   ],
   "source": [
    "#update querires dataframe w/ the hard and soft labels\n",
    "pdf_train_filtered[\"label\"]=labels_train_filtered\n",
    "pdf_train_filtered[\"prob_labels\"] = np.around(probs_train_filtered,2).tolist()"
   ]
  },
  {
   "cell_type": "code",
   "execution_count": 127,
   "metadata": {
    "ExecuteTime": {
     "end_time": "2020-07-30T20:32:01.204067Z",
     "start_time": "2020-07-30T20:32:01.189973Z"
    }
   },
   "outputs": [
    {
     "name": "stdout",
     "output_type": "stream",
     "text": [
      "Stored 'version' (int)\n"
     ]
    },
    {
     "data": {
      "text/plain": [
       "17"
      ]
     },
     "execution_count": 127,
     "metadata": {},
     "output_type": "execute_result"
    }
   ],
   "source": [
    "%store -r\n",
    "version = version+1\n",
    "%store version\n",
    "version"
   ]
  },
  {
   "cell_type": "code",
   "execution_count": 128,
   "metadata": {
    "ExecuteTime": {
     "end_time": "2020-07-30T20:32:01.563170Z",
     "start_time": "2020-07-30T20:32:01.206014Z"
    }
   },
   "outputs": [],
   "source": [
    "version = \"v\"+str(version)\n",
    "dataset_path=\"data/{version}\".format(version=version)\n",
    "!mkdir -p \"{dataset_path}\""
   ]
  },
  {
   "cell_type": "code",
   "execution_count": 129,
   "metadata": {
    "ExecuteTime": {
     "end_time": "2020-07-30T20:32:04.158092Z",
     "start_time": "2020-07-30T20:32:01.565951Z"
    }
   },
   "outputs": [],
   "source": [
    "pdf_train_filtered.to_csv(\"{}/datast.csv\".format(dataset_path), index=False)\n",
    "pdf_train_filtered.to_parquet(\"{}/dataset.parquet\".format(dataset_path))"
   ]
  },
  {
   "cell_type": "markdown",
   "metadata": {},
   "source": [
    "## Modeling"
   ]
  },
  {
   "cell_type": "code",
   "execution_count": 130,
   "metadata": {
    "ExecuteTime": {
     "end_time": "2020-07-30T20:32:04.168630Z",
     "start_time": "2020-07-30T20:32:04.165088Z"
    }
   },
   "outputs": [],
   "source": [
    "from sklearn.metrics import classification_report\n",
    "from sklearn.model_selection import train_test_split\n",
    "from sklearn.utils import compute_sample_weight"
   ]
  },
  {
   "cell_type": "code",
   "execution_count": 131,
   "metadata": {
    "ExecuteTime": {
     "end_time": "2020-07-30T20:32:04.324485Z",
     "start_time": "2020-07-30T20:32:04.171712Z"
    }
   },
   "outputs": [
    {
     "data": {
      "text/plain": [
       "(140604, 18339)"
      ]
     },
     "execution_count": 131,
     "metadata": {},
     "output_type": "execute_result"
    }
   ],
   "source": [
    "#post processing -- remove tail queries\n",
    "#TODO move this below the the imbalance secsion\n",
    "pdf_train_trunc = truncate_tail(pdf_train_filtered)\n",
    "pdf_train_filtered.shape[0], pdf_train_trunc.shape[0]"
   ]
  },
  {
   "cell_type": "code",
   "execution_count": 132,
   "metadata": {
    "ExecuteTime": {
     "end_time": "2020-07-30T20:32:04.571794Z",
     "start_time": "2020-07-30T20:32:04.326410Z"
    }
   },
   "outputs": [
    {
     "name": "stdout",
     "output_type": "stream",
     "text": [
      "<class 'pandas.core.frame.DataFrame'>\n",
      "Int64Index: 140604 entries, 0 to 282811\n",
      "Data columns (total 5 columns):\n",
      "query          140604 non-null object\n",
      "count          140604 non-null int64\n",
      "len            140604 non-null int64\n",
      "label          140604 non-null int64\n",
      "prob_labels    140604 non-null object\n",
      "dtypes: int64(3), object(2)\n",
      "memory usage: 6.4+ MB\n"
     ]
    }
   ],
   "source": [
    "path = \"{}/dataset.parquet\".format(dataset_path)\n",
    "\n",
    "pdf = pd.read_parquet(path.format(version))\n",
    "pdf.info()"
   ]
  },
  {
   "cell_type": "code",
   "execution_count": 133,
   "metadata": {
    "ExecuteTime": {
     "end_time": "2020-07-30T20:32:05.174183Z",
     "start_time": "2020-07-30T20:32:04.573959Z"
    }
   },
   "outputs": [
    {
     "name": "stdout",
     "output_type": "stream",
     "text": [
      "words per sample: 2.0\n"
     ]
    },
    {
     "data": {
      "image/png": "[encoded data removed]",
      "text/plain": [
       "<Figure size 432x288 with 1 Axes>"
      ]
     },
     "metadata": {
      "image/png": {
       "height": 281,
       "width": 404
      },
      "needs_background": "light"
     },
     "output_type": "display_data"
    }
   ],
   "source": [
    "wps = get_num_words_per_sample(pdf[\"query\"])\n",
    "print(\"words per sample:\", wps)\n",
    "plot_sample_length_distribution(pdf[\"query\"], bins=50)"
   ]
  },
  {
   "cell_type": "code",
   "execution_count": 134,
   "metadata": {
    "ExecuteTime": {
     "end_time": "2020-07-30T20:32:05.186536Z",
     "start_time": "2020-07-30T20:32:05.178040Z"
    }
   },
   "outputs": [
    {
     "name": "stdout",
     "output_type": "stream",
     "text": [
      "s/w ratio is 70302.000000\n",
      "sequential model\n",
      "\tyou can prob train from scratch\n"
     ]
    }
   ],
   "source": [
    "S_W_THRESHOLD = 1500\n",
    "s_w_ratio = pdf.shape[0] / wps\n",
    "print(\"s/w ratio is %F\"%s_w_ratio)\n",
    "\n",
    "if s_w_ratio < S_W_THRESHOLD:\n",
    "    print(\"BOW ngram model\")\n",
    "else:\n",
    "    print(\"sequential model\")\n",
    "    if s_w_ratio < 15000:\n",
    "        print(\"\\tuse pre-trained embedding\")\n",
    "    else:\n",
    "        print(\"\\tyou can prob train from scratch\")"
   ]
  },
  {
   "cell_type": "code",
   "execution_count": 135,
   "metadata": {
    "ExecuteTime": {
     "end_time": "2020-07-30T20:32:05.208066Z",
     "start_time": "2020-07-30T20:32:05.189130Z"
    }
   },
   "outputs": [
    {
     "data": {
      "text/html": [
       "<div>\n",
       "<style scoped>\n",
       "    .dataframe tbody tr th:only-of-type {\n",
       "        vertical-align: middle;\n",
       "    }\n",
       "\n",
       "    .dataframe tbody tr th {\n",
       "        vertical-align: top;\n",
       "    }\n",
       "\n",
       "    .dataframe thead th {\n",
       "        text-align: right;\n",
       "    }\n",
       "</style>\n",
       "<table border=\"1\" class=\"dataframe\">\n",
       "  <thead>\n",
       "    <tr style=\"text-align: right;\">\n",
       "      <th></th>\n",
       "      <th>label_cnt</th>\n",
       "      <th>label_p</th>\n",
       "    </tr>\n",
       "  </thead>\n",
       "  <tbody>\n",
       "    <tr>\n",
       "      <th>2</th>\n",
       "      <td>84202</td>\n",
       "      <td>0.60</td>\n",
       "    </tr>\n",
       "    <tr>\n",
       "      <th>1</th>\n",
       "      <td>53894</td>\n",
       "      <td>0.38</td>\n",
       "    </tr>\n",
       "    <tr>\n",
       "      <th>3</th>\n",
       "      <td>1800</td>\n",
       "      <td>0.01</td>\n",
       "    </tr>\n",
       "    <tr>\n",
       "      <th>8</th>\n",
       "      <td>408</td>\n",
       "      <td>0.00</td>\n",
       "    </tr>\n",
       "    <tr>\n",
       "      <th>0</th>\n",
       "      <td>170</td>\n",
       "      <td>0.00</td>\n",
       "    </tr>\n",
       "    <tr>\n",
       "      <th>5</th>\n",
       "      <td>69</td>\n",
       "      <td>0.00</td>\n",
       "    </tr>\n",
       "    <tr>\n",
       "      <th>4</th>\n",
       "      <td>32</td>\n",
       "      <td>0.00</td>\n",
       "    </tr>\n",
       "    <tr>\n",
       "      <th>7</th>\n",
       "      <td>15</td>\n",
       "      <td>0.00</td>\n",
       "    </tr>\n",
       "    <tr>\n",
       "      <th>6</th>\n",
       "      <td>14</td>\n",
       "      <td>0.00</td>\n",
       "    </tr>\n",
       "  </tbody>\n",
       "</table>\n",
       "</div>"
      ],
      "text/plain": [
       "   label_cnt  label_p\n",
       "2  84202     0.60    \n",
       "1  53894     0.38    \n",
       "3  1800      0.01    \n",
       "8  408       0.00    \n",
       "0  170       0.00    \n",
       "5  69        0.00    \n",
       "4  32        0.00    \n",
       "7  15        0.00    \n",
       "6  14        0.00    "
      ]
     },
     "execution_count": 135,
     "metadata": {},
     "output_type": "execute_result"
    }
   ],
   "source": [
    "def counts_merge(pdf):\n",
    "    return pd.merge(\n",
    "        pdf.label.value_counts(normalize=False),\n",
    "        pdf.label.value_counts(normalize=True),\n",
    "        left_index=True,\n",
    "        right_index=True,\n",
    "        suffixes=(\"_cnt\", \"_p\")\n",
    "    )\n",
    "counts_merge(pdf)"
   ]
  },
  {
   "cell_type": "code",
   "execution_count": 136,
   "metadata": {
    "ExecuteTime": {
     "end_time": "2020-07-30T20:32:05.234049Z",
     "start_time": "2020-07-30T20:32:05.210267Z"
    }
   },
   "outputs": [
    {
     "data": {
      "text/html": [
       "<div>\n",
       "<style scoped>\n",
       "    .dataframe tbody tr th:only-of-type {\n",
       "        vertical-align: middle;\n",
       "    }\n",
       "\n",
       "    .dataframe tbody tr th {\n",
       "        vertical-align: top;\n",
       "    }\n",
       "\n",
       "    .dataframe thead th {\n",
       "        text-align: right;\n",
       "    }\n",
       "</style>\n",
       "<table border=\"1\" class=\"dataframe\">\n",
       "  <thead>\n",
       "    <tr style=\"text-align: right;\">\n",
       "      <th></th>\n",
       "      <th>label_cnt</th>\n",
       "      <th>label_p</th>\n",
       "    </tr>\n",
       "  </thead>\n",
       "  <tbody>\n",
       "    <tr>\n",
       "      <th>1</th>\n",
       "      <td>8360</td>\n",
       "      <td>0.46</td>\n",
       "    </tr>\n",
       "    <tr>\n",
       "      <th>2</th>\n",
       "      <td>7471</td>\n",
       "      <td>0.41</td>\n",
       "    </tr>\n",
       "    <tr>\n",
       "      <th>3</th>\n",
       "      <td>1800</td>\n",
       "      <td>0.10</td>\n",
       "    </tr>\n",
       "    <tr>\n",
       "      <th>8</th>\n",
       "      <td>408</td>\n",
       "      <td>0.02</td>\n",
       "    </tr>\n",
       "    <tr>\n",
       "      <th>0</th>\n",
       "      <td>170</td>\n",
       "      <td>0.01</td>\n",
       "    </tr>\n",
       "    <tr>\n",
       "      <th>5</th>\n",
       "      <td>69</td>\n",
       "      <td>0.00</td>\n",
       "    </tr>\n",
       "    <tr>\n",
       "      <th>4</th>\n",
       "      <td>32</td>\n",
       "      <td>0.00</td>\n",
       "    </tr>\n",
       "    <tr>\n",
       "      <th>7</th>\n",
       "      <td>15</td>\n",
       "      <td>0.00</td>\n",
       "    </tr>\n",
       "    <tr>\n",
       "      <th>6</th>\n",
       "      <td>14</td>\n",
       "      <td>0.00</td>\n",
       "    </tr>\n",
       "  </tbody>\n",
       "</table>\n",
       "</div>"
      ],
      "text/plain": [
       "   label_cnt  label_p\n",
       "1  8360      0.46    \n",
       "2  7471      0.41    \n",
       "3  1800      0.10    \n",
       "8  408       0.02    \n",
       "0  170       0.01    \n",
       "5  69        0.00    \n",
       "4  32        0.00    \n",
       "7  15        0.00    \n",
       "6  14        0.00    "
      ]
     },
     "execution_count": 136,
     "metadata": {},
     "output_type": "execute_result"
    }
   ],
   "source": [
    "#post processing -- remove tail queries\n",
    "#TODO move this below the the imbalance secsion\n",
    "pdf_trunc = truncate_tail(pdf)\n",
    "pdf.shape[0], pdf_trunc.shape[0]\n",
    "\n",
    "counts_merge(pdf_train_trunc)"
   ]
  },
  {
   "cell_type": "code",
   "execution_count": 138,
   "metadata": {
    "ExecuteTime": {
     "end_time": "2020-07-30T20:32:05.749559Z",
     "start_time": "2020-07-30T20:32:05.727016Z"
    }
   },
   "outputs": [],
   "source": [
    "pdf = pdf_trunc"
   ]
  },
  {
   "cell_type": "code",
   "execution_count": 139,
   "metadata": {
    "ExecuteTime": {
     "end_time": "2020-07-30T20:32:06.839170Z",
     "start_time": "2020-07-30T20:32:05.754211Z"
    }
   },
   "outputs": [],
   "source": [
    "y_exploded = pdf.loc[pdf.index.repeat(pdf[\"count\"])][[\"label\"]].label.values #(518334,)\n",
    "\n",
    "class_weights_smoothed = get_class_weights(Counter(y_exploded), smooth_factor=0.1) #dict\n",
    "\n",
    "class_weights_smoothed_exploded = compute_sample_weight(class_weights_smoothed, pdf.label) #(4886,)\n",
    "\n",
    "class_weights_list = compute_sample_weight('balanced', y=pdf.label.values) #(4886,)\n",
    "\n",
    "counts = pdf[\"count\"].values\n",
    "\n",
    "sample_weights_composite = class_weights_smoothed_exploded * counts #(4886,)\n",
    "\n",
    "\n",
    "\n",
    "\n",
    "# #add the sample weights to the dataset and save to disk:\n",
    "pdf[\"class_weight\"] = class_weights_smoothed_exploded\n",
    "pdf[\"composite_sample_weight\"] = sample_weights_composite"
   ]
  },
  {
   "cell_type": "code",
   "execution_count": 140,
   "metadata": {
    "ExecuteTime": {
     "end_time": "2020-07-30T20:32:11.811927Z",
     "start_time": "2020-07-30T20:32:06.844011Z"
    }
   },
   "outputs": [],
   "source": [
    "pdf.to_csv(os.path.join(dataset_path, \"dataset+weights.csv\"), index=False)\n",
    "pdf.to_parquet(os.path.join(dataset_path, \"dataset+weights.parquet\"))"
   ]
  },
  {
   "cell_type": "markdown",
   "metadata": {},
   "source": [
    "### Keras"
   ]
  },
  {
   "cell_type": "code",
   "execution_count": 141,
   "metadata": {
    "ExecuteTime": {
     "end_time": "2020-07-30T20:32:11.821068Z",
     "start_time": "2020-07-30T20:32:11.814091Z"
    }
   },
   "outputs": [],
   "source": [
    "from keras.preprocessing.text import Tokenizer\n",
    "from keras.preprocessing.sequence import pad_sequences\n",
    "from keras.models import Sequential, Model\n",
    "from keras import layers\n",
    "import keras.optimizers\n",
    "from keras import backend as K\n",
    "from sklearn.metrics import plot_confusion_matrix, confusion_matrix\n",
    "from sklearn.metrics import ConfusionMatrixDisplay\n",
    "import tensorflow as tf\n",
    "\n",
    "\n",
    "pd.set_option('display.float_format', lambda x: '%.2f' % x)\n",
    "\n",
    "from intent_clf_airedale.fasttext import *\n",
    "\n",
    "#!pip install -q keras_lr_finder\n",
    "#!pip install git+https://github.com/google-research/google-research.git#subdirectory=opt_list -q\n",
    "#from opt_list import tf_opt_list"
   ]
  },
  {
   "cell_type": "code",
   "execution_count": 142,
   "metadata": {
    "ExecuteTime": {
     "end_time": "2020-07-30T20:32:11.896580Z",
     "start_time": "2020-07-30T20:32:11.823234Z"
    }
   },
   "outputs": [],
   "source": [
    "from sklearn.preprocessing import OneHotEncoder"
   ]
  },
  {
   "cell_type": "code",
   "execution_count": 143,
   "metadata": {
    "ExecuteTime": {
     "end_time": "2020-07-30T20:32:11.955064Z",
     "start_time": "2020-07-30T20:32:11.899146Z"
    }
   },
   "outputs": [
    {
     "data": {
      "text/plain": [
       "((18339,), (18339,), (519,), (519,))"
      ]
     },
     "execution_count": 143,
     "metadata": {},
     "output_type": "execute_result"
    }
   ],
   "source": [
    "#format for sklearn and keras\n",
    "sentences_train = pdf[\"query\"].values\n",
    "sentences_test = df_test[\"query\"].values\n",
    "y_train_soft=np.vstack(pdf.prob_labels.values) #soft labels\n",
    "#y_test_soft=np.vstack(pdf.prob_labels.values) #soft labels\n",
    "y_train_hard=pdf.label.values #hard labels \n",
    "y_test_hard = df_test.label.values\n",
    "\n",
    "sentences_train.shape,  y_train_hard.shape, sentences_test.shape, y_test_hard.shape"
   ]
  },
  {
   "cell_type": "code",
   "execution_count": 144,
   "metadata": {
    "ExecuteTime": {
     "end_time": "2020-07-30T20:32:11.963063Z",
     "start_time": "2020-07-30T20:32:11.957370Z"
    }
   },
   "outputs": [],
   "source": [
    "sparse_encoder = OneHotEncoder()\n",
    "y_test_sparse = sparse_encoder.fit_transform(y_test_hard.reshape(-1, 1)).toarray()"
   ]
  },
  {
   "cell_type": "code",
   "execution_count": 145,
   "metadata": {
    "ExecuteTime": {
     "end_time": "2020-07-30T20:32:12.159310Z",
     "start_time": "2020-07-30T20:32:11.965735Z"
    }
   },
   "outputs": [
    {
     "name": "stdout",
     "output_type": "stream",
     "text": [
      "vocab size 54\n",
      "Average train sequence length: 12\n",
      "Average test sequence length: 10\n"
     ]
    }
   ],
   "source": [
    "tokenizer = Tokenizer(num_words=None, char_level=True, lower=True, )\n",
    "tokenizer.fit_on_texts(sentences_train)\n",
    "vocab_size = len(tokenizer.word_index) + 1  # Adding 1 because of reserved 0 index\n",
    "print(\"vocab size\", vocab_size)\n",
    "\n",
    "X_train = tokenizer.texts_to_sequences(sentences_train)\n",
    "X_test = tokenizer.texts_to_sequences(sentences_test)\n",
    "\n",
    "print('Average train sequence length: {}'.format(np.mean(list(map(len, X_train)), dtype=int)))\n",
    "print('Average test sequence length: {}'.format(np.mean(list(map(len, X_test)), dtype=int)))"
   ]
  },
  {
   "cell_type": "code",
   "execution_count": 146,
   "metadata": {
    "ExecuteTime": {
     "end_time": "2020-07-30T20:32:12.164438Z",
     "start_time": "2020-07-30T20:32:12.161440Z"
    }
   },
   "outputs": [],
   "source": [
    "ngram_range = 3\n",
    "max_features = vocab_size"
   ]
  },
  {
   "cell_type": "code",
   "execution_count": 147,
   "metadata": {
    "ExecuteTime": {
     "end_time": "2020-07-30T20:32:12.981217Z",
     "start_time": "2020-07-30T20:32:12.166897Z"
    }
   },
   "outputs": [
    {
     "name": "stdout",
     "output_type": "stream",
     "text": [
      "Adding 3-gram features\n",
      "new max_features 9185\n",
      "Average train sequence length: 34\n",
      "Average test sequence length: 27\n"
     ]
    }
   ],
   "source": [
    "if ngram_range > 1:\n",
    "    print('Adding {}-gram features'.format(ngram_range))\n",
    "    # Create set of unique n-gram from the training set.\n",
    "    ngram_set = set()\n",
    "    for input_list in X_train:\n",
    "        for i in range(2, ngram_range + 1):\n",
    "            set_of_ngram = create_ngram_set(input_list, ngram_value=i)\n",
    "            ngram_set.update(set_of_ngram)\n",
    "\n",
    "    # Dictionary mapping n-gram token to a unique integer.\n",
    "    # Integer values are greater than max_features in order\n",
    "    # to avoid collision with existing features.\n",
    "    start_index = max_features + 1\n",
    "    token_indice = {v: k + start_index for k, v in enumerate(ngram_set)}\n",
    "    indice_token = {token_indice[k]: k for k in token_indice}\n",
    "\n",
    "    # max_features is the highest integer that could be found in the dataset.\n",
    "    max_features = np.max(list(indice_token.keys())) + 1\n",
    "    print(\"new max_features\", max_features)\n",
    "\n",
    "    # Augmenting x_train and x_test with n-grams features\n",
    "    X_train = add_ngram(X_train, token_indice, ngram_range)\n",
    "    X_test = add_ngram(X_test, token_indice, ngram_range)\n",
    "    print('Average train sequence length: {}'.format(\n",
    "        np.mean(list(map(len, X_train)), dtype=int)))\n",
    "    print('Average test sequence length: {}'.format(\n",
    "         np.mean(list(map(len, X_test)), dtype=int)))\n",
    "\n",
    "maxlen=50\n",
    "X_train_pad = pad_sequences(X_train, padding='post', maxlen=maxlen)\n",
    "X_test_pad = pad_sequences(X_test, padding='post', maxlen=maxlen)"
   ]
  },
  {
   "cell_type": "code",
   "execution_count": 148,
   "metadata": {
    "ExecuteTime": {
     "end_time": "2020-07-30T20:32:13.013372Z",
     "start_time": "2020-07-30T20:32:12.983707Z"
    },
    "code_folding": [
     2,
     20,
     38,
     50,
     62,
     70,
     78
    ]
   },
   "outputs": [],
   "source": [
    "target_names = LABEL_SET\n",
    "\n",
    "def MLP(input_dim):\n",
    "    \"\"\"\n",
    "    No embeddings\n",
    "    \"\"\"\n",
    "    model = Sequential()\n",
    "    model.add(layers.Dense(10, input_dim=input_dim, activation='relu'))\n",
    "    model.add(layers.Dense(len(target_names), activation='softmax'))\n",
    "    return model\n",
    "\n",
    "def MaxPooling(vocab_size, embedding_dim = 50, activation=\"softmax\", dropout=0.):\n",
    "    model = Sequential()\n",
    "    model.add(layers.Embedding(vocab_size, embedding_dim, input_length=maxlen, \n",
    "                               embeddings_initializer='he_uniform'))\n",
    "    model.add(layers.Dropout(dropout))    \n",
    "    model.add(layers.GlobalMaxPooling1D())\n",
    "    model.add(layers.Dense(len(target_names), activation=activation, kernel_initializer=\"he_uniform\"))\n",
    "    return model\n",
    "\n",
    "def MetaMaxPooling(vocab_size, embedding_dim = 50, activation=\"softmax\", dropout=0.):\n",
    "    ngrams = layers.Input(shape=(maxlen,), name=\"ngrams_input\")\n",
    "    char_cnt = layers.Input(shape=(10,))\n",
    "    \n",
    "    emb = layers.Embedding(vocab_size, embedding_dim, input_length=maxlen, \n",
    "                               embeddings_initializer='he_uniform')(ngrams)\n",
    "    maxp = layers.GlobalMaxPooling1D()(emb)\n",
    "    \n",
    "    dense = layers.Dense(100, activation=\"relu\")(char_cnt)\n",
    "    dense_relu = layers.Dense(100, activation=\"relu\")(dense)\n",
    "    \n",
    "    concat = layers.Concatenate()([maxp, dense_relu])\n",
    "    output = layers.Dense(len(target_names), activation=activation, kernel_initializer=\"he_uniform\")(maxp)\n",
    "\n",
    "    model = Model(inputs=[ngrams], outputs=output)\n",
    "    return model\n",
    "    \n",
    "\n",
    "def DNN(vocab_size, embedding_dim=50, activation=\"softmax\", dropout=0.0):\n",
    "    model = Sequential()\n",
    "    model.add(layers.Embedding(vocab_size, embedding_dim, input_length=maxlen))\n",
    "    model.add(layers.GlobalAveragePooling1D())\n",
    "    \n",
    "    model.add(layers.Dense(100, activation=\"relu\"))\n",
    "    model.add(layers.Dropout(dropout))    \n",
    "    model.add(layers.BatchNormalization())\n",
    "    \n",
    "    model.add(layers.Dense(len(target_names), activation=activation))\n",
    "    return model\n",
    "\n",
    "def CNN(embedding_dim = 50):\n",
    "    \n",
    "\n",
    "    model = Sequential()\n",
    "    model.add(layers.Embedding(vocab_size, embedding_dim, input_length=maxlen))\n",
    "\n",
    "    model.add(layers.SeparableConv1D(128, 3, activation='relu'))\n",
    "    model.add(layers.GlobalMaxPooling1D())\n",
    "    model.add(layers.Dense(10, activation='relu'))\n",
    "    model.add(layers.Dense(len(target_names), activation='softmax'))\n",
    "    return model\n",
    "\n",
    "def LSTM(embedding_dim=50, dropout=0.0):\n",
    "    model = Sequential()\n",
    "    model.add(layers.Embedding(vocab_size, embedding_dim, input_length=maxlen))\n",
    "    model.add(layers.SpatialDropout1D(dropout))\n",
    "    model.add(layers.LSTM(100, dropout=dropout, recurrent_dropout=dropout))\n",
    "    model.add(layers.Dense(len(target_names), activation='softmax'))\n",
    "    return model\n",
    "    \n",
    "def Bi_LSTM(embedding_dim = 50):\n",
    "    model = Sequential()\n",
    "    model.add(layers.Embedding(vocab_size, embedding_dim, input_length=maxlen))\n",
    "    model.add(layers.Bidirectional(layers.LSTM(64)))\n",
    "    model.add(layers.Dropout(0.0))\n",
    "    model.add(layers.Dense(len(target_names), activation='softmax'))\n",
    "    return model\n",
    "\n",
    "def ConvLSTM(kernel_size = 5, filters = 64, pool_size = 4, lstm_output_size = 70, embedding_dim = 50):\n",
    "    model = Sequential()\n",
    "    model.add(layers.Embedding(vocab_size, embedding_dim, input_length=maxlen))\n",
    "    model.add(layers.Dropout(0.25))\n",
    "    model.add(layers.Conv1D(filters,\n",
    "                     kernel_size,\n",
    "                     padding='valid',\n",
    "                     activation='relu',\n",
    "                     strides=1))\n",
    "    model.add(layers.MaxPooling1D(pool_size=pool_size))\n",
    "    model.add(layers.LSTM(lstm_output_size))\n",
    "    model.add(layers.Dense(len(target_names), activation=\"softmax\"))\n",
    "    return model\n"
   ]
  },
  {
   "cell_type": "code",
   "execution_count": 149,
   "metadata": {
    "ExecuteTime": {
     "end_time": "2020-07-30T20:32:13.021619Z",
     "start_time": "2020-07-30T20:32:13.015335Z"
    }
   },
   "outputs": [],
   "source": [
    "def build_model(single_label=True, hard_labels=True):\n",
    "    activation = \"softmax\"\n",
    "    if single_label:\n",
    "        if hard_labels:\n",
    "            loss = 'sparse_categorical_crossentropy'\n",
    "        else:  #soft labels\n",
    "            loss = 'categorical_crossentropy'\n",
    "    else:  #multilabel\n",
    "        print(\"multi-label\")\n",
    "        activation = \"sigmoid\"\n",
    "        loss = 'categorical_crossentropy'\n",
    "\n",
    "\n",
    "    model = MaxPooling(max_features,\n",
    "                       embedding_dim=128,\n",
    "                       activation=activation,\n",
    "                       dropout=0.0)\n",
    "\n",
    "\n",
    "    opt = keras.optimizers.Nadam()\n",
    "\n",
    "    print(loss)\n",
    "    model.compile(optimizer=opt, loss=loss, metrics=['accuracy'])\n",
    "    model.summary()\n",
    "\n",
    "    return model\n"
   ]
  },
  {
   "cell_type": "markdown",
   "metadata": {},
   "source": [
    "#### Training"
   ]
  },
  {
   "cell_type": "code",
   "execution_count": 150,
   "metadata": {
    "ExecuteTime": {
     "end_time": "2020-07-30T20:32:13.028286Z",
     "start_time": "2020-07-30T20:32:13.023696Z"
    }
   },
   "outputs": [],
   "source": [
    "import tensorflow as tf\n",
    "\n",
    "logger = tf.get_logger()\n",
    "logger.propagate = False"
   ]
  },
  {
   "cell_type": "code",
   "execution_count": 190,
   "metadata": {
    "ExecuteTime": {
     "end_time": "2020-07-30T21:52:52.321600Z",
     "start_time": "2020-07-30T21:52:36.173641Z"
    },
    "scrolled": true
   },
   "outputs": [
    {
     "name": "stdout",
     "output_type": "stream",
     "text": [
      "sparse_categorical_crossentropy\n",
      "_________________________________________________________________\n",
      "Layer (type)                 Output Shape              Param #   \n",
      "=================================================================\n",
      "embedding_4 (Embedding)      (None, 50, 128)           1175680   \n",
      "_________________________________________________________________\n",
      "dropout_4 (Dropout)          (None, 50, 128)           0         \n",
      "_________________________________________________________________\n",
      "global_max_pooling1d_4 (Glob (None, 128)               0         \n",
      "_________________________________________________________________\n",
      "dense_4 (Dense)              (None, 9)                 1161      \n",
      "=================================================================\n",
      "Total params: 1,176,841\n",
      "Trainable params: 1,176,841\n",
      "Non-trainable params: 0\n",
      "_________________________________________________________________\n",
      "Train on 18339 samples, validate on 519 samples\n",
      "Epoch 1/50\n",
      "18339/18339 [==============================] - 1s 48us/step - loss: 678.7662 - acc: 0.3615 - val_loss: 1.8023 - val_acc: 0.3218\n",
      "Epoch 2/50\n",
      "18339/18339 [==============================] - 0s 15us/step - loss: 571.0235 - acc: 0.4267 - val_loss: 1.4844 - val_acc: 0.4239\n",
      "Epoch 3/50\n",
      "18339/18339 [==============================] - 0s 14us/step - loss: 494.2308 - acc: 0.5181 - val_loss: 1.3484 - val_acc: 0.6166\n",
      "Epoch 4/50\n",
      "18339/18339 [==============================] - 0s 14us/step - loss: 436.7766 - acc: 0.5804 - val_loss: 1.2546 - val_acc: 0.6859\n",
      "Epoch 5/50\n",
      "18339/18339 [==============================] - 0s 13us/step - loss: 379.5623 - acc: 0.6149 - val_loss: 1.1691 - val_acc: 0.7091\n",
      "Epoch 6/50\n",
      "18339/18339 [==============================] - 0s 14us/step - loss: 322.5735 - acc: 0.6557 - val_loss: 1.0931 - val_acc: 0.7110\n",
      "Epoch 7/50\n",
      "18339/18339 [==============================] - 0s 13us/step - loss: 270.8040 - acc: 0.6723 - val_loss: 1.0207 - val_acc: 0.7264\n",
      "Epoch 8/50\n",
      "18339/18339 [==============================] - 0s 13us/step - loss: 224.3799 - acc: 0.7337 - val_loss: 0.9706 - val_acc: 0.7495\n",
      "Epoch 9/50\n",
      "18339/18339 [==============================] - 0s 13us/step - loss: 184.3211 - acc: 0.7625 - val_loss: 0.9324 - val_acc: 0.7630\n",
      "Epoch 10/50\n",
      "18339/18339 [==============================] - 0s 13us/step - loss: 151.1238 - acc: 0.7890 - val_loss: 0.9061 - val_acc: 0.7707\n",
      "Epoch 11/50\n",
      "18339/18339 [==============================] - 0s 13us/step - loss: 122.7143 - acc: 0.8097 - val_loss: 0.8935 - val_acc: 0.7803\n",
      "Epoch 12/50\n",
      "18339/18339 [==============================] - 0s 13us/step - loss: 100.7024 - acc: 0.8163 - val_loss: 0.8767 - val_acc: 0.7861\n",
      "Epoch 13/50\n",
      "18339/18339 [==============================] - 0s 13us/step - loss: 83.3970 - acc: 0.8266 - val_loss: 0.8635 - val_acc: 0.7881\n",
      "Epoch 14/50\n",
      "18339/18339 [==============================] - 0s 13us/step - loss: 70.1920 - acc: 0.8348 - val_loss: 0.8514 - val_acc: 0.7842\n",
      "Epoch 15/50\n",
      "18339/18339 [==============================] - 0s 14us/step - loss: 60.1591 - acc: 0.8457 - val_loss: 0.8523 - val_acc: 0.7881\n",
      "Epoch 16/50\n",
      "18339/18339 [==============================] - 0s 14us/step - loss: 52.2012 - acc: 0.8493 - val_loss: 0.8496 - val_acc: 0.7938\n",
      "Epoch 17/50\n",
      "18339/18339 [==============================] - 0s 14us/step - loss: 46.0332 - acc: 0.8576 - val_loss: 0.8555 - val_acc: 0.7977\n",
      "Epoch 18/50\n",
      "18339/18339 [==============================] - 0s 14us/step - loss: 41.0139 - acc: 0.8589 - val_loss: 0.8525 - val_acc: 0.7996\n",
      "Epoch 19/50\n",
      "18339/18339 [==============================] - 0s 14us/step - loss: 36.8175 - acc: 0.8653 - val_loss: 0.8565 - val_acc: 0.7977\n",
      "Epoch 20/50\n",
      "18339/18339 [==============================] - 0s 13us/step - loss: 33.3400 - acc: 0.8705 - val_loss: 0.8598 - val_acc: 0.7977\n",
      "Epoch 21/50\n",
      "18339/18339 [==============================] - 0s 14us/step - loss: 30.4636 - acc: 0.8743 - val_loss: 0.8656 - val_acc: 0.7977\n",
      "Epoch 22/50\n",
      "18339/18339 [==============================] - 0s 14us/step - loss: 28.0703 - acc: 0.8773 - val_loss: 0.8709 - val_acc: 0.7958\n",
      "Epoch 23/50\n",
      "18339/18339 [==============================] - 0s 14us/step - loss: 26.0904 - acc: 0.8804 - val_loss: 0.8778 - val_acc: 0.7977\n",
      "Epoch 24/50\n",
      "18339/18339 [==============================] - 0s 13us/step - loss: 24.1666 - acc: 0.8845 - val_loss: 0.8839 - val_acc: 0.7958\n",
      "Epoch 25/50\n",
      "18339/18339 [==============================] - 0s 14us/step - loss: 22.5337 - acc: 0.8865 - val_loss: 0.8892 - val_acc: 0.7977\n",
      "Epoch 26/50\n",
      "18339/18339 [==============================] - 0s 14us/step - loss: 21.0810 - acc: 0.8891 - val_loss: 0.8939 - val_acc: 0.7977\n",
      "Epoch 27/50\n",
      "18339/18339 [==============================] - 0s 13us/step - loss: 19.8319 - acc: 0.8934 - val_loss: 0.9013 - val_acc: 0.7977\n",
      "Epoch 28/50\n",
      "18339/18339 [==============================] - 0s 13us/step - loss: 18.6962 - acc: 0.8943 - val_loss: 0.9058 - val_acc: 0.7996\n",
      "Epoch 29/50\n",
      "18339/18339 [==============================] - 0s 14us/step - loss: 17.6790 - acc: 0.8969 - val_loss: 0.9131 - val_acc: 0.8015\n",
      "Epoch 30/50\n",
      "18339/18339 [==============================] - 0s 14us/step - loss: 16.7095 - acc: 0.8986 - val_loss: 0.9223 - val_acc: 0.8035\n",
      "Epoch 31/50\n",
      "18339/18339 [==============================] - 0s 14us/step - loss: 15.8844 - acc: 0.8994 - val_loss: 0.9275 - val_acc: 0.8035\n",
      "Epoch 32/50\n",
      "18339/18339 [==============================] - 0s 13us/step - loss: 15.1467 - acc: 0.9028 - val_loss: 0.9345 - val_acc: 0.8054\n",
      "Epoch 33/50\n",
      "18339/18339 [==============================] - 0s 13us/step - loss: 14.4545 - acc: 0.9041 - val_loss: 0.9425 - val_acc: 0.8054\n",
      "Epoch 34/50\n",
      "18339/18339 [==============================] - 0s 14us/step - loss: 13.8108 - acc: 0.9056 - val_loss: 0.9512 - val_acc: 0.8035\n",
      "Epoch 35/50\n",
      "18339/18339 [==============================] - 0s 13us/step - loss: 13.2513 - acc: 0.9065 - val_loss: 0.9570 - val_acc: 0.8054\n",
      "Epoch 36/50\n",
      "18339/18339 [==============================] - 0s 13us/step - loss: 12.6922 - acc: 0.9086 - val_loss: 0.9626 - val_acc: 0.8054\n",
      "Epoch 37/50\n",
      "18339/18339 [==============================] - 0s 13us/step - loss: 12.1970 - acc: 0.9119 - val_loss: 0.9728 - val_acc: 0.8054\n",
      "Epoch 38/50\n",
      "18339/18339 [==============================] - 0s 14us/step - loss: 11.7189 - acc: 0.9120 - val_loss: 0.9784 - val_acc: 0.8054\n",
      "Epoch 39/50\n",
      "18339/18339 [==============================] - 0s 13us/step - loss: 11.2786 - acc: 0.9140 - val_loss: 0.9844 - val_acc: 0.8054\n",
      "Epoch 40/50\n",
      "18339/18339 [==============================] - 0s 13us/step - loss: 10.8781 - acc: 0.9161 - val_loss: 0.9951 - val_acc: 0.7996\n",
      "Epoch 41/50\n",
      "18339/18339 [==============================] - 0s 14us/step - loss: 10.4715 - acc: 0.9173 - val_loss: 1.0029 - val_acc: 0.8015\n",
      "Epoch 42/50\n",
      "18339/18339 [==============================] - 0s 14us/step - loss: 10.1024 - acc: 0.9184 - val_loss: 1.0067 - val_acc: 0.7996\n",
      "Epoch 43/50\n",
      "18339/18339 [==============================] - 0s 13us/step - loss: 9.7889 - acc: 0.9212 - val_loss: 1.0140 - val_acc: 0.8035\n",
      "Epoch 44/50\n",
      "18339/18339 [==============================] - 0s 13us/step - loss: 9.4398 - acc: 0.9232 - val_loss: 1.0223 - val_acc: 0.8054\n",
      "Epoch 45/50\n",
      "18339/18339 [==============================] - 0s 13us/step - loss: 9.1539 - acc: 0.9233 - val_loss: 1.0264 - val_acc: 0.8073\n",
      "Epoch 46/50\n",
      "18339/18339 [==============================] - 0s 13us/step - loss: 8.8549 - acc: 0.9255 - val_loss: 1.0357 - val_acc: 0.8073\n",
      "Epoch 47/50\n",
      "18339/18339 [==============================] - 0s 14us/step - loss: 8.6048 - acc: 0.9276 - val_loss: 1.0434 - val_acc: 0.8054\n",
      "Epoch 48/50\n",
      "18339/18339 [==============================] - 0s 13us/step - loss: 8.2920 - acc: 0.9283 - val_loss: 1.0503 - val_acc: 0.8054\n",
      "Epoch 49/50\n",
      "18339/18339 [==============================] - 0s 13us/step - loss: 8.0560 - acc: 0.9298 - val_loss: 1.0551 - val_acc: 0.8054\n",
      "Epoch 50/50\n",
      "18339/18339 [==============================] - 0s 13us/step - loss: 7.8424 - acc: 0.9309 - val_loss: 1.0591 - val_acc: 0.8054\n",
      "Training Accuracy: 0.9339\n",
      "Testing Accuracy:  0.8054\n",
      "              precision    recall  f1-score   support\n",
      "\n",
      "     CUISINE       0.90      0.92      0.91       170\n",
      "        DISH       0.97      0.89      0.93      8360\n",
      "  RESTAURANT       0.88      0.97      0.92      7471\n",
      "     ADDRESS       1.00      1.00      1.00      1800\n",
      "        DIET       0.93      0.78      0.85        32\n",
      "     ALCOHOL       0.97      0.91      0.94        69\n",
      "     TOBACCO       1.00      0.93      0.96        14\n",
      "   MEAL_TIME       1.00      0.93      0.97        15\n",
      "       OTHER       0.99      0.98      0.99       408\n",
      "\n",
      "    accuracy                           0.93     18339\n",
      "   macro avg       0.96      0.92      0.94     18339\n",
      "weighted avg       0.94      0.93      0.93     18339\n",
      "\n",
      "              precision    recall  f1-score   support\n",
      "\n",
      "     CUISINE       0.91      0.83      0.87        47\n",
      "        DISH       0.90      0.90      0.90       253\n",
      "  RESTAURANT       0.68      0.87      0.76       150\n",
      "     ADDRESS       0.75      1.00      0.86         6\n",
      "        DIET       0.67      0.50      0.57         4\n",
      "     ALCOHOL       0.57      1.00      0.73         4\n",
      "     TOBACCO       1.00      1.00      1.00         3\n",
      "   MEAL_TIME       0.75      0.60      0.67         5\n",
      "       OTHER       0.60      0.06      0.12        47\n",
      "\n",
      "    accuracy                           0.81       519\n",
      "   macro avg       0.76      0.75      0.72       519\n",
      "weighted avg       0.80      0.81      0.78       519\n",
      "\n"
     ]
    },
    {
     "data": {
      "image/png": "[encoded data removed]",
      "text/plain": [
       "<Figure size 864x360 with 2 Axes>"
      ]
     },
     "metadata": {
      "image/png": {
       "height": 319,
       "width": 706
      },
      "needs_background": "light"
     },
     "output_type": "display_data"
    },
    {
     "data": {
      "image/png": "[encoded data removed]",
      "text/plain": [
       "<Figure size 432x432 with 2 Axes>"
      ]
     },
     "metadata": {
      "image/png": {
       "height": 387,
       "width": 427
      },
      "needs_background": "light"
     },
     "output_type": "display_data"
    },
    {
     "data": {
      "image/png": "[encoded data removed]",
      "text/plain": [
       "<Figure size 432x432 with 2 Axes>"
      ]
     },
     "metadata": {
      "image/png": {
       "height": 391,
       "width": 427
      },
      "needs_background": "light"
     },
     "output_type": "display_data"
    }
   ],
   "source": [
    "TRAIN_BATCH_SIZE = 512\n",
    "training_steps = X_train_pad.shape[0] / TRAIN_BATCH_SIZE\n",
    "EVAL_BATCH_SIZE = 4096\n",
    "EPOCHS = 50\n",
    "\n",
    "callbacks = [\n",
    "    #    keras.callbacks.EarlyStopping(patience=2, monitor=\"val_acc\", min_delta=1e-3)\n",
    "]\n",
    "\n",
    "\n",
    "weights = [\n",
    "           #None, \n",
    "          #class_weights_list, \n",
    "          # class_weights_smoothed_exploded,\n",
    "           #counts,  #THESE PASS THE FRENCH TEST\n",
    "           class_weights_smoothed_exploded * counts\n",
    "          ]\n",
    "\n",
    "for sample_weights in weights:\n",
    "\n",
    "    hard_labels=True\n",
    "    model = build_model(single_label=True, hard_labels=hard_labels)\n",
    "    if hard_labels:\n",
    "        y_train = y_train_hard\n",
    "        y_test = y_test_hard\n",
    "    else:\n",
    "        y_train = y_train_soft\n",
    "        y_test = y_test_sparse\n",
    "\n",
    "    history = model.fit(\n",
    "        [X_train_pad],\n",
    "        y_train,\n",
    "        epochs=EPOCHS,\n",
    "        validation_data=([X_test_pad], y_test),\n",
    "        batch_size=TRAIN_BATCH_SIZE,\n",
    "        sample_weight=sample_weights,\n",
    "        callbacks=callbacks)\n",
    "    \n",
    "    plot_history(history)\n",
    "\n",
    "    loss, accuracy = model.evaluate([X_train_pad],\n",
    "                                    y_train,\n",
    "                                    batch_size=EVAL_BATCH_SIZE,\n",
    "                                    verbose=False)\n",
    "    print(\"Training Accuracy: {:.4f}\".format(accuracy))\n",
    "    loss, accuracy = model.evaluate([X_test_pad], y_test, verbose=False)\n",
    "    print(\"Testing Accuracy:  {:.4f}\".format(accuracy))\n",
    "\n",
    "    y_pred = np.argmax(model.predict([X_train_pad], batch_size=EVAL_BATCH_SIZE), axis=1)\n",
    "    print(classification_report(\n",
    "        y_train_hard,\n",
    "        y_pred,\n",
    "        target_names=target_names,\n",
    "    ))\n",
    "    __plot_confusion_matrix(y_train_hard, y_pred, target_names, \"Norm'd Conf. Matrix\")\n",
    "\n",
    "    y_test_pred = np.argmax(model.predict([X_test_pad], batch_size=EVAL_BATCH_SIZE), axis=1)\n",
    "    print(classification_report(\n",
    "        y_test_hard,\n",
    "        y_test_pred,\n",
    "        target_names=target_names,\n",
    "    ))\n",
    "    __plot_confusion_matrix(y_test_hard, y_test_pred, target_names,\n",
    "                           \"Norm'd Conf. Matrix\")"
   ]
  },
  {
   "cell_type": "markdown",
   "metadata": {},
   "source": [
    "#### Testing"
   ]
  },
  {
   "cell_type": "code",
   "execution_count": 191,
   "metadata": {
    "ExecuteTime": {
     "end_time": "2020-07-30T21:53:17.776334Z",
     "start_time": "2020-07-30T21:53:17.767723Z"
    }
   },
   "outputs": [
    {
     "data": {
      "text/plain": [
       "array([[  16,    4,   24,   24,    3, 6158, 4771, 2098, 6540,  934, 4826,\n",
       "        2836,    0,    0,    0,    0,    0,    0,    0,    0,    0,    0,\n",
       "           0,    0,    0,    0,    0,    0,    0,    0,    0,    0,    0,\n",
       "           0,    0,    0,    0,    0,    0,    0,    0,    0,    0,    0,\n",
       "           0,    0,    0,    0,    0,    0]], dtype=int32)"
      ]
     },
     "execution_count": 191,
     "metadata": {},
     "output_type": "execute_result"
    }
   ],
   "source": [
    "vectorize_pipe = lambda x: pad_sequences(add_ngram(tokenizer.texts_to_sequences(x), token_indice, ngram_range), padding='post', maxlen=maxlen)\n",
    "vectorize_pipe([\"pizza\"])"
   ]
  },
  {
   "cell_type": "code",
   "execution_count": 192,
   "metadata": {
    "ExecuteTime": {
     "end_time": "2020-07-30T21:53:26.620972Z",
     "start_time": "2020-07-30T21:53:26.309508Z"
    }
   },
   "outputs": [
    {
     "name": "stdout",
     "output_type": "stream",
     "text": [
      "TOBACCO [[0.02 0.   0.16 0.04 0.01 0.   0.74 0.01 0.01]]\n"
     ]
    },
    {
     "data": {
      "image/png": "[encoded data removed]",
      "text/plain": [
       "<Figure size 432x288 with 1 Axes>"
      ]
     },
     "metadata": {
      "image/png": {
       "height": 296,
       "width": 372
      },
      "needs_background": "light"
     },
     "output_type": "display_data"
    }
   ],
   "source": [
    "query = \"cigaretes\"\n",
    "probs = model.predict([vectorize_pipe([query])])\n",
    "print(INV_LABEL_MAPPING[np.argmax(probs)], probs)\n",
    "\n",
    "_=plt.bar(range(len(LABEL_SET)),probs[0],)\n",
    "_=plt.xticks(range(len(LABEL_SET)), LABEL_SET, rotation=45)\n",
    "_=plt.ylim(top=1.)"
   ]
  },
  {
   "cell_type": "code",
   "execution_count": 154,
   "metadata": {
    "ExecuteTime": {
     "end_time": "2020-07-30T20:32:29.815599Z",
     "start_time": "2020-07-30T20:32:29.810425Z"
    },
    "code_folding": [
     0
    ]
   },
   "outputs": [],
   "source": [
    "input_examples = [\"taco bell\", \"taco ball\", \"KFC\", \"sushi\", \"hancos\", \"le prive\", \"le rivage\", \"starbuck coffe\",\n",
    "                 \"z\", \"zz\", \"zzz\", \"j\", \"jj\", \"asdf\", \"beer\", \"juul\", \"paleo pizza\", \"pizza\", \"paleo\",\n",
    "                 \"gluten free pizza\", \"french\", \"beef bourginion\", \"mcdonalds\", \"mcd\",\n",
    "                  \"cheesecake\", \"zzzzzzz\", \"wine\", \"vodka\", \"pizza\",\n",
    "                 \"\", \" \", \"mediterian\", \"jsalfjsalfkj\", \"carnitas snack shack\", \"panera\", \"wine\", \"lunch\",\n",
    "                 \"vegan sandwitch\", \"bhel puri\", \"french\", \"frennch\", \"crench\", \"frennc\"]"
   ]
  },
  {
   "cell_type": "code",
   "execution_count": 155,
   "metadata": {
    "ExecuteTime": {
     "end_time": "2020-07-30T20:32:29.831228Z",
     "start_time": "2020-07-30T20:32:29.817815Z"
    }
   },
   "outputs": [
    {
     "data": {
      "text/plain": [
       "[('taco bell', 'RESTAURANT'),\n",
       " ('taco ball', 'RESTAURANT'),\n",
       " ('KFC', 'RESTAURANT'),\n",
       " ('sushi', 'DISH'),\n",
       " ('hancos', 'RESTAURANT'),\n",
       " ('le prive', 'RESTAURANT'),\n",
       " ('le rivage', 'RESTAURANT'),\n",
       " ('starbuck coffe', 'RESTAURANT'),\n",
       " ('z', 'OTHER'),\n",
       " ('zz', 'DIET'),\n",
       " ('zzz', 'OTHER'),\n",
       " ('j', 'OTHER'),\n",
       " ('jj', 'OTHER'),\n",
       " ('asdf', 'CUISINE'),\n",
       " ('beer', 'ALCOHOL'),\n",
       " ('juul', 'TOBACCO'),\n",
       " ('paleo pizza', 'DIET'),\n",
       " ('pizza', 'DISH'),\n",
       " ('paleo', 'DIET'),\n",
       " ('gluten free pizza', 'DIET'),\n",
       " ('french', 'CUISINE'),\n",
       " ('beef bourginion', 'RESTAURANT'),\n",
       " ('mcdonalds', 'RESTAURANT'),\n",
       " ('mcd', 'RESTAURANT'),\n",
       " ('cheesecake', 'DISH'),\n",
       " ('zzzzzzz', 'OTHER'),\n",
       " ('wine', 'ALCOHOL'),\n",
       " ('vodka', 'ALCOHOL'),\n",
       " ('pizza', 'DISH'),\n",
       " ('', 'OTHER'),\n",
       " (' ', 'RESTAURANT'),\n",
       " ('mediterian', 'CUISINE'),\n",
       " ('jsalfjsalfkj', 'OTHER'),\n",
       " ('carnitas snack shack', 'DISH'),\n",
       " ('panera', 'RESTAURANT'),\n",
       " ('wine', 'ALCOHOL'),\n",
       " ('lunch', 'MEAL_TIME'),\n",
       " ('vegan sandwitch', 'RESTAURANT'),\n",
       " ('bhel puri', 'RESTAURANT'),\n",
       " ('french', 'CUISINE'),\n",
       " ('frennch', 'CUISINE'),\n",
       " ('crench', 'CUISINE'),\n",
       " ('frennc', 'DISH')]"
      ]
     },
     "execution_count": 155,
     "metadata": {},
     "output_type": "execute_result"
    }
   ],
   "source": [
    "#test set\n",
    "\n",
    "test_preds=model.predict(vectorize_pipe(input_examples))\n",
    "list(zip(input_examples, [INV_LABEL_MAPPING[klass] for klass in np.argmax(test_preds, axis=1)]))"
   ]
  },
  {
   "cell_type": "code",
   "execution_count": 156,
   "metadata": {
    "ExecuteTime": {
     "end_time": "2020-07-30T20:32:34.402905Z",
     "start_time": "2020-07-30T20:32:29.833760Z"
    }
   },
   "outputs": [],
   "source": [
    "export_path = \"exports/keras/{}\".format(version)\n",
    "\n",
    "tf.saved_model.simple_save(\n",
    "    keras.backend.get_session(),\n",
    "    export_path,\n",
    "    inputs={'input_query': model.input},\n",
    "    outputs={t.name: t for t in model.outputs}\n",
    ")"
   ]
  },
  {
   "cell_type": "code",
   "execution_count": 157,
   "metadata": {
    "ExecuteTime": {
     "end_time": "2020-07-30T20:32:37.349996Z",
     "start_time": "2020-07-30T20:32:34.407255Z"
    }
   },
   "outputs": [
    {
     "name": "stdout",
     "output_type": "stream",
     "text": [
      "WARNING: Logging before flag parsing goes to stderr.\n",
      "W0730 20:32:36.847273 140092751234880 module_wrapper.py:139] From /home/ubuntu/anaconda3/envs/tensorflow_p36/lib/python3.6/site-packages/tensorflow_core/__init__.py:1473: The name tf.estimator.inputs is deprecated. Please use tf.compat.v1.estimator.inputs instead.\n",
      "\n",
      "The given SavedModel SignatureDef contains the following input(s):\n",
      "  inputs['input_query'] tensor_info:\n",
      "      dtype: DT_FLOAT\n",
      "      shape: (-1, 50)\n",
      "      name: embedding_2_input:0\n",
      "The given SavedModel SignatureDef contains the following output(s):\n",
      "  outputs['dense_2/Softmax:0'] tensor_info:\n",
      "      dtype: DT_FLOAT\n",
      "      shape: (-1, 9)\n",
      "      name: dense_2/Softmax:0\n",
      "Method name is: tensorflow/serving/predict\n"
     ]
    }
   ],
   "source": [
    "!saved_model_cli show --dir {export_path} --tag_set serve --signature_def serving_default"
   ]
  },
  {
   "cell_type": "markdown",
   "metadata": {},
   "source": [
    "### Tensorflow\n",
    "\n"
   ]
  },
  {
   "cell_type": "markdown",
   "metadata": {
    "ExecuteTime": {
     "end_time": "2020-07-30T19:33:31.928689Z",
     "start_time": "2020-07-30T19:33:31.561994Z"
    },
    "heading_collapsed": true
   },
   "source": [
    "#### Train/Test Skew\n",
    "\n",
    "![](assets/skew.png)\n",
    "\n",
    "#### In-graph Ops\n",
    "![](assets/no_skew.png)"
   ]
  },
  {
   "cell_type": "code",
   "execution_count": 158,
   "metadata": {
    "ExecuteTime": {
     "end_time": "2020-07-30T20:33:01.040009Z",
     "start_time": "2020-07-30T20:32:37.352391Z"
    },
    "hidden": true
   },
   "outputs": [
    {
     "name": "stdout",
     "output_type": "stream",
     "text": [
      "Looking in indexes: https://artifactory.gdp.data.grubhub.com/artifactory/api/pypi/pypi/simple\n",
      "Requirement already satisfied: tensorflow-metadata==0.15 in /home_local/ubuntu/anaconda3/envs/tensorflow_p36/lib/python3.6/site-packages (0.15.0)\n",
      "Requirement already satisfied: pydot==1.2.4 in /home_local/ubuntu/anaconda3/envs/tensorflow_p36/lib/python3.6/site-packages (1.2.4)\n",
      "Requirement already satisfied: tfx-bsl==0.15 in /home_local/ubuntu/anaconda3/envs/tensorflow_p36/lib/python3.6/site-packages (0.15.0)\n",
      "Requirement already satisfied: absl-py==0.7 in /home_local/ubuntu/anaconda3/envs/tensorflow_p36/lib/python3.6/site-packages (0.7.0)\n",
      "Requirement already satisfied: googleapis-common-protos in /home_local/ubuntu/anaconda3/envs/tensorflow_p36/lib/python3.6/site-packages (from tensorflow-metadata==0.15) (1.52.0)\n",
      "Requirement already satisfied: protobuf<4,>=3.7 in /home_local/ubuntu/anaconda3/envs/tensorflow_p36/lib/python3.6/site-packages (from tensorflow-metadata==0.15) (3.12.2)\n",
      "Requirement already satisfied: pyparsing>=2.1.4 in /home_local/ubuntu/anaconda3/envs/tensorflow_p36/lib/python3.6/site-packages (from pydot==1.2.4) (2.4.6)\n",
      "Collecting pyarrow<0.15.0,>=0.14.0\n",
      "  Downloading https://artifactory.gdp.data.grubhub.com/artifactory/api/pypi/pypi/packages/6f/df/33d8d6b682750d16baa9f45db825f33e0e0feb479fac1da9758f7ac8fd4b/pyarrow-0.14.1-cp36-cp36m-manylinux2010_x86_64.whl (58.1 MB)\n",
      "\u001b[K     |████████████████████████████████| 58.1 MB 167 kB/s  eta 0:00:01\n",
      "\u001b[?25hRequirement already satisfied: apache-beam[gcp]<3,>=2.16 in /home_local/ubuntu/anaconda3/envs/tensorflow_p36/lib/python3.6/site-packages (from tfx-bsl==0.15) (2.23.0)\n",
      "Requirement already satisfied: numpy<2,>=1.16 in /home_local/ubuntu/anaconda3/envs/tensorflow_p36/lib/python3.6/site-packages (from tfx-bsl==0.15) (1.18.1)\n",
      "Requirement already satisfied: six<2,>=1.12 in /home_local/ubuntu/anaconda3/envs/tensorflow_p36/lib/python3.6/site-packages (from tfx-bsl==0.15) (1.14.0)\n",
      "Requirement already satisfied: setuptools in /home_local/ubuntu/anaconda3/envs/tensorflow_p36/lib/python3.6/site-packages (from protobuf<4,>=3.7->tensorflow-metadata==0.15) (46.1.3.post20200330)\n",
      "Requirement already satisfied: crcmod<2.0,>=1.7 in /home_local/ubuntu/anaconda3/envs/tensorflow_p36/lib/python3.6/site-packages (from apache-beam[gcp]<3,>=2.16->tfx-bsl==0.15) (1.7)\n",
      "Processing /home_local/ubuntu/.cache/pip/wheels/2e/3c/53/c0f133910baebb80f6ccfaa8051bbcafb4eb09a0e4b362af68/dill-0.3.1.1-py3-none-any.whl\n",
      "Requirement already satisfied: avro-python3!=1.9.2,<1.10.0,>=1.8.1; python_version >= \"3.0\" in /home_local/ubuntu/anaconda3/envs/tensorflow_p36/lib/python3.6/site-packages (from apache-beam[gcp]<3,>=2.16->tfx-bsl==0.15) (1.9.2.1)\n",
      "Requirement already satisfied: fastavro<0.24,>=0.21.4 in /home_local/ubuntu/anaconda3/envs/tensorflow_p36/lib/python3.6/site-packages (from apache-beam[gcp]<3,>=2.16->tfx-bsl==0.15) (0.23.6)\n",
      "Requirement already satisfied: future<1.0.0,>=0.18.2 in /home_local/ubuntu/anaconda3/envs/tensorflow_p36/lib/python3.6/site-packages (from apache-beam[gcp]<3,>=2.16->tfx-bsl==0.15) (0.18.2)\n",
      "Requirement already satisfied: oauth2client<4,>=2.0.1 in /home_local/ubuntu/anaconda3/envs/tensorflow_p36/lib/python3.6/site-packages (from apache-beam[gcp]<3,>=2.16->tfx-bsl==0.15) (3.0.0)\n",
      "Requirement already satisfied: python-dateutil<3,>=2.8.0 in /home_local/ubuntu/anaconda3/envs/tensorflow_p36/lib/python3.6/site-packages (from apache-beam[gcp]<3,>=2.16->tfx-bsl==0.15) (2.8.1)\n",
      "Requirement already satisfied: typing-extensions<3.8.0,>=3.7.0 in /home_local/ubuntu/anaconda3/envs/tensorflow_p36/lib/python3.6/site-packages (from apache-beam[gcp]<3,>=2.16->tfx-bsl==0.15) (3.7.4.1)\n",
      "Requirement already satisfied: pytz>=2018.3 in /home_local/ubuntu/anaconda3/envs/tensorflow_p36/lib/python3.6/site-packages (from apache-beam[gcp]<3,>=2.16->tfx-bsl==0.15) (2019.3)\n",
      "Requirement already satisfied: pymongo<4.0.0,>=3.8.0 in /home_local/ubuntu/anaconda3/envs/tensorflow_p36/lib/python3.6/site-packages (from apache-beam[gcp]<3,>=2.16->tfx-bsl==0.15) (3.10.1)\n",
      "Requirement already satisfied: httplib2<0.18.0,>=0.8 in /home_local/ubuntu/anaconda3/envs/tensorflow_p36/lib/python3.6/site-packages (from apache-beam[gcp]<3,>=2.16->tfx-bsl==0.15) (0.17.4)\n",
      "Requirement already satisfied: grpcio<2,>=1.29.0 in /home_local/ubuntu/anaconda3/envs/tensorflow_p36/lib/python3.6/site-packages (from apache-beam[gcp]<3,>=2.16->tfx-bsl==0.15) (1.30.0)\n",
      "Requirement already satisfied: hdfs<3.0.0,>=2.1.0 in /home_local/ubuntu/anaconda3/envs/tensorflow_p36/lib/python3.6/site-packages (from apache-beam[gcp]<3,>=2.16->tfx-bsl==0.15) (2.5.8)\n",
      "Requirement already satisfied: mock<3.0.0,>=1.0.1 in /home_local/ubuntu/anaconda3/envs/tensorflow_p36/lib/python3.6/site-packages (from apache-beam[gcp]<3,>=2.16->tfx-bsl==0.15) (2.0.0)\n",
      "Requirement already satisfied: google-cloud-datastore<1.8.0,>=1.7.1; extra == \"gcp\" in /home_local/ubuntu/anaconda3/envs/tensorflow_p36/lib/python3.6/site-packages (from apache-beam[gcp]<3,>=2.16->tfx-bsl==0.15) (1.7.4)\n",
      "Requirement already satisfied: cachetools<4,>=3.1.0; extra == \"gcp\" in /home_local/ubuntu/anaconda3/envs/tensorflow_p36/lib/python3.6/site-packages (from apache-beam[gcp]<3,>=2.16->tfx-bsl==0.15) (3.1.1)\n",
      "Requirement already satisfied: google-apitools<0.5.32,>=0.5.31; extra == \"gcp\" in /home_local/ubuntu/anaconda3/envs/tensorflow_p36/lib/python3.6/site-packages (from apache-beam[gcp]<3,>=2.16->tfx-bsl==0.15) (0.5.31)\n",
      "Requirement already satisfied: google-cloud-spanner<1.14.0,>=1.13.0; extra == \"gcp\" in /home_local/ubuntu/anaconda3/envs/tensorflow_p36/lib/python3.6/site-packages (from apache-beam[gcp]<3,>=2.16->tfx-bsl==0.15) (1.13.0)\n",
      "Requirement already satisfied: google-cloud-vision<0.43.0,>=0.38.0; extra == \"gcp\" in /home_local/ubuntu/anaconda3/envs/tensorflow_p36/lib/python3.6/site-packages (from apache-beam[gcp]<3,>=2.16->tfx-bsl==0.15) (0.42.0)\n",
      "Requirement already satisfied: grpcio-gcp<1,>=0.2.2; extra == \"gcp\" in /home_local/ubuntu/anaconda3/envs/tensorflow_p36/lib/python3.6/site-packages (from apache-beam[gcp]<3,>=2.16->tfx-bsl==0.15) (0.2.2)\n",
      "Requirement already satisfied: google-cloud-dlp<=0.13.0,>=0.12.0; extra == \"gcp\" in /home_local/ubuntu/anaconda3/envs/tensorflow_p36/lib/python3.6/site-packages (from apache-beam[gcp]<3,>=2.16->tfx-bsl==0.15) (0.13.0)\n",
      "Requirement already satisfied: google-cloud-core<2,>=0.28.1; extra == \"gcp\" in /home_local/ubuntu/anaconda3/envs/tensorflow_p36/lib/python3.6/site-packages (from apache-beam[gcp]<3,>=2.16->tfx-bsl==0.15) (1.3.0)\n",
      "Requirement already satisfied: google-cloud-pubsub<1.1.0,>=0.39.0; extra == \"gcp\" in /home_local/ubuntu/anaconda3/envs/tensorflow_p36/lib/python3.6/site-packages (from apache-beam[gcp]<3,>=2.16->tfx-bsl==0.15) (1.0.2)\n",
      "Requirement already satisfied: google-cloud-language<2,>=1.3.0; extra == \"gcp\" in /home_local/ubuntu/anaconda3/envs/tensorflow_p36/lib/python3.6/site-packages (from apache-beam[gcp]<3,>=2.16->tfx-bsl==0.15) (1.3.0)\n",
      "Requirement already satisfied: google-cloud-bigtable<1.1.0,>=0.31.1; extra == \"gcp\" in /home_local/ubuntu/anaconda3/envs/tensorflow_p36/lib/python3.6/site-packages (from apache-beam[gcp]<3,>=2.16->tfx-bsl==0.15) (1.0.0)\n",
      "Requirement already satisfied: google-cloud-videointelligence<1.14.0,>=1.8.0; extra == \"gcp\" in /home_local/ubuntu/anaconda3/envs/tensorflow_p36/lib/python3.6/site-packages (from apache-beam[gcp]<3,>=2.16->tfx-bsl==0.15) (1.13.0)\n",
      "Requirement already satisfied: google-cloud-bigquery<=1.24.0,>=1.6.0; extra == \"gcp\" in /home_local/ubuntu/anaconda3/envs/tensorflow_p36/lib/python3.6/site-packages (from apache-beam[gcp]<3,>=2.16->tfx-bsl==0.15) (1.24.0)\n",
      "Requirement already satisfied: pyasn1-modules>=0.0.5 in /home_local/ubuntu/anaconda3/envs/tensorflow_p36/lib/python3.6/site-packages (from oauth2client<4,>=2.0.1->apache-beam[gcp]<3,>=2.16->tfx-bsl==0.15) (0.2.8)\n",
      "Requirement already satisfied: pyasn1>=0.1.7 in /home_local/ubuntu/anaconda3/envs/tensorflow_p36/lib/python3.6/site-packages (from oauth2client<4,>=2.0.1->apache-beam[gcp]<3,>=2.16->tfx-bsl==0.15) (0.4.8)\n",
      "Requirement already satisfied: rsa>=3.1.4 in /home_local/ubuntu/anaconda3/envs/tensorflow_p36/lib/python3.6/site-packages (from oauth2client<4,>=2.0.1->apache-beam[gcp]<3,>=2.16->tfx-bsl==0.15) (4.6)\n",
      "Requirement already satisfied: requests>=2.7.0 in /home_local/ubuntu/anaconda3/envs/tensorflow_p36/lib/python3.6/site-packages (from hdfs<3.0.0,>=2.1.0->apache-beam[gcp]<3,>=2.16->tfx-bsl==0.15) (2.23.0)\n",
      "Requirement already satisfied: docopt in /home_local/ubuntu/anaconda3/envs/tensorflow_p36/lib/python3.6/site-packages (from hdfs<3.0.0,>=2.1.0->apache-beam[gcp]<3,>=2.16->tfx-bsl==0.15) (0.6.2)\n",
      "Requirement already satisfied: pbr>=0.11 in /home_local/ubuntu/anaconda3/envs/tensorflow_p36/lib/python3.6/site-packages (from mock<3.0.0,>=1.0.1->apache-beam[gcp]<3,>=2.16->tfx-bsl==0.15) (5.4.5)\n",
      "Requirement already satisfied: google-api-core[grpc]<2.0.0dev,>=1.6.0 in /home_local/ubuntu/anaconda3/envs/tensorflow_p36/lib/python3.6/site-packages (from google-cloud-datastore<1.8.0,>=1.7.1; extra == \"gcp\"->apache-beam[gcp]<3,>=2.16->tfx-bsl==0.15) (1.22.0)\n",
      "Requirement already satisfied: fasteners>=0.14 in /home_local/ubuntu/anaconda3/envs/tensorflow_p36/lib/python3.6/site-packages (from google-apitools<0.5.32,>=0.5.31; extra == \"gcp\"->apache-beam[gcp]<3,>=2.16->tfx-bsl==0.15) (0.15)\n",
      "Requirement already satisfied: grpc-google-iam-v1<0.13dev,>=0.12.3 in /home_local/ubuntu/anaconda3/envs/tensorflow_p36/lib/python3.6/site-packages (from google-cloud-spanner<1.14.0,>=1.13.0; extra == \"gcp\"->apache-beam[gcp]<3,>=2.16->tfx-bsl==0.15) (0.12.3)\n",
      "Requirement already satisfied: google-resumable-media<0.6dev,>=0.5.0 in /home_local/ubuntu/anaconda3/envs/tensorflow_p36/lib/python3.6/site-packages (from google-cloud-bigquery<=1.24.0,>=1.6.0; extra == \"gcp\"->apache-beam[gcp]<3,>=2.16->tfx-bsl==0.15) (0.5.1)\n",
      "Requirement already satisfied: google-auth<2.0dev,>=1.9.0 in /home_local/ubuntu/anaconda3/envs/tensorflow_p36/lib/python3.6/site-packages (from google-cloud-bigquery<=1.24.0,>=1.6.0; extra == \"gcp\"->apache-beam[gcp]<3,>=2.16->tfx-bsl==0.15) (1.20.0)\n",
      "Requirement already satisfied: chardet<4,>=3.0.2 in /home_local/ubuntu/anaconda3/envs/tensorflow_p36/lib/python3.6/site-packages (from requests>=2.7.0->hdfs<3.0.0,>=2.1.0->apache-beam[gcp]<3,>=2.16->tfx-bsl==0.15) (3.0.4)\n",
      "Requirement already satisfied: certifi>=2017.4.17 in /home_local/ubuntu/anaconda3/envs/tensorflow_p36/lib/python3.6/site-packages (from requests>=2.7.0->hdfs<3.0.0,>=2.1.0->apache-beam[gcp]<3,>=2.16->tfx-bsl==0.15) (2020.4.5.2)\n",
      "Requirement already satisfied: urllib3!=1.25.0,!=1.25.1,<1.26,>=1.21.1 in /home_local/ubuntu/anaconda3/envs/tensorflow_p36/lib/python3.6/site-packages (from requests>=2.7.0->hdfs<3.0.0,>=2.1.0->apache-beam[gcp]<3,>=2.16->tfx-bsl==0.15) (1.25.8)\n",
      "Requirement already satisfied: idna<3,>=2.5 in /home_local/ubuntu/anaconda3/envs/tensorflow_p36/lib/python3.6/site-packages (from requests>=2.7.0->hdfs<3.0.0,>=2.1.0->apache-beam[gcp]<3,>=2.16->tfx-bsl==0.15) (2.9)\n",
      "Requirement already satisfied: monotonic>=0.1 in /home_local/ubuntu/anaconda3/envs/tensorflow_p36/lib/python3.6/site-packages (from fasteners>=0.14->google-apitools<0.5.32,>=0.5.31; extra == \"gcp\"->apache-beam[gcp]<3,>=2.16->tfx-bsl==0.15) (1.5)\n",
      "Installing collected packages: pyarrow, dill\n",
      "  Attempting uninstall: pyarrow\n",
      "    Found existing installation: pyarrow 1.0.0\n",
      "    Uninstalling pyarrow-1.0.0:\n",
      "      Successfully uninstalled pyarrow-1.0.0\n",
      "  Attempting uninstall: dill\n",
      "    Found existing installation: dill 0.3.2\n",
      "    Uninstalling dill-0.3.2:\n",
      "      Successfully uninstalled dill-0.3.2\n",
      "\u001b[31mERROR: After October 2020 you may experience errors when installing or updating packages. This is because pip will change the way that it resolves dependency conflicts.\n",
      "\n",
      "We recommend you use --use-feature=2020-resolver to test your packages with the new resolver before it becomes the default.\n",
      "\n",
      "tensorflow-transform 0.15.0 requires tensorflow<2.2,>=1.15, which is not installed.\n",
      "pathos 0.2.6 requires dill>=0.3.2, but you'll have dill 0.3.1.1 which is incompatible.\n",
      "multiprocess 0.70.10 requires dill>=0.3.2, but you'll have dill 0.3.1.1 which is incompatible.\n",
      "apache-beam 2.23.0 requires pyarrow<0.18.0,>=0.15.1; python_version >= \"3.0\" or platform_system != \"Windows\", but you'll have pyarrow 0.14.1 which is incompatible.\u001b[0m\n",
      "Successfully installed dill-0.3.1.1 pyarrow-0.14.1\n"
     ]
    }
   ],
   "source": [
    "!pip install tensorflow-metadata==0.15 pydot==1.2.4 tfx-bsl==0.15 absl-py==0.7\n",
    "!pip install tensorflow-transform==0.15.0 -q --no-deps\n",
    "!pip install git+https://github.com/google-research/google-research.git#subdirectory=opt_list -q"
   ]
  },
  {
   "cell_type": "code",
   "execution_count": 159,
   "metadata": {
    "ExecuteTime": {
     "end_time": "2020-07-30T20:33:01.049804Z",
     "start_time": "2020-07-30T20:33:01.042855Z"
    },
    "hidden": true
   },
   "outputs": [
    {
     "name": "stdout",
     "output_type": "stream",
     "text": [
      "1.15.2\n",
      "0.15.0\n"
     ]
    }
   ],
   "source": [
    "import os\n",
    "import random\n",
    "import math\n",
    "import logging\n",
    "\n",
    "\n",
    "import numpy as np\n",
    "\n",
    "import tensorflow as tf\n",
    "import tensorflow_transform as tft\n",
    "\n",
    "print(tf.__version__)\n",
    "print(tft.__version__)\n",
    "\n",
    "\n",
    "from tensorflow.gfile import Glob\n",
    "from opt_list import tf_opt_list\n",
    "# import tensorflow_text as text\n",
    "\n",
    "import pandas as pd\n",
    "#classification metrics\n",
    "from sklearn.metrics import classification_report\n",
    "\n",
    "from intent_clf_airedale.TF_data import *\n",
    "\n",
    "# import mlflow\n",
    "\n",
    "# Reduce logging output.\n",
    "tf.logging.set_verbosity(tf.logging.ERROR)"
   ]
  },
  {
   "cell_type": "markdown",
   "metadata": {},
   "source": [
    "#### Data"
   ]
  },
  {
   "cell_type": "code",
   "execution_count": 160,
   "metadata": {
    "ExecuteTime": {
     "end_time": "2020-07-30T20:33:01.066727Z",
     "start_time": "2020-07-30T20:33:01.052396Z"
    }
   },
   "outputs": [],
   "source": [
    "train_dataset_path = \"data/{}/dataset+weights.csv\".format(version)"
   ]
  },
  {
   "cell_type": "code",
   "execution_count": 161,
   "metadata": {
    "ExecuteTime": {
     "end_time": "2020-07-30T20:33:01.330982Z",
     "start_time": "2020-07-30T20:33:01.069056Z"
    }
   },
   "outputs": [
    {
     "name": "stdout",
     "output_type": "stream",
     "text": [
      "query,count,len,label,prob_labels,class_weight,composite_sample_weight\r\n",
      "#1 chop suey,5,12,1,[0.03 0.63 0.15 0.03 0.03 0.03 0.03 0.03 0.03],1.0,5.0\r\n",
      "$10 off first time offer,1,24,3,[0.08 0.07 0.12 0.36 0.08 0.08 0.08 0.08 0.08],10.823441780605739,10.823441780605739\r\n",
      "& pizza,37,7,2,[0.08 0.09 0.35 0.08 0.08 0.08 0.08 0.08 0.08],1.7059111044220585,63.118710863616165\r\n",
      "&pizza,217,6,2,[0.06 0.23 0.37 0.06 0.06 0.06 0.06 0.06 0.06],1.7059111044220585,370.1827096595867\r\n",
      "1 international dr,2,18,3,[0.08 0.07 0.12 0.36 0.08 0.08 0.08 0.08 0.08],10.823441780605739,21.646883561211478\r\n",
      "1 lb carnitas,6,13,1,[0.09 0.27 0.11 0.09 0.09 0.09 0.09 0.09 0.09],1.0,6.0\r\n",
      "1 liter diet coke,11,17,1,[0.09 0.27 0.11 0.09 0.09 0.09 0.09 0.09 0.09],1.0,11.0\r\n",
      "1 wedgewood dr verona nj 07044,5,30,3,[0.08 0.07 0.12 0.36 0.08 0.08 0.08 0.08 0.08],10.823441780605739,54.1172089030287\r\n",
      "1/2 chicken,5,11,1,[0.09 0.27 0.11 0.09 0.09 0.09 0.09 0.09 0.09],1.0,5.0\r\n"
     ]
    }
   ],
   "source": [
    "df_train = pd.read_csv(train_dataset_path)\n",
    "!head '{train_dataset_path}'"
   ]
  },
  {
   "cell_type": "code",
   "execution_count": 162,
   "metadata": {
    "ExecuteTime": {
     "end_time": "2020-07-30T20:33:01.572057Z",
     "start_time": "2020-07-30T20:33:01.333972Z"
    }
   },
   "outputs": [
    {
     "data": {
      "text/plain": [
       "({'query': <tf.Tensor 'IteratorGetNext_3:0' shape=(?,) dtype=string>,\n",
       "  'slen': <tf.Tensor 'IteratorGetNext_3:1' shape=(?,) dtype=int32>,\n",
       "  'weight': <tf.Tensor 'IteratorGetNext_3:3' shape=(?,) dtype=float64>,\n",
       "  'tokens': <tensorflow.python.framework.sparse_tensor.SparseTensor at 0x7fc034a3f160>,\n",
       "  'word_tokens': <tensorflow.python.framework.sparse_tensor.SparseTensor at 0x7fc0349f9828>},\n",
       " <tf.Tensor 'IteratorGetNext_3:5' shape=(?, 9) dtype=float32>)"
      ]
     },
     "execution_count": 162,
     "metadata": {},
     "output_type": "execute_result"
    }
   ],
   "source": [
    "#ds = dataset([train_dataset_path], 1024, tokenizer_mode=TokenizationModes.CHAR, take=False) #this is kinda slow b/c I think make_csv_dataset reads the data to learn some stats\n",
    "ds = make_dataset(train_dataset_path, 512, len(LABEL_SET), tokenizer_mode=TokenizationModes.CHAR, shuffle=True)\n",
    "iterator = ds.make_one_shot_iterator().get_next()\n",
    "iterator"
   ]
  },
  {
   "cell_type": "code",
   "execution_count": 163,
   "metadata": {
    "ExecuteTime": {
     "end_time": "2020-07-30T20:33:02.249945Z",
     "start_time": "2020-07-30T20:33:01.574370Z"
    }
   },
   "outputs": [
    {
     "name": "stdout",
     "output_type": "stream",
     "text": [
      "0\n",
      "36\n",
      "CPU times: user 1.2 s, sys: 136 ms, total: 1.34 s\n",
      "Wall time: 668 ms\n"
     ]
    },
    {
     "data": {
      "text/plain": [
       "36"
      ]
     },
     "execution_count": 163,
     "metadata": {},
     "output_type": "execute_result"
    }
   ],
   "source": [
    "%%time\n",
    "i=0\n",
    "with tf.Session() as sess:\n",
    "    while True:\n",
    "        try:\n",
    "            batch = sess.run(iterator)\n",
    "            #break\n",
    "            if i%1000==0:\n",
    "                print(i)\n",
    "            i+=1\n",
    "        except tf.errors.OutOfRangeError:\n",
    "            break\n",
    "            \n",
    "print(i)\n",
    "\n",
    "\n",
    "N=i\n",
    "N"
   ]
  },
  {
   "cell_type": "code",
   "execution_count": 164,
   "metadata": {
    "ExecuteTime": {
     "end_time": "2020-07-30T20:33:02.267812Z",
     "start_time": "2020-07-30T20:33:02.252081Z"
    }
   },
   "outputs": [
    {
     "data": {
      "text/plain": [
       "{'query': array([b'taylor made burgers', b'king?s burgers',\n",
       "        b'101 algonquin rd 10710', b'11 leatherwood drive', b'schlafly',\n",
       "        b'6602 ridge ave', b'lengua burrito', b'spice',\n",
       "        b'bed -stuy fish fry', b'5480 barrett avenue', b'hook and fish',\n",
       "        b'yakisoba', b\"jc's\", b'139 georgetown road', b'16001 jamaica ave',\n",
       "        b'825 west 181st st, ny, nu', b'j.p.', b'131 ocean ave 1',\n",
       "        b'81 park ave danbury ct', b'5325 fox ridge rd roanoke va',\n",
       "        b'497 meeker ave', b'crab cooker', b\"junior's\", b'wolfies',\n",
       "        b'1202 5th avenue', b'buena beef',\n",
       "        b'2122 us highway auburndale fl', b'9201 4th ave', b'spirit',\n",
       "        b'13827 shirley ct', b'8501 henry ave q5', b'douglas burger',\n",
       "        b'176 palisade ave', b'empanada mana',\n",
       "        b'2110 montiel rd san marcos', b\"c'est si bon pastry\",\n",
       "        b'papa nadas 2268 west 7th', b'c&js', b'two meatballs',\n",
       "        b'salmon rice', b'5447 ne 42nd ave', b'taste buds', b'fresh wings',\n",
       "        b'p.j.', b'3336 wood duck dr prior lake', b'zen fish', b'j&t',\n",
       "        b'400 station park cir', b'spicy teriyaki sauce',\n",
       "        b'4715 florida ave s, lakeland', b'brq', b'thanksgiving sub',\n",
       "        b\"rj's\", b'pizza chicken', b\"z's\", b'sosoba', b'zzz',\n",
       "        b'sausage and pasta', b'omee j', b'1679 sunset ave utica',\n",
       "        b'xiao bao', b'6701 river view court', b'220 nanable dr',\n",
       "        b'1019 w 21st', b'udon soup', b'3777 independence avenue', b'wise',\n",
       "        b'penne bolognese', b'fried chicken waffles', b'144 forest manor',\n",
       "        b'2622 se 23rd ave', b'coffee & tea', b'zatar', b'rice and bean',\n",
       "        b'bagel and barista', b'2227 2nd avenue', b'351 e township linerd',\n",
       "        b'9 tourden ave', b'sushi teri', b'turkey club sandwich',\n",
       "        b'695 10th ave', b'smoked salmon sashimi', b'burger k8ng',\n",
       "        b'spider sushi', b'13 gravelo circle', b'3611 sw condor ave',\n",
       "        b'786 winston rd', b'oles waffle', b'6425 penn ave', b's&r',\n",
       "        b'steam rice roll', b'15042 santerno st.', b'2318 4th ave',\n",
       "        b\"zoe's\", b'401 west', b'10433 baltimore ave beltsville',\n",
       "        b'rotisserie sandwiches', b'304 washington boulevard',\n",
       "        b'spicy california roll', b'18 treeline dr', b'bricktown bagels',\n",
       "        b'1921 ne burgandy circle', b'taco villa',\n",
       "        b'five guys 1628 shore pkwy', b'soup salad combo', b'camel',\n",
       "        b'stormin crab', b'100 east 77th st.',\n",
       "        b'1154 east 229th drive south', b'whole wheat pancakes',\n",
       "        b'16618 keystone fairway ct', b'spumoni garden pizza',\n",
       "        b'8478 greymont pointe dr', b'6407 orchard lake rd',\n",
       "        b'124 east park ace', b'wings and rice', b'grandma pie',\n",
       "        b'5128 long cake circle', b'375ml', b'wedge salad', b'the star',\n",
       "        b'4019 north ave', b'waffle fries', b'your pie',\n",
       "        b'mozzarella corn dogs', b'holy cow burgers', b'wingdaddy',\n",
       "        b'the catch', b'14-26 bedford av', b'wonder bagel', b'forma pasta',\n",
       "        b'2240 blowing rock drive boone nc', b'spicy beef soup',\n",
       "        b'124 s tennessee ave, lakeland', b'2500 west daniels road',\n",
       "        b'wing nutz', b'tupelo honey', b'carbs', b'thai rice',\n",
       "        b'pita mediterranean', b'470 launch dr, na8les fl. 34108',\n",
       "        b'4046 east lake road', b'zjs', b'grimaldis 4000 n scottsdale rd',\n",
       "        b'urban egg', b'scotts hamburgers', b'503 west',\n",
       "        b'tikka masala delaware', b'prime rib steak', b'coburg',\n",
       "        b'3151 sw moody ave', b'wings way', b'33 old locust ave',\n",
       "        b'millions crab', b'6925 liberty ave',\n",
       "        b'2525 s michigan ave. chicago, il', b'kfc 21230', b'vegan egg',\n",
       "        b'steaks', b'89 n river rd, fletcher, nc', b'1019 w 21st mariscos',\n",
       "        b'bibb', b'710 s 3rd', b'4209 briggs ave', b'7505 decker ave',\n",
       "        b'6601 bay parkway', b'fried zucchini hamburgers', b'toast',\n",
       "        b'4386 parklawn dr windsor', b'wasabi sushi',\n",
       "        b'floyd county brewing', b'rice works', b'446 jaipur dr',\n",
       "        b'fruit arrangements', b'6246 ruxton ct',\n",
       "        b'27 district ave dorchester mass', b'oasis veggie',\n",
       "        b'vegetarian pasta', b'taco cobana', b'5631 newington road',\n",
       "        b'215 south atlantic ave', b'405 oakland ave',\n",
       "        b'5108 shevern dr madis', b'bagels and blenders', b'wingbucket',\n",
       "        b'flips burgers', b'1250 w broadway rd', b'418 pelham road',\n",
       "        b'mlk', b'uncool burger', b'fingers wings and other things',\n",
       "        b'wings and rings', b'weinerschnitzel', b'shrimp alfedo',\n",
       "        b'white pizza', b'12 sunnyhill drive', b'819 hungerford dr',\n",
       "        b'2055 cruger avenue', b'rostisserie chicken', b'hot winga',\n",
       "        b'veggie dumplings', b'avilas el ranchito', b'tuna',\n",
       "        b'144 dutch ridge rd oswego', b'jjan korean gastropub',\n",
       "        b'1309 columbia road washington dc', b'86 parshley road arrowsic',\n",
       "        b'j.p', b'p?unk burger', b'kfc 665', b'winchell donuts',\n",
       "        b'broadway brewing', b'9824 64th road',\n",
       "        b'9 mayflower road, yarmouth', b'166 brighton ave allston ma',\n",
       "        b'peeking duck near me', b'veal piccata',\n",
       "        b'3000 nw magnolia ave apt 7', b'3402 old barn rd',\n",
       "        b'bagel near me', b'ocb', b'krazy katsu',\n",
       "        b'soup and half sandwich', b'scv fish', b'c+m',\n",
       "        b'626 riverside dr', b'itchi ramen', b'shrimp dumpling',\n",
       "        b'winging it', b'b&g', b'wonton noodle',\n",
       "        b'kennedy fried chicken 174th', b'booze',\n",
       "        b'drive-thru at 250 monument road', b\"sera's ramen\", b'paphos',\n",
       "        b'836 snyder avenue', b'wings and pizza', b'white duck taco',\n",
       "        b'4355 east haven lane', b'shrimp dinner', b'444 island drive',\n",
       "        b'360 park ave fraser', b'173 w susquehanna avenue', b'fishes',\n",
       "        b'4319 falls dr, hope mills, nc', b'victory',\n",
       "        b'12209 stardrift dr', b'4607 library road bethel park',\n",
       "        b'rancherito 5600 west', b'brewdog', b'4938 willow chase dr',\n",
       "        b'vjk', b'187 bedford avenue merrick', b'wings garden',\n",
       "        b'wings heaven', b'cheese nachos', b'l&g', b'1132 woods pkwy',\n",
       "        b'goldburger', b'mt.fuji', b'1604 n pennington dr.',\n",
       "        b'mexican menudo.', b\"lc's\", b'thai one', b'kasha',\n",
       "        b'the juicy crab', b'poblano con queso', b'chobani yogurt',\n",
       "        b'chaulafan', b's&s cheesesteak', b'1627 shelby ave',\n",
       "        b'smittys garage burgers and beer', b'4202 west cayuga',\n",
       "        b'fat pie', b'tikka indian grill', b'67 burger', b'1380 forest dr',\n",
       "        b'al shami', b'400 bald hill road', b'1200 redgear dr',\n",
       "        b'5517 tomahawk dr', b'roast pork lo mein', b'28610 9th ave south',\n",
       "        b'1524 sheepshead bay road', b'hometown hero', b'711 linda drive',\n",
       "        b'crispy pad thai', b'5401 ocean ave', b'biscuits and',\n",
       "        b'batter up pancakes', b'yocha', b'ruchulu indian restaurant',\n",
       "        b'j.b', b'pastagram', b'toasts', b'punjab arlington',\n",
       "        b'veggie palate', b'66 pepperidge dr', b'roots chicken',\n",
       "        b'1003 owls nest dr', b'soup lemon chicken',\n",
       "        b'1179 north apple ct plainwell mi', b'808 shave ice',\n",
       "        b'202 beacon dr, milpitas ca', b'1223 tamarack dr',\n",
       "        b'288 10th avenue', b'3157 farnam st.',\n",
       "        b'1217 lexington ave ny ny', b'true food', b'wrap and fries',\n",
       "        b'toilet', b'liquor locker', b'9437 lazy creek dr',\n",
       "        b'4227 sprecher rd', b'6353 ne radford', b'39 sirius ct',\n",
       "        b'bblt sonic', b'grilled chicken tenders', b'unagi sauce',\n",
       "        b'tru burger', b'755 potomska road', b'yami sushi',\n",
       "        b'nova kombucha', b'viva mexico', b'bubbas fish shack',\n",
       "        b'taro milk', b'yuca fries', b'5220 sunburst dr 93552',\n",
       "        b'shish kabob', b'poke bowl', b'edamame dumpling',\n",
       "        b'wings and pot', b'miyoshi', b'turkey avocado', b'wing zing',\n",
       "        b'rex burger', b'mh zh', b'shake n crab', b'zaika',\n",
       "        b'vegetable salad', b'240 east 46th', b'4708 chalone dr',\n",
       "        b'48 kit kat rd', b'white fish salad', b'4256 fayetville road',\n",
       "        b'3726 pacific coast highway', b'top china', b'pasta on time',\n",
       "        b'832 lexington ave', b'hiro 88', b'5529 senford ave',\n",
       "        b'633 south reading ave', b'2000 fashion show drive',\n",
       "        b'1890 east evans avenue', b'track one', b'whole pecan pie',\n",
       "        b's&g', b'salmon tartare', b'7 eleven lombard', b'ramen thupka',\n",
       "        b'2411 w university dr', b'tony?s pizza, 109-18 jamaica ave',\n",
       "        b'9420 e independence boulevard', b'jasmine rice', b'sv2',\n",
       "        b'subway 333 w north ave', b'2869 heritage drive',\n",
       "        b'1715 scorpio dr nampa', b'stuffed fish', b'zoe kitchen',\n",
       "        b'117 hudson circle anderson sc',\n",
       "        b'8602 3rd ave, brooklyn, ny 11209', b'honey kettle chicken',\n",
       "        b'perry?s 15900 la canterra pkwy', b'$5 off frst orders',\n",
       "        b'3727 university ave', b'11443 north coggins drive',\n",
       "        b'21 pine drive millstone nj', b'6 glen dr', b'wood and fire',\n",
       "        b'2 in one breakfast and lunch', b'the ranch', b'fish platters',\n",
       "        b'4447 las haciendas dr', b'403 lake dora rd', b\"p&g's\",\n",
       "        b'2175 lacombe ave', b'rice and curry', b'vanessas dumplings',\n",
       "        b'rice up', b'banh mi pate', b'silk thai', b'olives',\n",
       "        b'yellow door', b'yemeni', b'wing cafe', b'3435 huguenot ave',\n",
       "        b'tj', b'seafood heaven', b'bonless wings', b'605 5th ave n',\n",
       "        b'cowtown brewing', b'172 newark ave', b'green tea cake', b\"ej's\",\n",
       "        b'qxy', b'10111 circle e trail', b'wedge salads',\n",
       "        b'crispy shreeded beef', b'tonkotsu ramen', b'wing daddys',\n",
       "        b'ruby jewel', b'friday fish fry', b'3920 deal rd',\n",
       "        b'1211 6 avenue, ny ny', b'pork tacos', b'chipotle platters',\n",
       "        b'24/7 fast dood'], dtype=object),\n",
       " 'slen': array([19, 14, 22, 20,  8, 14, 14,  5, 18, 19, 13,  8,  4, 19, 17, 25,  4,\n",
       "        15, 22, 28, 14, 11,  8,  7, 15, 10, 29, 12,  6, 16, 17, 14, 16, 13,\n",
       "        26, 19, 24,  4, 13, 11, 16, 10, 11,  4, 28,  8,  3, 20, 20, 28,  3,\n",
       "        16,  4, 13,  3,  6,  3, 17,  6, 21,  8, 21, 14, 11,  9, 24,  4, 15,\n",
       "        21, 16, 16, 12,  5, 13, 17, 15, 21, 13, 10, 20, 12, 21, 11, 12, 17,\n",
       "        18, 14, 11, 13,  3, 15, 18, 12,  5,  8, 30, 21, 24, 21, 14, 16, 23,\n",
       "        10, 25, 16,  5, 12, 17, 27, 20, 25, 20, 23, 20, 17, 14, 11, 21,  5,\n",
       "        11,  8, 14, 12,  8, 20, 16,  9,  9, 16, 12, 11, 32, 15, 29, 22,  9,\n",
       "        12,  5,  9, 18, 31, 19,  3, 30,  9, 17,  8, 21, 15,  6, 17,  9, 17,\n",
       "        13, 16, 32,  9,  9,  6, 27, 20,  4,  9, 15, 15, 16, 25,  5, 24, 12,\n",
       "        20, 10, 13, 18, 14, 31, 12, 16, 11, 19, 22, 15, 21, 19, 10, 13, 18,\n",
       "        15,  3, 13, 30, 15, 15, 13, 11, 18, 17, 18, 19,  9, 16, 18,  4, 25,\n",
       "        21, 32, 25,  3, 12,  7, 15, 16, 14, 26, 27, 20, 12, 26, 16, 13,  3,\n",
       "        11, 22,  8,  3, 16, 11, 15, 10,  3, 13, 27,  5, 31, 12,  6, 17, 15,\n",
       "        15, 20, 13, 16, 19, 24,  6, 29,  7, 18, 29, 20,  7, 20,  3, 26, 12,\n",
       "        12, 13,  3, 15, 10,  7, 21, 15,  4,  8,  5, 14, 17, 14,  9, 15, 15,\n",
       "        31, 16,  7, 18,  9, 14,  8, 18, 15, 16, 18, 19, 24, 13, 15, 15, 14,\n",
       "        12, 18,  5, 25,  3,  9,  6, 16, 13, 16, 13, 17, 18, 32, 13, 26, 16,\n",
       "        15, 15, 24,  9, 14,  6, 13, 18, 16, 15, 12, 10, 23, 11, 10, 17, 10,\n",
       "        13, 11, 17,  9, 10, 22, 11,  9, 16, 13,  7, 14,  9, 10,  5, 12,  5,\n",
       "        15, 13, 15, 13, 16, 20, 26,  9, 13, 17,  7, 16, 21, 23, 22,  9, 15,\n",
       "         3, 14, 16, 12, 20, 32, 29, 12,  3, 22, 19, 21, 12, 11, 29, 32, 20,\n",
       "        30, 18, 19, 25, 26,  9, 13, 28,  9, 13, 21, 16,  5, 16, 14, 18,  7,\n",
       "        12,  9,  6, 11,  6,  9, 17,  2, 14, 13, 13, 15, 14, 14,  4,  3, 20,\n",
       "        12, 20, 14, 11, 10, 15, 12, 20, 10, 17, 14], dtype=int32),\n",
       " 'weight': array([   5.  ,    6.  ,   21.65,   10.82,    9.5 ,   10.82,   13.  ,\n",
       "         672.13,    5.  ,   21.65,    7.  ,  227.  ,   31.84,   10.82,\n",
       "          10.82,   10.82,   10.61,   10.82,   10.82,   21.65,   10.82,\n",
       "           6.  ,   44.35,   29.  ,   10.82,   11.  ,   10.82,   32.47,\n",
       "          47.49,   10.82,   97.41,    5.  ,   21.65,    6.  ,   21.65,\n",
       "           6.  ,   10.82,   10.61,    6.  ,    6.  ,   10.82,   29.  ,\n",
       "           6.  ,   10.61,   10.82,    8.  ,   21.23,   10.82,    9.  ,\n",
       "          10.82,   10.61,    6.  ,   10.61,   10.  ,   21.23,   27.29,\n",
       "          53.07,    5.  ,    9.  ,   21.65,    5.  ,   10.82,   10.82,\n",
       "          21.65,   44.  ,   10.82,   58.  ,    5.  ,    5.  ,   10.82,\n",
       "          10.82,    1.9 ,   98.94,    6.  ,    5.  ,   10.82,   10.82,\n",
       "          10.82,   34.12,  486.  ,   21.65,    7.  ,    8.  ,    9.  ,\n",
       "          10.82,   10.82,   10.82,    5.  ,   10.82,   10.61,    5.  ,\n",
       "          10.82,   10.82,  182.53,   10.82,   21.65,    9.  ,   10.82,\n",
       "           5.  ,   10.82,    5.  ,   10.82,   58.  ,   21.65,    8.  ,\n",
       "          21.94,    6.  ,   10.82,   10.82,   13.  ,   21.65,    7.  ,\n",
       "          10.82,   32.47,   10.82,   32.41,    6.  ,   10.82,   10.61,\n",
       "         106.  ,   25.59,   21.65,   90.  ,  179.12,    6.  ,    6.  ,\n",
       "           5.  ,   76.77,   10.82,  100.65,    5.  ,   10.82,    6.  ,\n",
       "          10.82,   21.65,   37.53,   34.12,   48.63,   89.  ,    6.  ,\n",
       "          10.82,   10.82,   10.61,   32.47,   23.  ,    5.  ,   10.82,\n",
       "           8.  ,    9.  ,    5.  ,   10.82,    5.  ,   10.82,    8.  ,\n",
       "          10.82,   10.82,   10.61,    9.  ,  361.  ,   10.82,   32.47,\n",
       "          10.61,   10.82,   21.65,   21.65,   10.82,    6.  ,  823.96,\n",
       "          10.82,   56.3 ,    5.  ,    6.  ,   10.82,    6.  ,   10.82,\n",
       "          10.82,    6.  ,    7.  ,    8.  ,   10.82,   10.82,   10.82,\n",
       "          10.82,    7.  ,   29.  ,    6.  ,   10.82,   10.82,   10.61,\n",
       "           5.  ,    6.  ,   69.  ,  167.18,    6.  ,  275.  ,   10.82,\n",
       "          10.82,   10.82,    5.  ,    7.  ,    8.  ,    6.  ,  383.  ,\n",
       "          10.82,   46.06,   10.82,   32.47,   21.23,    7.  ,   21.23,\n",
       "           8.  ,    5.  ,   21.65,   10.82,   10.82,    5.  ,   10.  ,\n",
       "          10.82,   10.82,    5.  ,   10.61,    5.  ,    5.  ,    5.  ,\n",
       "          10.61,   10.82,    5.  ,   34.  ,    6.  ,   10.61,   17.  ,\n",
       "           6.  ,   18.99,   10.82,    5.  ,    9.  ,   10.82,   27.  ,\n",
       "           6.  ,   10.82,    5.  ,   21.65,   10.82,   21.65,    5.  ,\n",
       "          10.82,   47.77,   10.82,   10.82,   10.82,    9.5 ,   10.82,\n",
       "          10.61,   21.65,   13.  ,    6.  ,    6.  ,   10.61,   10.82,\n",
       "           7.  ,   10.61,   10.82,    5.  ,   21.23,   30.71,    5.  ,\n",
       "         192.77,    5.  ,    5.  ,    6.  ,    7.  ,   21.65,    5.  ,\n",
       "          10.82,   20.  ,   25.59,    5.  ,   10.82,    8.  ,   10.82,\n",
       "          32.47,   10.82,   10.  ,   10.82,   21.65,    5.  ,   10.82,\n",
       "           6.  ,   10.82,    5.  ,    5.  ,   56.3 ,   39.24,   10.61,\n",
       "           5.  ,   45.  ,    3.81,    5.  ,   10.82,    5.  ,   10.82,\n",
       "          11.  ,   10.82,   10.82,   21.65,   10.82,   10.82,   10.82,\n",
       "          21.65,  288.3 ,    5.  ,   95.52,   46.06,   10.82,   21.65,\n",
       "          10.82,   10.82,    7.  ,    6.  ,    6.  ,    6.  ,   10.82,\n",
       "           7.  ,    5.  ,   37.53,    6.  ,    8.  ,   15.  ,   21.65,\n",
       "          30.71, 2584.46,    7.  ,   31.  ,    5.  ,    8.  ,   12.  ,\n",
       "          10.  ,   74.29,   13.  ,   54.59,    5.  ,   10.82,   10.82,\n",
       "          21.65,    7.  ,   10.82,   10.82,   58.  ,    5.  ,   21.65,\n",
       "          29.  ,   21.65,   10.82,   43.29,   21.65,   58.  ,    9.  ,\n",
       "          10.61,    5.  ,   21.65,    8.  ,   10.82,   21.65,   10.82,\n",
       "          79.  ,   10.61,   10.82,   10.82,   10.82,    6.  ,   58.  ,\n",
       "          10.82,   64.94,    7.  ,   10.82,   10.82,   10.82,   10.82,\n",
       "          21.65,   32.47,   51.18,   10.82,   34.12,    6.  ,   10.82,\n",
       "          10.82,   10.61,   10.82,    6.  ,    6.  ,    6.  ,    5.  ,\n",
       "          25.59,  105.77,   37.53,    9.52,   30.71,   32.47,   21.23,\n",
       "          42.65,    6.  ,   10.82,    5.  ,   10.82,   11.  ,   31.84,\n",
       "          10.61,   21.65,   69.  ,    5.  ,   21.  ,   57.  ,   25.59,\n",
       "          10.  ,   21.65,   10.82,    5.  ,    5.  ,   21.65]),\n",
       " 'tokens': SparseTensorValue(indices=array([[  0,   0],\n",
       "        [  0,   1],\n",
       "        [  0,   2],\n",
       "        ...,\n",
       "        [418,  36],\n",
       "        [418,  37],\n",
       "        [418,  38]]), values=array([b't', b'ta', b'tay', ..., b'o', b'od', b'd'], dtype=object), dense_shape=array([419,  93])),\n",
       " 'word_tokens': SparseTensorValue(indices=array([[  0,   0],\n",
       "        [  0,   1],\n",
       "        [  0,   2],\n",
       "        ...,\n",
       "        [418,   0],\n",
       "        [418,   1],\n",
       "        [418,   2]]), values=array([b'taylor', b'made', b'burgers', ..., b'24/7', b'fast', b'dood'],\n",
       "       dtype=object), dense_shape=array([419,   6]))}"
      ]
     },
     "execution_count": 164,
     "metadata": {},
     "output_type": "execute_result"
    }
   ],
   "source": [
    "batch[0]"
   ]
  },
  {
   "cell_type": "code",
   "execution_count": 165,
   "metadata": {
    "ExecuteTime": {
     "end_time": "2020-07-30T20:33:03.276670Z",
     "start_time": "2020-07-30T20:33:02.270310Z"
    }
   },
   "outputs": [
    {
     "name": "stdout",
     "output_type": "stream",
     "text": [
      "9183\n",
      "CPU times: user 1 s, sys: 66.6 ms, total: 1.07 s\n",
      "Wall time: 990 ms\n"
     ]
    }
   ],
   "source": [
    "%%time\n",
    "\n",
    "build_write_vocab(train_dataset_path, min_count=0)"
   ]
  },
  {
   "cell_type": "code",
   "execution_count": 166,
   "metadata": {
    "ExecuteTime": {
     "end_time": "2020-07-30T20:33:03.494540Z",
     "start_time": "2020-07-30T20:33:03.280396Z"
    }
   },
   "outputs": [
    {
     "name": "stdout",
     "output_type": "stream",
     "text": [
      "9183 data/vocab\r\n"
     ]
    }
   ],
   "source": [
    "!wc -l data/vocab #17932"
   ]
  },
  {
   "cell_type": "code",
   "execution_count": 167,
   "metadata": {
    "ExecuteTime": {
     "end_time": "2020-07-30T20:33:04.336099Z",
     "start_time": "2020-07-30T20:33:03.497431Z"
    }
   },
   "outputs": [
    {
     "name": "stdout",
     "output_type": "stream",
     "text": [
      "284 data/word_vocab\r\n"
     ]
    }
   ],
   "source": [
    "build_write_word_vocab(train_dataset_path)\n",
    "            \n",
    "!wc -l data/word_vocab #17932"
   ]
  },
  {
   "cell_type": "markdown",
   "metadata": {},
   "source": [
    "#### Graph"
   ]
  },
  {
   "cell_type": "code",
   "execution_count": 168,
   "metadata": {
    "ExecuteTime": {
     "end_time": "2020-07-30T20:33:04.361640Z",
     "start_time": "2020-07-30T20:33:04.338973Z"
    }
   },
   "outputs": [],
   "source": [
    "def make_feature_columns(vocab_file, dimension) -> list:\n",
    "    combiner = \"sqrtn\"\n",
    "    key = \"tokens\"\n",
    "    categorical_column = tf.feature_column.categorical_column_with_vocabulary_file(\n",
    "        key, vocab_file, num_oov_buckets=5)\n",
    "\n",
    "    word_tokens = tf.feature_column.categorical_column_with_vocabulary_file(\n",
    "        \"word_tokens\", \"data/word_vocab\", num_oov_buckets=5)\n",
    "\n",
    "    query_ind_col = tf.feature_column.indicator_column(categorical_column)\n",
    "\n",
    "    embedding_column = tf.feature_column.embedding_column(categorical_column,\n",
    "                                                          dimension,\n",
    "                                                          combiner=combiner)\n",
    "\n",
    "    word_tokens_sparse_col = tf.feature_column.indicator_column(word_tokens)\n",
    "\n",
    "    #how can I add add teh string length feature to this????\n",
    "    string_len_num = tf.feature_column.numeric_column(\"slen\")\n",
    "    categorical_len = tf.feature_column.bucketized_column(\n",
    "        string_len_num, [0, 1, 2, 3, 4])\n",
    "\n",
    "    #sample_weight_col = tf.feature_column.numeric_column('weight' )\n",
    "\n",
    "    linear_feature_columns = [word_tokens_sparse_col]\n",
    "    dnn_feature_columns = [embedding_column, categorical_len]\n",
    "    return linear_feature_columns, dnn_feature_columns\n",
    "\n",
    "\n",
    "def get_estimator(feature_columns: list, hparams: tf.contrib.training.HParams,\n",
    "                  n_classes, config) -> tf.estimator.Estimator:\n",
    "    \"\"\"returns the model instance\"\"\"\n",
    "\n",
    "    single_head = tf.contrib.estimator.multi_class_head(n_classes,\n",
    "                                                        weight_column=\"weight\")\n",
    "\n",
    "    deep = tf.estimator.DNNEstimator(head=single_head,\n",
    "                                     feature_columns=feature_columns[1],\n",
    "                                     hidden_units=hparams.hidden_units,\n",
    "                                     dropout=hparams.dropout,\n",
    "                                     batch_norm=hparams.batch_norm,\n",
    "                                     optimizer=hparams.optimizer,\n",
    "                                     config=config)\n",
    "\n",
    "    wide = tf.estimator.LinearClassifier(feature_columns[0],\n",
    "                                         n_classes=n_classes,\n",
    "                                         weight_column=\"weight\",\n",
    "                                         optimizer=hparams.optimizer,\n",
    "                                         config=config)\n",
    "\n",
    "    wide_and_deep = tf.estimator.DNNLinearCombinedClassifier(\n",
    "        linear_feature_columns=feature_columns[0],\n",
    "        dnn_feature_columns=feature_columns[1],\n",
    "        dnn_hidden_units=hparams.hidden_units,\n",
    "        n_classes=n_classes,\n",
    "        weight_column=\"weight\",\n",
    "        config=config,\n",
    "        dnn_optimizer=hparams.optimizer)\n",
    "\n",
    "    def custom_metrics(labels, predictions):\n",
    "        metrics = {\n",
    "            'precision_': tf.metrics.precision(labels,\n",
    "                                               predictions[\"class_ids\"]),\n",
    "            'recall_': tf.metrics.recall(labels, predictions[\"class_ids\"])\n",
    "        }\n",
    "        return metrics\n",
    "\n",
    "    clf = tf.contrib.estimator.add_metrics(deep, custom_metrics)\n",
    "\n",
    "    return clf\n",
    "\n",
    "\n",
    "def evaluate(clf: tf.estimator.Estimator, train_input_fn,\n",
    "             test_input_fn) -> (dict, dict):\n",
    "\n",
    "    # * loss (mean loss per mini-batch)\n",
    "    # * average_loss (mean loss per sample).\n",
    "    train_eval_result = clf.evaluate(input_fn=train_input_fn, name=\"train\")\n",
    "    test_eval_result = clf.evaluate(input_fn=test_input_fn, name=\"test\")\n",
    "\n",
    "    print(\"Training set accuracy: {accuracy}\".format(**train_eval_result))\n",
    "    print(\"Test set auc: {accuracy}\".format(**test_eval_result))\n",
    "\n",
    "    #mlflow.log_metric(\"train\", train_eval_result['auc'])\n",
    "    #mlflow.log_metric(\"test\", test_eval_result['auc'])\n",
    "\n",
    "    return train_eval_result, None  #, test_eval_result\n",
    "\n",
    "\n",
    "def train(clf: tf.estimator.Estimator,\n",
    "          epochs,\n",
    "          train_input_fn,\n",
    "          test_input_fn,\n",
    "          initial_eval=True) -> dict:\n",
    "    \"\"\"trains the model for `epoch` interations\"\"\"\n",
    "\n",
    "    #     mlflow.start_run(experiment_id=EXPERIMENT_ID, run_name=None)\n",
    "    #     for k,v in hparams.values().items():\n",
    "    #         mlflow.log_param(k,v)\n",
    "    #     mlflow.log_param(\"batch_size\", BATCH_SIZE)\n",
    "    #     mlflow.log_param(\"epochs\", EPOCHS)\n",
    "\n",
    "    if initial_eval:\n",
    "        print(\"Initial Eval:\")\n",
    "        evaluate(clf, train_input_fn(False), test_input_fn)\n",
    "\n",
    "    for epoch in range(epochs):\n",
    "        print(\"Epoch: \", epoch)\n",
    "        clf.train(input_fn=train_input_fn(True), )\n",
    "        train, test = evaluate(clf, train_input_fn(False), test_input_fn)\n",
    "\n",
    "    #DO final eval on the TRUTH set\n",
    "    #print(\"Final eval:\")\n",
    "    #train,test,truth = evaluate(clf, train_input_fn, test_input_fn, predict_test_input_fn)\n",
    "    #mlflow.log_metric(\"truth\", truth['auc'])\n",
    "\n",
    "    #mlflow.end_run()"
   ]
  },
  {
   "cell_type": "code",
   "execution_count": 169,
   "metadata": {
    "ExecuteTime": {
     "end_time": "2020-07-30T20:33:04.443242Z",
     "start_time": "2020-07-30T20:33:04.366009Z"
    }
   },
   "outputs": [
    {
     "name": "stdout",
     "output_type": "stream",
     "text": [
      "1800\n"
     ]
    },
    {
     "data": {
      "text/plain": [
       "(<function __main__.<lambda>(shuffle)>,\n",
       " <function __main__.<lambda>()>,\n",
       " ([IndicatorColumn(categorical_column=VocabularyFileCategoricalColumn(key='word_tokens', vocabulary_file='data/word_vocab', vocabulary_size=284, num_oov_buckets=5, dtype=tf.string, default_value=-1))],\n",
       "  [EmbeddingColumn(categorical_column=VocabularyFileCategoricalColumn(key='tokens', vocabulary_file='data/vocab', vocabulary_size=9183, num_oov_buckets=5, dtype=tf.string, default_value=-1), dimension=128, combiner='sqrtn', initializer=<tensorflow.python.ops.init_ops.TruncatedNormal object at 0x7fbfd329da90>, ckpt_to_load_from=None, tensor_name_in_ckpt=None, max_norm=None, trainable=True),\n",
       "   BucketizedColumn(source_column=NumericColumn(key='slen', shape=(1,), default_value=None, dtype=tf.float32, normalizer_fn=None), boundaries=(0, 1, 2, 3, 4))]),\n",
       " HParams([('batch_norm', False), ('dropout', 0.0), ('emb_dim', 128), ('hidden_units', [100]), ('ngram_range', (1, 3)), ('optimizer', <function <lambda> at 0x7fbfcb6d5f28>), ('tokenizer', <TokenizationModes.CHAR: 'char'>)]))"
      ]
     },
     "execution_count": 169,
     "metadata": {},
     "output_type": "execute_result"
    }
   ],
   "source": [
    "EPOCHS = 50\n",
    "BATCH_SIZE = 512\n",
    "HIDDEN_UNITS = [100]\n",
    "DROPOUT = 0.0\n",
    "BATCH_NORM = False  #BN does not work\n",
    "EMB_DIM = 128\n",
    "TOKENIZER_MODE = TokenizationModes.CHAR\n",
    "NGRAM_RANGE = (1, 3)\n",
    "TAKE = None\n",
    "n_classes = len(LABEL_SET)\n",
    "training_steps = (N * EPOCHS)\n",
    "print(training_steps)\n",
    "VERBOSE = False\n",
    "\n",
    "#os.environ['TF_CPP_MIN_LOG_LEVEL'] = '0'  # or any {'0', '1', '2'}\n",
    "\n",
    "if VERBOSE:\n",
    "    tf.logging.set_verbosity(tf.logging.INFO)\n",
    "else:\n",
    "    tf.logging.set_verbosity(tf.logging.WARN)\n",
    "\n",
    "train_input_fn = lambda shuffle: lambda: make_dataset(train_dataset_path,\n",
    "                                                  BATCH_SIZE,\n",
    "                                                  n_classes,\n",
    "                                                  tokenizer_mode=TOKENIZER_MODE,\n",
    "                                                  take=TAKE,\n",
    "                                                  shuffle=shuffle,\n",
    "                                                  one_hot=False,\n",
    "                                                  epochs=1)\n",
    "test_input_fn = lambda: make_truth_dataset(TEST_SET_PATH, LABEL_SET,\n",
    "                                           tokenizer_mode=TOKENIZER_MODE)\n",
    "\n",
    "feature_columns = make_feature_columns(vocab_file=\"data/vocab\",\n",
    "                                       dimension=EMB_DIM)\n",
    "\n",
    "\n",
    "opt = lambda: tf_opt_list.optimizer_for_idx(\n",
    "    0, training_steps, iteration=tf.train.get_global_step())\n",
    "\n",
    "hparams = tf.contrib.training.HParams(\n",
    "    optimizer=opt,\n",
    "    batch_norm=BATCH_NORM,\n",
    "    hidden_units=HIDDEN_UNITS,\n",
    "    dropout=DROPOUT,\n",
    "    tokenizer=TOKENIZER_MODE,\n",
    "    ngram_range=NGRAM_RANGE,\n",
    "    emb_dim=EMB_DIM,\n",
    ")\n",
    "\n",
    "train_input_fn, test_input_fn, feature_columns, hparams"
   ]
  },
  {
   "cell_type": "markdown",
   "metadata": {
    "heading_collapsed": true
   },
   "source": [
    "#### Training"
   ]
  },
  {
   "cell_type": "code",
   "execution_count": 170,
   "metadata": {
    "ExecuteTime": {
     "end_time": "2020-07-30T20:39:23.355987Z",
     "start_time": "2020-07-30T20:33:04.445162Z"
    },
    "hidden": true,
    "scrolled": true
   },
   "outputs": [
    {
     "name": "stderr",
     "output_type": "stream",
     "text": [
      "Using temporary folder as model directory: /tmp/tmpci3534cc\n",
      "Using temporary folder as model directory: /tmp/tmp5spo50nd\n",
      "Using temporary folder as model directory: /tmp/tmpovqc_982\n"
     ]
    },
    {
     "name": "stdout",
     "output_type": "stream",
     "text": [
      "/tmp/tmpci3534cc\n",
      "training...\n",
      "Initial Eval:\n",
      "Training set accuracy: 0.11630845814943314\n",
      "Test set auc: 0.2023121416568756\n",
      "Epoch:  0\n",
      "Training set accuracy: 0.40807202458381653\n",
      "Test set auc: 0.43352600932121277\n",
      "Epoch:  1\n",
      "Training set accuracy: 0.7206817865371704\n",
      "Test set auc: 0.6319845914840698\n",
      "Epoch:  2\n",
      "Training set accuracy: 0.8014930486679077\n",
      "Test set auc: 0.69749516248703\n",
      "Epoch:  3\n",
      "Training set accuracy: 0.8803929686546326\n",
      "Test set auc: 0.7418111562728882\n",
      "Epoch:  4\n",
      "Training set accuracy: 0.9051980972290039\n",
      "Test set auc: 0.7610790133476257\n",
      "Epoch:  5\n",
      "Training set accuracy: 0.9281960129737854\n",
      "Test set auc: 0.7649325728416443\n",
      "Epoch:  6\n",
      "Training set accuracy: 0.9408481121063232\n",
      "Test set auc: 0.7784200310707092\n",
      "Epoch:  7\n",
      "Training set accuracy: 0.9553030729293823\n",
      "Test set auc: 0.7764932513237\n",
      "Epoch:  8\n",
      "Training set accuracy: 0.9621273875236511\n",
      "Test set auc: 0.7764932513237\n",
      "Epoch:  9\n",
      "Training set accuracy: 0.9662370085716248\n",
      "Test set auc: 0.7822735905647278\n",
      "Epoch:  10\n",
      "Training set accuracy: 0.9682821035385132\n",
      "Test set auc: 0.7803468108177185\n",
      "Epoch:  11\n",
      "Training set accuracy: 0.9743166565895081\n",
      "Test set auc: 0.7822735905647278\n",
      "Epoch:  12\n",
      "Training set accuracy: 0.9763544201850891\n",
      "Test set auc: 0.7842003703117371\n",
      "Epoch:  13\n",
      "Training set accuracy: 0.9777012467384338\n",
      "Test set auc: 0.7880539298057556\n",
      "Epoch:  14\n",
      "Training set accuracy: 0.979801595211029\n",
      "Test set auc: 0.7822735905647278\n",
      "Epoch:  15\n",
      "Training set accuracy: 0.9821063876152039\n",
      "Test set auc: 0.7899807095527649\n",
      "Epoch:  16\n",
      "Training set accuracy: 0.9829720258712769\n",
      "Test set auc: 0.8015414476394653\n",
      "Epoch:  17\n",
      "Training set accuracy: 0.9796721935272217\n",
      "Test set auc: 0.7880539298057556\n",
      "Epoch:  18\n",
      "Training set accuracy: 0.9772274494171143\n",
      "Test set auc: 0.7842003703117371\n",
      "Epoch:  19\n",
      "Training set accuracy: 0.9798150658607483\n",
      "Test set auc: 0.7861271500587463\n",
      "Epoch:  20\n",
      "Training set accuracy: 0.9836876392364502\n",
      "Test set auc: 0.7938342690467834\n",
      "Epoch:  21\n",
      "Training set accuracy: 0.9724089503288269\n",
      "Test set auc: 0.747591495513916\n",
      "Epoch:  22\n",
      "Training set accuracy: 0.9494767785072327\n",
      "Test set auc: 0.6840077042579651\n",
      "Epoch:  23\n",
      "Training set accuracy: 0.9594913125038147\n",
      "Test set auc: 0.7167630195617676\n",
      "Epoch:  24\n",
      "Training set accuracy: 0.9756850600242615\n",
      "Test set auc: 0.7880539298057556\n",
      "Epoch:  25\n",
      "Training set accuracy: 0.9324848055839539\n",
      "Test set auc: 0.7572254538536072\n",
      "Epoch:  26\n",
      "Training set accuracy: 0.9613398313522339\n",
      "Test set auc: 0.7707129120826721\n",
      "Epoch:  27\n",
      "Training set accuracy: 0.9541946649551392\n",
      "Test set auc: 0.7186897993087769\n",
      "Epoch:  28\n",
      "Training set accuracy: 0.979520320892334\n",
      "Test set auc: 0.7899807095527649\n",
      "Epoch:  29\n",
      "Training set accuracy: 0.985331654548645\n",
      "Test set auc: 0.8034682273864746\n",
      "Epoch:  30\n",
      "Training set accuracy: 0.9865860939025879\n",
      "Test set auc: 0.799614667892456\n",
      "Epoch:  31\n",
      "Training set accuracy: 0.9874688982963562\n",
      "Test set auc: 0.8034682273864746\n",
      "Epoch:  32\n",
      "Training set accuracy: 0.9879215955734253\n",
      "Test set auc: 0.8034682273864746\n",
      "Epoch:  33\n",
      "Training set accuracy: 0.9886032938957214\n",
      "Test set auc: 0.8034682273864746\n",
      "Epoch:  34\n",
      "Training set accuracy: 0.9890696406364441\n",
      "Test set auc: 0.799614667892456\n",
      "Epoch:  35\n",
      "Training set accuracy: 0.9894504547119141\n",
      "Test set auc: 0.799614667892456\n",
      "Epoch:  36\n",
      "Training set accuracy: 0.9900927543640137\n",
      "Test set auc: 0.799614667892456\n",
      "Epoch:  37\n",
      "Training set accuracy: 0.9903938174247742\n",
      "Test set auc: 0.8015414476394653\n",
      "Epoch:  38\n",
      "Training set accuracy: 0.9906142950057983\n",
      "Test set auc: 0.8015414476394653\n",
      "Epoch:  39\n",
      "Training set accuracy: 0.9908044338226318\n",
      "Test set auc: 0.8015414476394653\n",
      "Epoch:  40\n",
      "Training set accuracy: 0.990948498249054\n",
      "Test set auc: 0.8034682273864746\n",
      "Epoch:  41\n",
      "Training set accuracy: 0.9910354018211365\n",
      "Test set auc: 0.8015414476394653\n",
      "Epoch:  42\n",
      "Training set accuracy: 0.9911746382713318\n",
      "Test set auc: 0.8015414476394653\n",
      "Epoch:  43\n",
      "Training set accuracy: 0.9912189841270447\n",
      "Test set auc: 0.8015414476394653\n",
      "Epoch:  44\n",
      "Training set accuracy: 0.9912603497505188\n",
      "Test set auc: 0.8015414476394653\n",
      "Epoch:  45\n",
      "Training set accuracy: 0.9913134574890137\n",
      "Test set auc: 0.8034682273864746\n",
      "Epoch:  46\n",
      "Training set accuracy: 0.9913116097450256\n",
      "Test set auc: 0.8034682273864746\n",
      "Epoch:  47\n",
      "Training set accuracy: 0.9913269281387329\n",
      "Test set auc: 0.8034682273864746\n",
      "Epoch:  48\n",
      "Training set accuracy: 0.9913182258605957\n",
      "Test set auc: 0.8034682273864746\n",
      "Epoch:  49\n",
      "Training set accuracy: 0.9913043975830078\n",
      "Test set auc: 0.8034682273864746\n",
      "CPU times: user 8min 28s, sys: 31.6 s, total: 8min 59s\n",
      "Wall time: 6min 18s\n"
     ]
    }
   ],
   "source": [
    "%%time \n",
    "run_config = tf.estimator.RunConfig(tf_random_seed=666)\n",
    "classifier = get_estimator(feature_columns, hparams, len(LABEL_SET), run_config)\n",
    "print(classifier.model_dir)\n",
    "\n",
    "print(\"training...\")\n",
    "train(classifier, EPOCHS, train_input_fn, test_input_fn, initial_eval=True) #20m/epoch@700"
   ]
  },
  {
   "cell_type": "code",
   "execution_count": 171,
   "metadata": {
    "ExecuteTime": {
     "end_time": "2020-07-30T20:39:25.791658Z",
     "start_time": "2020-07-30T20:39:23.358187Z"
    },
    "hidden": true
   },
   "outputs": [
    {
     "name": "stdout",
     "output_type": "stream",
     "text": [
      "predicted distribution\n",
      "2    8419\n",
      "1    7395\n",
      "3    1795\n",
      "8    403 \n",
      "0    188 \n",
      "5    69  \n",
      "4    38  \n",
      "7    18  \n",
      "6    14  \n",
      "dtype: int64\n",
      "actual distribution\n",
      "1    8360\n",
      "2    7471\n",
      "3    1800\n",
      "8    408 \n",
      "0    170 \n",
      "5    69  \n",
      "4    32  \n",
      "7    15  \n",
      "6    14  \n",
      "Name: label, dtype: int64\n",
      "              precision    recall  f1-score   support\n",
      "\n",
      "     CUISINE       0.86      0.95      0.90       170\n",
      "        DISH       0.94      0.83      0.88      8360\n",
      "  RESTAURANT       0.83      0.94      0.88      7471\n",
      "     ADDRESS       1.00      1.00      1.00      1800\n",
      "        DIET       0.68      0.81      0.74        32\n",
      "     ALCOHOL       0.97      0.97      0.97        69\n",
      "     TOBACCO       0.93      0.93      0.93        14\n",
      "   MEAL_TIME       0.78      0.93      0.85        15\n",
      "       OTHER       0.99      0.98      0.99       408\n",
      "\n",
      "    accuracy                           0.89     18339\n",
      "   macro avg       0.89      0.93      0.90     18339\n",
      "weighted avg       0.90      0.89      0.89     18339\n",
      "\n"
     ]
    },
    {
     "data": {
      "image/png": "[encoded data removed]",
      "text/plain": [
       "<Figure size 432x432 with 2 Axes>"
      ]
     },
     "metadata": {
      "image/png": {
       "height": 387,
       "width": 427
      },
      "needs_background": "light"
     },
     "output_type": "display_data"
    }
   ],
   "source": [
    "predictor = classifier.predict(train_input_fn(False), yield_single_examples=True)\n",
    "y_pred_train = np.array([np.argmax(pred['probabilities']) for pred in predictor])\n",
    "classification_report_TF(y_pred_train, df_train.label, LABEL_SET)\n"
   ]
  },
  {
   "cell_type": "code",
   "execution_count": 172,
   "metadata": {
    "ExecuteTime": {
     "end_time": "2020-07-30T20:39:27.766154Z",
     "start_time": "2020-07-30T20:39:25.794174Z"
    },
    "hidden": true
   },
   "outputs": [
    {
     "name": "stdout",
     "output_type": "stream",
     "text": [
      "predicted distribution\n",
      "1    258\n",
      "2    188\n",
      "0    43 \n",
      "3    8  \n",
      "8    7  \n",
      "7    4  \n",
      "5    4  \n",
      "4    4  \n",
      "6    3  \n",
      "dtype: int64\n",
      "actual distribution\n",
      "1    253\n",
      "2    150\n",
      "8    47 \n",
      "0    47 \n",
      "3    6  \n",
      "7    5  \n",
      "5    4  \n",
      "4    4  \n",
      "6    3  \n",
      "Name: label, dtype: int64\n",
      "              precision    recall  f1-score   support\n",
      "\n",
      "     CUISINE       0.93      0.85      0.89        47\n",
      "        DISH       0.86      0.88      0.87       253\n",
      "  RESTAURANT       0.69      0.87      0.77       150\n",
      "     ADDRESS       0.75      1.00      0.86         6\n",
      "        DIET       0.75      0.75      0.75         4\n",
      "     ALCOHOL       1.00      1.00      1.00         4\n",
      "     TOBACCO       1.00      1.00      1.00         3\n",
      "   MEAL_TIME       0.75      0.60      0.67         5\n",
      "       OTHER       0.71      0.11      0.19        47\n",
      "\n",
      "    accuracy                           0.80       519\n",
      "   macro avg       0.83      0.78      0.78       519\n",
      "weighted avg       0.81      0.80      0.78       519\n",
      "\n"
     ]
    },
    {
     "data": {
      "image/png": "[encoded data removed]",
      "text/plain": [
       "<Figure size 432x432 with 2 Axes>"
      ]
     },
     "metadata": {
      "image/png": {
       "height": 391,
       "width": 427
      },
      "needs_background": "light"
     },
     "output_type": "display_data"
    }
   ],
   "source": [
    "predictor = classifier.predict(test_input_fn, yield_single_examples=True)\n",
    "y_pred_true = np.array([np.argmax(pred['probabilities']) for pred in predictor])\n",
    "classification_report_TF(y_pred_true, df_test.label, LABEL_SET)"
   ]
  },
  {
   "cell_type": "markdown",
   "metadata": {
    "heading_collapsed": true
   },
   "source": [
    "#### Testing"
   ]
  },
  {
   "cell_type": "code",
   "execution_count": 173,
   "metadata": {
    "ExecuteTime": {
     "end_time": "2020-07-30T20:39:28.924075Z",
     "start_time": "2020-07-30T20:39:27.771344Z"
    },
    "hidden": true
   },
   "outputs": [
    {
     "data": {
      "text/html": [
       "<div>\n",
       "<style scoped>\n",
       "    .dataframe tbody tr th:only-of-type {\n",
       "        vertical-align: middle;\n",
       "    }\n",
       "\n",
       "    .dataframe tbody tr th {\n",
       "        vertical-align: top;\n",
       "    }\n",
       "\n",
       "    .dataframe thead th {\n",
       "        text-align: right;\n",
       "    }\n",
       "</style>\n",
       "<table border=\"1\" class=\"dataframe\">\n",
       "  <thead>\n",
       "    <tr style=\"text-align: right;\">\n",
       "      <th></th>\n",
       "      <th>query</th>\n",
       "      <th>intent</th>\n",
       "      <th>label</th>\n",
       "      <th>pred</th>\n",
       "      <th>match</th>\n",
       "    </tr>\n",
       "  </thead>\n",
       "  <tbody>\n",
       "    <tr>\n",
       "      <th>0</th>\n",
       "      <td>pizza</td>\n",
       "      <td>DISH</td>\n",
       "      <td>1</td>\n",
       "      <td>1</td>\n",
       "      <td>True</td>\n",
       "    </tr>\n",
       "    <tr>\n",
       "      <th>1</th>\n",
       "      <td>chinese</td>\n",
       "      <td>CUISINE</td>\n",
       "      <td>0</td>\n",
       "      <td>0</td>\n",
       "      <td>True</td>\n",
       "    </tr>\n",
       "    <tr>\n",
       "      <th>2</th>\n",
       "      <td>salad</td>\n",
       "      <td>DISH</td>\n",
       "      <td>1</td>\n",
       "      <td>1</td>\n",
       "      <td>True</td>\n",
       "    </tr>\n",
       "    <tr>\n",
       "      <th>4</th>\n",
       "      <td>1211 algeria ave</td>\n",
       "      <td>ADDRESS</td>\n",
       "      <td>3</td>\n",
       "      <td>3</td>\n",
       "      <td>True</td>\n",
       "    </tr>\n",
       "    <tr>\n",
       "      <th>5</th>\n",
       "      <td>601 n broadway denver co 80204</td>\n",
       "      <td>ADDRESS</td>\n",
       "      <td>3</td>\n",
       "      <td>3</td>\n",
       "      <td>True</td>\n",
       "    </tr>\n",
       "    <tr>\n",
       "      <th>6</th>\n",
       "      <td>845 clermont st</td>\n",
       "      <td>ADDRESS</td>\n",
       "      <td>3</td>\n",
       "      <td>3</td>\n",
       "      <td>True</td>\n",
       "    </tr>\n",
       "    <tr>\n",
       "      <th>7</th>\n",
       "      <td>harvard ave l</td>\n",
       "      <td>ADDRESS</td>\n",
       "      <td>3</td>\n",
       "      <td>3</td>\n",
       "      <td>True</td>\n",
       "    </tr>\n",
       "    <tr>\n",
       "      <th>8</th>\n",
       "      <td>thai 60614</td>\n",
       "      <td>ADDRESS</td>\n",
       "      <td>3</td>\n",
       "      <td>3</td>\n",
       "      <td>True</td>\n",
       "    </tr>\n",
       "    <tr>\n",
       "      <th>9</th>\n",
       "      <td>alcohol</td>\n",
       "      <td>ALCOHOL</td>\n",
       "      <td>5</td>\n",
       "      <td>5</td>\n",
       "      <td>True</td>\n",
       "    </tr>\n",
       "    <tr>\n",
       "      <th>10</th>\n",
       "      <td>american</td>\n",
       "      <td>CUISINE</td>\n",
       "      <td>0</td>\n",
       "      <td>0</td>\n",
       "      <td>True</td>\n",
       "    </tr>\n",
       "    <tr>\n",
       "      <th>11</th>\n",
       "      <td>asian</td>\n",
       "      <td>CUISINE</td>\n",
       "      <td>0</td>\n",
       "      <td>0</td>\n",
       "      <td>True</td>\n",
       "    </tr>\n",
       "    <tr>\n",
       "      <th>12</th>\n",
       "      <td>bakery</td>\n",
       "      <td>CUISINE</td>\n",
       "      <td>0</td>\n",
       "      <td>0</td>\n",
       "      <td>True</td>\n",
       "    </tr>\n",
       "    <tr>\n",
       "      <th>13</th>\n",
       "      <td>bbq</td>\n",
       "      <td>CUISINE</td>\n",
       "      <td>0</td>\n",
       "      <td>0</td>\n",
       "      <td>True</td>\n",
       "    </tr>\n",
       "    <tr>\n",
       "      <th>14</th>\n",
       "      <td>cajun</td>\n",
       "      <td>CUISINE</td>\n",
       "      <td>0</td>\n",
       "      <td>0</td>\n",
       "      <td>True</td>\n",
       "    </tr>\n",
       "    <tr>\n",
       "      <th>15</th>\n",
       "      <td>carribbean</td>\n",
       "      <td>CUISINE</td>\n",
       "      <td>0</td>\n",
       "      <td>0</td>\n",
       "      <td>True</td>\n",
       "    </tr>\n",
       "    <tr>\n",
       "      <th>16</th>\n",
       "      <td>cracker barrel</td>\n",
       "      <td>RESTAURANT</td>\n",
       "      <td>2</td>\n",
       "      <td>2</td>\n",
       "      <td>True</td>\n",
       "    </tr>\n",
       "    <tr>\n",
       "      <th>17</th>\n",
       "      <td>deli</td>\n",
       "      <td>CUISINE</td>\n",
       "      <td>0</td>\n",
       "      <td>0</td>\n",
       "      <td>True</td>\n",
       "    </tr>\n",
       "    <tr>\n",
       "      <th>18</th>\n",
       "      <td>domincan</td>\n",
       "      <td>CUISINE</td>\n",
       "      <td>0</td>\n",
       "      <td>0</td>\n",
       "      <td>True</td>\n",
       "    </tr>\n",
       "    <tr>\n",
       "      <th>19</th>\n",
       "      <td>dominican</td>\n",
       "      <td>CUISINE</td>\n",
       "      <td>0</td>\n",
       "      <td>0</td>\n",
       "      <td>True</td>\n",
       "    </tr>\n",
       "    <tr>\n",
       "      <th>20</th>\n",
       "      <td>german</td>\n",
       "      <td>CUISINE</td>\n",
       "      <td>0</td>\n",
       "      <td>0</td>\n",
       "      <td>True</td>\n",
       "    </tr>\n",
       "    <tr>\n",
       "      <th>21</th>\n",
       "      <td>greek</td>\n",
       "      <td>CUISINE</td>\n",
       "      <td>0</td>\n",
       "      <td>0</td>\n",
       "      <td>True</td>\n",
       "    </tr>\n",
       "    <tr>\n",
       "      <th>22</th>\n",
       "      <td>greek food</td>\n",
       "      <td>CUISINE</td>\n",
       "      <td>0</td>\n",
       "      <td>0</td>\n",
       "      <td>True</td>\n",
       "    </tr>\n",
       "    <tr>\n",
       "      <th>23</th>\n",
       "      <td>hawaiian</td>\n",
       "      <td>CUISINE</td>\n",
       "      <td>0</td>\n",
       "      <td>0</td>\n",
       "      <td>True</td>\n",
       "    </tr>\n",
       "    <tr>\n",
       "      <th>24</th>\n",
       "      <td>indian</td>\n",
       "      <td>CUISINE</td>\n",
       "      <td>0</td>\n",
       "      <td>0</td>\n",
       "      <td>True</td>\n",
       "    </tr>\n",
       "    <tr>\n",
       "      <th>25</th>\n",
       "      <td>irish</td>\n",
       "      <td>CUISINE</td>\n",
       "      <td>0</td>\n",
       "      <td>0</td>\n",
       "      <td>True</td>\n",
       "    </tr>\n",
       "    <tr>\n",
       "      <th>26</th>\n",
       "      <td>italian</td>\n",
       "      <td>CUISINE</td>\n",
       "      <td>0</td>\n",
       "      <td>0</td>\n",
       "      <td>True</td>\n",
       "    </tr>\n",
       "    <tr>\n",
       "      <th>27</th>\n",
       "      <td>jamaican</td>\n",
       "      <td>CUISINE</td>\n",
       "      <td>0</td>\n",
       "      <td>0</td>\n",
       "      <td>True</td>\n",
       "    </tr>\n",
       "    <tr>\n",
       "      <th>28</th>\n",
       "      <td>japanese</td>\n",
       "      <td>CUISINE</td>\n",
       "      <td>0</td>\n",
       "      <td>0</td>\n",
       "      <td>True</td>\n",
       "    </tr>\n",
       "    <tr>\n",
       "      <th>29</th>\n",
       "      <td>korean</td>\n",
       "      <td>CUISINE</td>\n",
       "      <td>0</td>\n",
       "      <td>0</td>\n",
       "      <td>True</td>\n",
       "    </tr>\n",
       "    <tr>\n",
       "      <th>30</th>\n",
       "      <td>mediterranean</td>\n",
       "      <td>CUISINE</td>\n",
       "      <td>0</td>\n",
       "      <td>0</td>\n",
       "      <td>True</td>\n",
       "    </tr>\n",
       "    <tr>\n",
       "      <th>...</th>\n",
       "      <td>...</td>\n",
       "      <td>...</td>\n",
       "      <td>...</td>\n",
       "      <td>...</td>\n",
       "      <td>...</td>\n",
       "    </tr>\n",
       "    <tr>\n",
       "      <th>481</th>\n",
       "      <td>honey grow</td>\n",
       "      <td>RESTAURANT</td>\n",
       "      <td>2</td>\n",
       "      <td>2</td>\n",
       "      <td>True</td>\n",
       "    </tr>\n",
       "    <tr>\n",
       "      <th>482</th>\n",
       "      <td>houstons</td>\n",
       "      <td>RESTAURANT</td>\n",
       "      <td>2</td>\n",
       "      <td>2</td>\n",
       "      <td>True</td>\n",
       "    </tr>\n",
       "    <tr>\n",
       "      <th>483</th>\n",
       "      <td>ikura</td>\n",
       "      <td>RESTAURANT</td>\n",
       "      <td>2</td>\n",
       "      <td>2</td>\n",
       "      <td>True</td>\n",
       "    </tr>\n",
       "    <tr>\n",
       "      <th>484</th>\n",
       "      <td>lorenzo</td>\n",
       "      <td>RESTAURANT</td>\n",
       "      <td>2</td>\n",
       "      <td>2</td>\n",
       "      <td>True</td>\n",
       "    </tr>\n",
       "    <tr>\n",
       "      <th>485</th>\n",
       "      <td>juul</td>\n",
       "      <td>TOBACCO</td>\n",
       "      <td>6</td>\n",
       "      <td>6</td>\n",
       "      <td>True</td>\n",
       "    </tr>\n",
       "    <tr>\n",
       "      <th>486</th>\n",
       "      <td>papusa</td>\n",
       "      <td>DISH</td>\n",
       "      <td>1</td>\n",
       "      <td>1</td>\n",
       "      <td>True</td>\n",
       "    </tr>\n",
       "    <tr>\n",
       "      <th>487</th>\n",
       "      <td>pupusa</td>\n",
       "      <td>DISH</td>\n",
       "      <td>1</td>\n",
       "      <td>1</td>\n",
       "      <td>True</td>\n",
       "    </tr>\n",
       "    <tr>\n",
       "      <th>488</th>\n",
       "      <td>starbuck</td>\n",
       "      <td>RESTAURANT</td>\n",
       "      <td>2</td>\n",
       "      <td>2</td>\n",
       "      <td>True</td>\n",
       "    </tr>\n",
       "    <tr>\n",
       "      <th>489</th>\n",
       "      <td>bhelpuri</td>\n",
       "      <td>DISH</td>\n",
       "      <td>1</td>\n",
       "      <td>1</td>\n",
       "      <td>True</td>\n",
       "    </tr>\n",
       "    <tr>\n",
       "      <th>493</th>\n",
       "      <td>pina colada</td>\n",
       "      <td>ALCOHOL</td>\n",
       "      <td>5</td>\n",
       "      <td>5</td>\n",
       "      <td>True</td>\n",
       "    </tr>\n",
       "    <tr>\n",
       "      <th>494</th>\n",
       "      <td>spicy chicken sandwitch</td>\n",
       "      <td>DISH</td>\n",
       "      <td>1</td>\n",
       "      <td>1</td>\n",
       "      <td>True</td>\n",
       "    </tr>\n",
       "    <tr>\n",
       "      <th>495</th>\n",
       "      <td>vegan sandwitch</td>\n",
       "      <td>DISH</td>\n",
       "      <td>1</td>\n",
       "      <td>1</td>\n",
       "      <td>True</td>\n",
       "    </tr>\n",
       "    <tr>\n",
       "      <th>496</th>\n",
       "      <td>taco ball</td>\n",
       "      <td>RESTAURANT</td>\n",
       "      <td>2</td>\n",
       "      <td>2</td>\n",
       "      <td>True</td>\n",
       "    </tr>\n",
       "    <tr>\n",
       "      <th>497</th>\n",
       "      <td>wine</td>\n",
       "      <td>ALCOHOL</td>\n",
       "      <td>5</td>\n",
       "      <td>5</td>\n",
       "      <td>True</td>\n",
       "    </tr>\n",
       "    <tr>\n",
       "      <th>500</th>\n",
       "      <td>zzz</td>\n",
       "      <td>OTHER</td>\n",
       "      <td>8</td>\n",
       "      <td>8</td>\n",
       "      <td>True</td>\n",
       "    </tr>\n",
       "    <tr>\n",
       "      <th>502</th>\n",
       "      <td>908 8th ave #2F</td>\n",
       "      <td>ADDRESS</td>\n",
       "      <td>3</td>\n",
       "      <td>3</td>\n",
       "      <td>True</td>\n",
       "    </tr>\n",
       "    <tr>\n",
       "      <th>503</th>\n",
       "      <td>soups</td>\n",
       "      <td>DISH</td>\n",
       "      <td>1</td>\n",
       "      <td>1</td>\n",
       "      <td>True</td>\n",
       "    </tr>\n",
       "    <tr>\n",
       "      <th>504</th>\n",
       "      <td>burbers</td>\n",
       "      <td>DISH</td>\n",
       "      <td>1</td>\n",
       "      <td>1</td>\n",
       "      <td>True</td>\n",
       "    </tr>\n",
       "    <tr>\n",
       "      <th>505</th>\n",
       "      <td>saldads</td>\n",
       "      <td>DISH</td>\n",
       "      <td>1</td>\n",
       "      <td>1</td>\n",
       "      <td>True</td>\n",
       "    </tr>\n",
       "    <tr>\n",
       "      <th>506</th>\n",
       "      <td>turkey</td>\n",
       "      <td>DISH</td>\n",
       "      <td>1</td>\n",
       "      <td>1</td>\n",
       "      <td>True</td>\n",
       "    </tr>\n",
       "    <tr>\n",
       "      <th>507</th>\n",
       "      <td>turkish</td>\n",
       "      <td>CUISINE</td>\n",
       "      <td>0</td>\n",
       "      <td>0</td>\n",
       "      <td>True</td>\n",
       "    </tr>\n",
       "    <tr>\n",
       "      <th>508</th>\n",
       "      <td>cigaretes</td>\n",
       "      <td>TOBACCO</td>\n",
       "      <td>6</td>\n",
       "      <td>6</td>\n",
       "      <td>True</td>\n",
       "    </tr>\n",
       "    <tr>\n",
       "      <th>509</th>\n",
       "      <td>mcd</td>\n",
       "      <td>RESTAURANT</td>\n",
       "      <td>2</td>\n",
       "      <td>2</td>\n",
       "      <td>True</td>\n",
       "    </tr>\n",
       "    <tr>\n",
       "      <th>510</th>\n",
       "      <td>mediterrean</td>\n",
       "      <td>CUISINE</td>\n",
       "      <td>0</td>\n",
       "      <td>0</td>\n",
       "      <td>True</td>\n",
       "    </tr>\n",
       "    <tr>\n",
       "      <th>511</th>\n",
       "      <td>mediterian</td>\n",
       "      <td>CUISINE</td>\n",
       "      <td>0</td>\n",
       "      <td>0</td>\n",
       "      <td>True</td>\n",
       "    </tr>\n",
       "    <tr>\n",
       "      <th>513</th>\n",
       "      <td>j</td>\n",
       "      <td>OTHER</td>\n",
       "      <td>8</td>\n",
       "      <td>8</td>\n",
       "      <td>True</td>\n",
       "    </tr>\n",
       "    <tr>\n",
       "      <th>514</th>\n",
       "      <td>jj</td>\n",
       "      <td>OTHER</td>\n",
       "      <td>8</td>\n",
       "      <td>8</td>\n",
       "      <td>True</td>\n",
       "    </tr>\n",
       "    <tr>\n",
       "      <th>515</th>\n",
       "      <td>paleo pizza</td>\n",
       "      <td>DISH</td>\n",
       "      <td>1</td>\n",
       "      <td>1</td>\n",
       "      <td>True</td>\n",
       "    </tr>\n",
       "    <tr>\n",
       "      <th>517</th>\n",
       "      <td>mcdonalds</td>\n",
       "      <td>RESTAURANT</td>\n",
       "      <td>2</td>\n",
       "      <td>2</td>\n",
       "      <td>True</td>\n",
       "    </tr>\n",
       "    <tr>\n",
       "      <th>518</th>\n",
       "      <td>vodka</td>\n",
       "      <td>ALCOHOL</td>\n",
       "      <td>5</td>\n",
       "      <td>5</td>\n",
       "      <td>True</td>\n",
       "    </tr>\n",
       "  </tbody>\n",
       "</table>\n",
       "<p>417 rows × 5 columns</p>\n",
       "</div>"
      ],
      "text/plain": [
       "                              query      intent  label  pred  match\n",
       "0    pizza                           DISH        1      1     True \n",
       "1    chinese                         CUISINE     0      0     True \n",
       "2    salad                           DISH        1      1     True \n",
       "4    1211 algeria ave                ADDRESS     3      3     True \n",
       "5    601 n broadway denver co 80204  ADDRESS     3      3     True \n",
       "..                              ...      ...    ..     ..      ... \n",
       "513  j                               OTHER       8      8     True \n",
       "514  jj                              OTHER       8      8     True \n",
       "515  paleo pizza                     DISH        1      1     True \n",
       "517  mcdonalds                       RESTAURANT  2      2     True \n",
       "518  vodka                           ALCOHOL     5      5     True \n",
       "\n",
       "[417 rows x 5 columns]"
      ]
     },
     "execution_count": 173,
     "metadata": {},
     "output_type": "execute_result"
    }
   ],
   "source": [
    "predictor = classifier.predict(test_input_fn, yield_single_examples=True)\n",
    "y_pred_true = np.array([np.argmax(pred['probabilities']) for pred in predictor])\n",
    "\n",
    "df_test['pred']=y_pred_true\n",
    "df_test['match'] = df_test[\"label\"]==df_test[\"pred\"]\n",
    "df_test[df_test.match==True]"
   ]
  },
  {
   "cell_type": "markdown",
   "metadata": {},
   "source": [
    "## Deployment\n"
   ]
  },
  {
   "cell_type": "markdown",
   "metadata": {},
   "source": [
    "\n",
    "1. Seralize TF Graph\n",
    "1. Deseralize Graph (either sideload or TF Serving)"
   ]
  },
  {
   "cell_type": "markdown",
   "metadata": {},
   "source": [
    "### Seralize Graph\n",
    "\n",
    "Export the TF Graph to the SavedModel format for downstream usage."
   ]
  },
  {
   "cell_type": "code",
   "execution_count": 174,
   "metadata": {
    "ExecuteTime": {
     "end_time": "2020-07-30T20:39:28.933153Z",
     "start_time": "2020-07-30T20:39:28.927222Z"
    }
   },
   "outputs": [],
   "source": [
    "np.set_printoptions(suppress=True, precision=2)"
   ]
  },
  {
   "cell_type": "code",
   "execution_count": 175,
   "metadata": {
    "ExecuteTime": {
     "end_time": "2020-07-30T20:39:28.946075Z",
     "start_time": "2020-07-30T20:39:28.935293Z"
    }
   },
   "outputs": [],
   "source": [
    "def serving_input_receiver_fn():\n",
    "    \"\"\"A function that takes no argument and returns a\n",
    "    `tf.estimator.export.ServingInputReceiver\"\"\"\n",
    "    \n",
    "    #1 parse the proto w/ the query string\n",
    "    #2 tokenize the query as \"query\"\n",
    "    #3 embedding picks up \"query\"\n",
    "    \n",
    "    serialized_tf_example = tf.placeholder(\n",
    "            dtype=tf.string,\n",
    "            shape=[None],\n",
    "            name='input_example_tensor')\n",
    "    receiver_tensors = {\"examples\": serialized_tf_example}\n",
    "    feature_spec = {'query': tf.FixedLenFeature([], tf.string, default_value='')}\n",
    "    examples = tf.parse_example(serialized_tf_example, feature_spec)\n",
    "    \n",
    "    queries = examples[\"query\"]\n",
    "    case_folding = tf.strings.lower(queries)\n",
    "    masked_strings = tf.strings.regex_replace(case_folding, \"\\s\", \"_\")\n",
    "    \n",
    "    word_tokens = tf.strings.split(case_folding) #WORDS\n",
    "    tokens = tf.string_split(masked_strings, \"\") #CHARS\n",
    "    with tf.device('/CPU'):\n",
    "        ngrams = tft.ngrams(tokens, (1,3), \"\")\n",
    "    \n",
    "    features = {'tokens': ngrams, \"slen\": tf.strings.length(queries), \"word_tokens\": word_tokens}\n",
    "    \n",
    "    sir = tf.estimator.export.ServingInputReceiver(features, receiver_tensors)\n",
    "    return sir\n",
    "\n"
   ]
  },
  {
   "cell_type": "code",
   "execution_count": 176,
   "metadata": {
    "ExecuteTime": {
     "end_time": "2020-07-30T20:39:34.261050Z",
     "start_time": "2020-07-30T20:39:28.948132Z"
    }
   },
   "outputs": [
    {
     "name": "stdout",
     "output_type": "stream",
     "text": [
      "exports/estimators/1596141568\n"
     ]
    }
   ],
   "source": [
    "export_path = classifier.export_saved_model(\"exports/estimators/\", serving_input_receiver_fn)\n",
    "export_path = export_path.decode()\n",
    "print(export_path)"
   ]
  },
  {
   "cell_type": "code",
   "execution_count": 177,
   "metadata": {
    "ExecuteTime": {
     "end_time": "2020-07-30T20:39:37.252806Z",
     "start_time": "2020-07-30T20:39:34.263650Z"
    }
   },
   "outputs": [
    {
     "name": "stdout",
     "output_type": "stream",
     "text": [
      "WARNING: Logging before flag parsing goes to stderr.\n",
      "W0730 20:39:36.729778 139857153718080 module_wrapper.py:139] From /home/ubuntu/anaconda3/envs/tensorflow_p36/lib/python3.6/site-packages/tensorflow_core/__init__.py:1473: The name tf.estimator.inputs is deprecated. Please use tf.compat.v1.estimator.inputs instead.\n",
      "\n",
      "The given SavedModel SignatureDef contains the following input(s):\n",
      "  inputs['inputs'] tensor_info:\n",
      "      dtype: DT_STRING\n",
      "      shape: (-1)\n",
      "      name: input_example_tensor:0\n",
      "The given SavedModel SignatureDef contains the following output(s):\n",
      "  outputs['classes'] tensor_info:\n",
      "      dtype: DT_STRING\n",
      "      shape: (-1, 9)\n",
      "      name: dnn/head/Tile:0\n",
      "  outputs['scores'] tensor_info:\n",
      "      dtype: DT_FLOAT\n",
      "      shape: (-1, 9)\n",
      "      name: dnn/head/predictions/probabilities:0\n",
      "Method name is: tensorflow/serving/classify\n"
     ]
    }
   ],
   "source": [
    "!saved_model_cli show --dir {export_path} --tag_set serve --sig serving_default"
   ]
  },
  {
   "cell_type": "markdown",
   "metadata": {},
   "source": [
    "### Python Client"
   ]
  },
  {
   "cell_type": "code",
   "execution_count": 178,
   "metadata": {
    "ExecuteTime": {
     "end_time": "2020-07-30T20:39:37.259167Z",
     "start_time": "2020-07-30T20:39:37.255011Z"
    }
   },
   "outputs": [],
   "source": [
    "from tensorflow.python.saved_model import loader"
   ]
  },
  {
   "cell_type": "code",
   "execution_count": 179,
   "metadata": {
    "ExecuteTime": {
     "end_time": "2020-07-30T20:39:37.876533Z",
     "start_time": "2020-07-30T20:39:37.261722Z"
    }
   },
   "outputs": [
    {
     "name": "stdout",
     "output_type": "stream",
     "text": [
      "      taco bell \t                RESTAURANT\t [0. 0. 1. 0. 0. 0. 0. 0. 0.]\n",
      "      taco ball \t                RESTAURANT\t [0.   0.37 0.63 0.   0.   0.   0.   0.   0.  ]\n",
      "            KFC \t                RESTAURANT\t [0. 0. 1. 0. 0. 0. 0. 0. 0.]\n",
      "          sushi \t                      DISH\t [0. 1. 0. 0. 0. 0. 0. 0. 0.]\n",
      "         hancos \t                      DISH\t [0.  0.5 0.5 0.  0.  0.  0.  0.  0. ]\n",
      "       le prive \t                RESTAURANT\t [0. 0. 1. 0. 0. 0. 0. 0. 0.]\n",
      "      le rivage \t                RESTAURANT\t [0.   0.   0.99 0.   0.   0.   0.   0.   0.  ]\n",
      " starbuck coffe \t                RESTAURANT\t [0. 0. 1. 0. 0. 0. 0. 0. 0.]\n",
      "              z \t                      DISH\t [0.02 0.55 0.06 0.01 0.02 0.01 0.02 0.01 0.32]\n",
      "             zz \t                      DISH\t [0.01 0.56 0.03 0.   0.   0.   0.   0.   0.4 ]\n",
      "            zzz \t                     OTHER\t [0.   0.   0.   0.   0.   0.   0.   0.   0.99]\n",
      "              j \t                     OTHER\t [0. 0. 0. 0. 0. 0. 0. 0. 1.]\n",
      "             jj \t                     OTHER\t [0. 0. 0. 0. 0. 0. 0. 0. 1.]\n",
      "           asdf \t                      DISH\t [0.17 0.41 0.07 0.04 0.01 0.   0.02 0.27 0.03]\n",
      "           beer \t                   ALCOHOL\t [0. 0. 0. 0. 0. 1. 0. 0. 0.]\n",
      "           juul \t                   TOBACCO\t [0.   0.   0.   0.   0.   0.   0.98 0.01 0.  ]\n",
      "    paleo pizza \t                      DISH\t [0.   0.82 0.17 0.   0.   0.   0.   0.   0.  ]\n",
      "          pizza \t                      DISH\t [0. 1. 0. 0. 0. 0. 0. 0. 0.]\n",
      "          paleo \t                      DIET\t [0.   0.   0.01 0.   0.98 0.01 0.   0.   0.  ]\n",
      "gluten free pizza \t                      DISH\t [0.   0.47 0.38 0.   0.14 0.   0.   0.   0.  ]\n",
      "         french \t                   CUISINE\t [0.98 0.01 0.01 0.   0.   0.   0.   0.   0.  ]\n",
      "beef bourginion \t                RESTAURANT\t [0.   0.3  0.65 0.   0.   0.05 0.   0.   0.  ]\n",
      "      mcdonalds \t                RESTAURANT\t [0. 0. 1. 0. 0. 0. 0. 0. 0.]\n",
      "            mcd \t                RESTAURANT\t [0. 0. 1. 0. 0. 0. 0. 0. 0.]\n",
      "     cheesecake \t                      DISH\t [0.   0.95 0.05 0.   0.   0.   0.   0.   0.  ]\n",
      "        zzzzzzz \t                     OTHER\t [0. 0. 0. 0. 0. 0. 0. 0. 1.]\n",
      "           wine \t                   ALCOHOL\t [0. 0. 0. 0. 0. 1. 0. 0. 0.]\n",
      "          vodka \t                   ALCOHOL\t [0. 0. 0. 0. 0. 1. 0. 0. 0.]\n",
      "          pizza \t                      DISH\t [0. 1. 0. 0. 0. 0. 0. 0. 0.]\n",
      "                \t                   CUISINE\t [0.16 0.16 0.14 0.07 0.08 0.09 0.08 0.09 0.15]\n",
      "                \t                RESTAURANT\t [0.   0.09 0.51 0.08 0.03 0.01 0.05 0.01 0.22]\n",
      "     mediterian \t                   CUISINE\t [0.69 0.   0.31 0.   0.   0.   0.   0.   0.  ]\n",
      "   jsalfjsalfkj \t                      DISH\t [0.   0.98 0.02 0.   0.   0.   0.   0.   0.  ]\n",
      "carnitas snack shack \t                RESTAURANT\t [0.   0.34 0.66 0.   0.   0.   0.   0.   0.  ]\n",
      "         panera \t                RESTAURANT\t [0. 0. 1. 0. 0. 0. 0. 0. 0.]\n",
      "           wine \t                   ALCOHOL\t [0. 0. 0. 0. 0. 1. 0. 0. 0.]\n",
      "          lunch \t                 MEAL_TIME\t [0. 0. 0. 0. 0. 0. 0. 1. 0.]\n",
      "vegan sandwitch \t                      DISH\t [0. 1. 0. 0. 0. 0. 0. 0. 0.]\n",
      "      bhel puri \t                RESTAURANT\t [0.   0.02 0.98 0.   0.   0.   0.   0.   0.  ]\n",
      "         french \t                   CUISINE\t [0.98 0.01 0.01 0.   0.   0.   0.   0.   0.  ]\n",
      "        frennch \t                 MEAL_TIME\t [0.25 0.18 0.16 0.   0.02 0.   0.   0.37 0.01]\n",
      "         crench \t                      DISH\t [0.39 0.49 0.12 0.   0.   0.   0.   0.01 0.  ]\n",
      "         frennc \t                      DISH\t [0.32 0.39 0.08 0.   0.03 0.   0.   0.16 0.01]\n"
     ]
    }
   ],
   "source": [
    "tag_set = \"serve\"\n",
    "saved_model_dir = export_path\n",
    "output_tensor_names_sorted = [\"dnn/head/Tile:0\", #dnn/head/Tile:0\"\n",
    "                              \"dnn/head/predictions/probabilities:0\"] #dnn/head/predictions/probabilities:0\"\n",
    "\n",
    "input_examples = [\"taco bell\", \"taco ball\", \"KFC\", \"sushi\", \"hancos\", \"le prive\", \"le rivage\", \"starbuck coffe\",\n",
    "                 \"z\", \"zz\", \"zzz\", \"j\", \"jj\", \"asdf\", \"beer\", \"juul\", \"paleo pizza\", \"pizza\", \"paleo\",\n",
    "                 \"gluten free pizza\", \"french\", \"beef bourginion\", \"mcdonalds\", \"mcd\",\n",
    "                  \"cheesecake\", \"zzzzzzz\", \"wine\", \"vodka\", \"pizza\",\n",
    "                 \"\", \" \", \"mediterian\", \"jsalfjsalfkj\", \"carnitas snack shack\", \"panera\", \"wine\", \"lunch\",\n",
    "                 \"vegan sandwitch\", \"bhel puri\", \"french\", \"frennch\", \"crench\", \"frennc\"]\n",
    "proto_str = make_examples(input_examples, \"query\")\n",
    "inputs_feed_dict = {\"input_example_tensor:0\": proto_str}\n",
    "\n",
    "CLASS_NAMES = np.array(LABEL_SET)\n",
    "\n",
    "with tf.Session(graph=tf.Graph()) as sess:\n",
    "    loader.load(sess, tag_set.split(','), saved_model_dir)\n",
    "    outputs = sess.run(output_tensor_names_sorted,\n",
    "                       feed_dict=inputs_feed_dict)\n",
    "    for inputs, outputs in zip(input_examples, outputs[1]):\n",
    "        print(\"%15s \\t %25s\\t %s\"%(inputs, CLASS_NAMES[np.argmax(outputs)], outputs))\n",
    "        \n"
   ]
  },
  {
   "cell_type": "markdown",
   "metadata": {},
   "source": [
    "### Java Client"
   ]
  },
  {
   "cell_type": "markdown",
   "metadata": {
    "ExecuteTime": {
     "end_time": "2020-07-30T19:21:43.325418Z",
     "start_time": "2020-07-30T19:21:43.214975Z"
    }
   },
   "source": [
    "```java\n",
    "import org.tensorflow.Graph;\n",
    "import org.tensorflow.Session;\n",
    "import org.tensorflow.Tensor;\n",
    "import org.tensorflow.Tensors;\n",
    "import org.tensorflow.TensorFlow;\n",
    "import org.tensorflow.SavedModelBundle;\n",
    "import org.tensorflow.SavedModelBundle.Loader;\n",
    "import org.tensorflow.example.*;\n",
    "import com.google.protobuf.ByteString;\n",
    "import java.util.Map;\n",
    "import java.util.Arrays;\n",
    "import java.util.List;\n",
    "import java.util.ArrayList;  \n",
    "\n",
    "public class IntentClf {\n",
    "\n",
    "  public static void main(String[] args) throws Exception {\n",
    "\n",
    "\n",
    "      SavedModelBundle bundle = SavedModelBundle.load(\"../exports/1571070667\", \"serve\");\n",
    "\n",
    "    Graph graph = bundle.graph();\n",
    "\n",
    "    String query = \"taco bell\";\n",
    "    ByteString byteString = ByteString.copyFrom(query, \"ascii\");\n",
    "    BytesList byteList = BytesList.newBuilder().addValue(byteString).build();\n",
    "    Feature offset = Feature.newBuilder().setBytesList(byteList).build();\n",
    "\n",
    "    Features features = Features.newBuilder().putFeature(\"query\", offset).build();\n",
    "    Example example = Example.newBuilder().setFeatures(features).build();\n",
    "    byte[][] seralized_examples = new byte[1][];\n",
    "    seralized_examples[0]=example.toByteArray();\n",
    "\n",
    "    Tensor<String> inputBatch = Tensors.create(seralized_examples);\n",
    "\n",
    "    final String input_tensor = \"input_example_tensor\";\n",
    "    final String output_tensor = \"dnn/head/predictions/probabilities\";\n",
    "\n",
    "    Tensor<Float> result = bundle.session().runner()\n",
    "          .feed(input_tensor, inputBatch)\n",
    "          .fetch(output_tensor)\n",
    "          .run().get(0)\n",
    "          .expect(Float.class);\n",
    "\n",
    "    System.out.println(Arrays.deepToString(result.copyTo(new float[1][9])));  //4 b/c this model has 9 classes\n",
    "  }\n",
    "}\n",
    "```"
   ]
  },
  {
   "cell_type": "markdown",
   "metadata": {},
   "source": [
    "### Publish Module\n",
    "\n",
    "push w/ pypi repo:"
   ]
  },
  {
   "cell_type": "markdown",
   "metadata": {
    "ExecuteTime": {
     "end_time": "2020-07-30T19:14:40.467030Z",
     "start_time": "2020-07-30T19:14:40.408614Z"
    }
   },
   "source": [
    "`make release` -> `twine upload --repository pypi dist/*`"
   ]
  },
  {
   "cell_type": "code",
   "execution_count": 180,
   "metadata": {
    "ExecuteTime": {
     "end_time": "2020-07-30T20:39:52.553035Z",
     "start_time": "2020-07-30T20:39:37.879308Z"
    }
   },
   "outputs": [
    {
     "name": "stdout",
     "output_type": "stream",
     "text": [
      "Converted 00_core.ipynb.\n",
      "Converted Constants.ipynb.\n",
      "Converted ETL.ipynb.\n",
      "Converted TF_data.ipynb.\n",
      "Converted Utils.ipynb.\n",
      "Converted dask_monkey_patches.ipynb.\n",
      "Converted fasttext.ipynb.\n",
      "Converted focal_loss.ipynb.\n",
      "Converted gibberish_detector.ipynb.\n",
      "Converted index.ipynb.\n",
      "Converted versioning tests.ipynb.\n"
     ]
    }
   ],
   "source": [
    "from nbdev.export import *\n",
    "notebook2script()"
   ]
  },
  {
   "cell_type": "markdown",
   "metadata": {},
   "source": [
    "## Instrumentalization"
   ]
  },
  {
   "cell_type": "markdown",
   "metadata": {},
   "source": [
    "We want to retrain the model periodicly, outside of the notebook setting.\n",
    "\n",
    "Integrate package w/ deployment branch"
   ]
  }
 ],
 "metadata": {
  "kernelspec": {
   "display_name": "Python [conda env:tensorflow_p36]",
   "language": "python",
   "name": "conda-env-tensorflow_p36-py"
  },
  "language_info": {
   "codemirror_mode": {
    "name": "ipython",
    "version": 3
   },
   "file_extension": ".py",
   "mimetype": "text/x-python",
   "name": "python",
   "nbconvert_exporter": "python",
   "pygments_lexer": "ipython3",
   "version": "3.6.10"
  },
  "toc": {
   "base_numbering": 1,
   "nav_menu": {},
   "number_sections": true,
   "sideBar": true,
   "skip_h1_title": false,
   "title_cell": "Table of Contents",
   "title_sidebar": "Contents",
   "toc_cell": false,
   "toc_position": {
    "height": "calc(100% - 180px)",
    "left": "10px",
    "top": "150px",
    "width": "165px"
   },
   "toc_section_display": true,
   "toc_window_display": true
  }
 },
 "nbformat": 4,
 "nbformat_minor": 2
}
